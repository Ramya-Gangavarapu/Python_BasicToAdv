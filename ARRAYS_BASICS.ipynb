{
  "nbformat": 4,
  "nbformat_minor": 0,
  "metadata": {
    "colab": {
      "provenance": []
    },
    "kernelspec": {
      "name": "python3",
      "display_name": "Python 3"
    },
    "language_info": {
      "name": "python"
    }
  },
  "cells": [
    {
      "cell_type": "markdown",
      "source": [
        "# ***ARRAYS***"
      ],
      "metadata": {
        "id": "T3ic37n-Z-pP"
      }
    },
    {
      "cell_type": "code",
      "execution_count": null,
      "metadata": {
        "id": "81j6UbsLGFzZ"
      },
      "outputs": [],
      "source": [
        "import array as arr\n",
        "a = [1,2,3]"
      ]
    },
    {
      "cell_type": "code",
      "source": [
        "a.append(4)\n"
      ],
      "metadata": {
        "id": "Kh4U2Kw5JDO9"
      },
      "execution_count": null,
      "outputs": []
    },
    {
      "cell_type": "code",
      "source": [
        "a.extend([5,6,7,8,9,10])\n"
      ],
      "metadata": {
        "id": "x4409bSBJHco"
      },
      "execution_count": null,
      "outputs": []
    },
    {
      "cell_type": "code",
      "source": [
        "a += [1,2,3]\n"
      ],
      "metadata": {
        "id": "b3FH7Q2XJUPf"
      },
      "execution_count": null,
      "outputs": []
    },
    {
      "cell_type": "code",
      "source": [
        "a += [4,5,6]\n"
      ],
      "metadata": {
        "id": "bEh7GyxKJe0k"
      },
      "execution_count": null,
      "outputs": []
    },
    {
      "cell_type": "code",
      "source": [
        "a += [1,2,3]\n",
        "\n"
      ],
      "metadata": {
        "id": "sceUQ8mXJlTA"
      },
      "execution_count": null,
      "outputs": []
    },
    {
      "cell_type": "code",
      "source": [
        "print(a, end = ' ') #The purpose of using the end parameter with a space character is to ensure that the next output (if any) appears on the same line as the list output, separated by a space."
      ],
      "metadata": {
        "colab": {
          "base_uri": "https://localhost:8080/"
        },
        "id": "IpuT1fvLJpQn",
        "outputId": "af63c814-895f-496a-e2da-e75f91a58abd"
      },
      "execution_count": null,
      "outputs": [
        {
          "output_type": "stream",
          "name": "stdout",
          "text": [
            "[1, 2, 3, 4, 5, 6, 7, 8, 9, 10, 1, 2, 3, 4, 5, 6, 1, 2, 3] "
          ]
        }
      ]
    },
    {
      "cell_type": "code",
      "source": [
        "# Inserting the value 7 at the index -3 in the list 'a'\n",
        "a.insert(-3, 7)\n"
      ],
      "metadata": {
        "colab": {
          "base_uri": "https://localhost:8080/"
        },
        "id": "qiBJmcDEKST6",
        "outputId": "d031bb02-7a70-4c38-b22b-6ec26fab588a"
      },
      "execution_count": null,
      "outputs": [
        {
          "output_type": "stream",
          "name": "stdout",
          "text": [
            "[1, 2, 3, 4, 5, 6, 7, 8, 9, 10, 1, 2, 3, 4, 5, 6, 7, 1, 2, 3]\n"
          ]
        }
      ]
    },
    {
      "cell_type": "code",
      "source": [
        "# Extending the list 'a' by adding sublists [[4, 5], [6, 7]]\n",
        "a +=[[4,5],[6,7]]\n",
        "a"
      ],
      "metadata": {
        "colab": {
          "base_uri": "https://localhost:8080/"
        },
        "id": "G2CLEiffKWHv",
        "outputId": "d947072f-d79c-462f-e494-49d7048eba03"
      },
      "execution_count": null,
      "outputs": [
        {
          "output_type": "execute_result",
          "data": {
            "text/plain": [
              "[1, 2, 3, 4, 5, 6, 7, 8, 9, 10, 1, 2, 3, 4, 5, 6, 7, 1, 2, 3, [4, 5], [6, 7]]"
            ]
          },
          "metadata": {},
          "execution_count": 38
        }
      ]
    },
    {
      "cell_type": "code",
      "source": [
        "# Inserting the value 4 at index 1 in the list 'a'\n",
        "a[1:1] = [4]\n",
        "\n",
        "print(a, end = ' ')\n",
        "\n",
        "# TRY a[1:4] = [7]\n",
        "# Note: The slice assignment \"a[1:4] = [7]\" attempts to replace elements at indices 1, 2, and 3 with [7]."
      ],
      "metadata": {
        "colab": {
          "base_uri": "https://localhost:8080/"
        },
        "id": "RirJwSqVL8QT",
        "outputId": "45cd8189-ffcc-499e-a2ca-3dd4d3c5e964"
      },
      "execution_count": null,
      "outputs": [
        {
          "output_type": "stream",
          "name": "stdout",
          "text": [
            "[1, 4, 2, 3, 4, 5, 6, 7, 8, 9, 10, 1, 2, 3, 4, 5, 6, 7, 1, 2, 3, [4, 5], [6, 7]] "
          ]
        }
      ]
    },
    {
      "cell_type": "code",
      "source": [
        "# Modifying the element at index 1 of the list 'a' by assigning the value 23\n",
        "a[1] = 23\n",
        "a\n",
        "\n",
        "#if we use end = ' ', then the output will be horizontal, otherwise it will be displayed vertically like the below output."
      ],
      "metadata": {
        "colab": {
          "base_uri": "https://localhost:8080/"
        },
        "id": "ueTgR8djLluD",
        "outputId": "3b5fd698-8fcb-4af1-e808-ced92eaa15a4"
      },
      "execution_count": null,
      "outputs": [
        {
          "output_type": "execute_result",
          "data": {
            "text/plain": [
              "[1,\n",
              " 23,\n",
              " 2,\n",
              " 3,\n",
              " 4,\n",
              " 5,\n",
              " 6,\n",
              " 7,\n",
              " 8,\n",
              " 9,\n",
              " 10,\n",
              " 1,\n",
              " 2,\n",
              " 3,\n",
              " 4,\n",
              " 5,\n",
              " 6,\n",
              " 7,\n",
              " 1,\n",
              " 2,\n",
              " 3,\n",
              " [4, 5],\n",
              " [6, 7]]"
            ]
          },
          "metadata": {},
          "execution_count": 50
        }
      ]
    },
    {
      "cell_type": "code",
      "source": [
        "# Removing the element 10 from the list 'a'\n",
        "a.remove(10)\n",
        "\n",
        "# Printing the updated list 'a' without a newline (using 'end = \" \"')\n",
        "print(a, end = \" \")"
      ],
      "metadata": {
        "id": "0d-_HH5Td39R"
      },
      "execution_count": null,
      "outputs": []
    },
    {
      "cell_type": "code",
      "source": [
        "# Deleting the element at index 1 from the list 'a' using the 'del' statement\n",
        "del a[1]\n",
        "print(a, end = \" \")"
      ],
      "metadata": {
        "colab": {
          "base_uri": "https://localhost:8080/"
        },
        "id": "RahxcAl2MgTm",
        "outputId": "f7c34ecb-b611-42a6-ecb9-b6dfda25d89a"
      },
      "execution_count": null,
      "outputs": [
        {
          "output_type": "stream",
          "name": "stdout",
          "text": [
            "[1, 2, 3, 4, 5, 6, 7, 8, 9, 1, 2, 3, 4, 5, 6, 7, 1, 2, 3, [4, 5], [6, 7]] "
          ]
        }
      ]
    },
    {
      "cell_type": "code",
      "source": [
        "# Creating a new list 'unique_array' containing only unique elements from the list 'a'\n",
        "unique_array = [x for i, x in enumerate(a) if x not in a[:i]]\n",
        "\n",
        "# Printing the 'unique_array'\n",
        "print(unique_array)"
      ],
      "metadata": {
        "colab": {
          "base_uri": "https://localhost:8080/"
        },
        "id": "QSAeVu62NcNR",
        "outputId": "3bc13559-7e54-4bb2-81e9-d8512242248b"
      },
      "execution_count": null,
      "outputs": [
        {
          "output_type": "stream",
          "name": "stdout",
          "text": [
            "[1, 2, 3, 4, 5, 6, 7, 8, 9, [4, 5], [6, 7]]\n"
          ]
        }
      ]
    },
    {
      "cell_type": "code",
      "source": [
        "# Adding elements [1, 2, 3, 4, 5, 6] to the 'unique_array' using the shorthand operator '+='\n",
        "unique_array += [1,2,3,4,5,6]\n",
        "\n",
        "# Printing the updated 'unique_array' followed by a space (due to the 'end' parameter)\n",
        "print(unique_array, end = \" \")"
      ],
      "metadata": {
        "colab": {
          "base_uri": "https://localhost:8080/"
        },
        "id": "eIdcO1UuOuvC",
        "outputId": "4c62ff24-21c9-4ed9-b836-dabc17fc363b"
      },
      "execution_count": null,
      "outputs": [
        {
          "output_type": "stream",
          "name": "stdout",
          "text": [
            "[1, 2, 3, 4, 5, 6, 7, 8, 9, [4, 5], [6, 7], 1, 2, 3, 4, 5, 6] "
          ]
        }
      ]
    },
    {
      "cell_type": "code",
      "source": [
        "unique_array = [1, 2, 3, 4, 5, 6, 7, 8, 9, [4, 5], [6, 7], 1, 2, 3, 4, 5, 6]\n",
        "\n",
        "# Creating a list 'elements_to_remove' containing elements to be removed from 'unique_array'\n",
        "elements_to_remove = [2, 4, 6, 8]\n",
        "\n",
        "# Using list comprehension to filter and create 'updated_unique_array'\n",
        "updated_unique_array = [x for x in unique_array if x not in elements_to_remove]\n",
        "\n",
        "# Further filtering 'updated_unique_array' to remove sublists and remaining unwanted elements\n",
        "updated_unique_array = [x for x in updated_unique_array if isinstance(x, int) or not x in elements_to_remove]\n",
        "\n",
        "# Printing the final 'updated_unique_array'\n",
        "print(updated_unique_array)\n"
      ],
      "metadata": {
        "colab": {
          "base_uri": "https://localhost:8080/"
        },
        "id": "2iUMEr5QO3ci",
        "outputId": "158464f9-0776-4802-8334-c4a4efccad8d"
      },
      "execution_count": null,
      "outputs": [
        {
          "output_type": "stream",
          "name": "stdout",
          "text": [
            "[1, 3, 5, 7, 9, [4, 5], [6, 7], 1, 3, 5]\n"
          ]
        }
      ]
    },
    {
      "cell_type": "code",
      "source": [
        "#Another EASY method...\n",
        "# List of elements to be removed from the 'updated_unique_array'\n",
        "elements_to_remove = [1,3,5]\n",
        "\n",
        "# Filtering 'updated_unique_array' using a lambda function to exclude elements in 'elements_to_remove'\n",
        "updated_array = list(filter(lambda x: x not in elements_to_remove, updated_unique_array))\n",
        "print(updated_array)"
      ],
      "metadata": {
        "colab": {
          "base_uri": "https://localhost:8080/"
        },
        "id": "P6X3z4J5PFm7",
        "outputId": "3d0515f1-4877-4389-9d35-1ab8adbb1a43"
      },
      "execution_count": null,
      "outputs": [
        {
          "output_type": "stream",
          "name": "stdout",
          "text": [
            "[7, 9, [4, 5], [6, 7]]\n"
          ]
        }
      ]
    },
    {
      "cell_type": "code",
      "source": [
        "# The following code demonstrates how to flatten a nested list using list comprehension.\n",
        "# Given a nested list, the goal is to convert it into a flat list where all elements are at the same level.\n",
        "\n",
        "# def flatten_list(nested_list):\n",
        "#     flattened = []\n",
        "#     for x in nested_list:\n",
        "#         if isinstance(x, list):\n",
        "#             flattened.extend(x)\n",
        "#         else:\n",
        "#             flattened.append(x)\n",
        "#     return flattened\n",
        "\n",
        "# updated_array = [7, 9, [4, 5], [6, 7]]\n",
        "\n",
        "# flattened_array = flatten_list(updated_array)\n",
        "# print(flattened_array)\n",
        "\n",
        "#output [7, 9, 4, 5, 6, 7]\n",
        "\n",
        "\n",
        "\n",
        "#alternate method is just 3 lines of code...\n",
        "# The initial nested list\n",
        "updated_array = [7, 9, [4, 5], [6, 7]]\n",
        "\n",
        "# Using list comprehension to flatten the nested list\n",
        "flattened_array = [x for sublist in updated_array for x in (sublist if isinstance(sublist, list) else [sublist])]\n",
        "\n",
        "# Printing the flattened list\n",
        "print(flattened_array)\n",
        "\n",
        "\n"
      ],
      "metadata": {
        "colab": {
          "base_uri": "https://localhost:8080/"
        },
        "id": "KfskII9wUzq1",
        "outputId": "a5e19503-c755-416d-e624-af1b1b86fe9a"
      },
      "execution_count": null,
      "outputs": [
        {
          "output_type": "stream",
          "name": "stdout",
          "text": [
            "[7, 9, 4, 5, 6, 7]\n"
          ]
        }
      ]
    },
    {
      "cell_type": "code",
      "source": [
        "# Printing the flattened list\n",
        "print(flattened_array)"
      ],
      "metadata": {
        "colab": {
          "base_uri": "https://localhost:8080/"
        },
        "id": "MYrklS2wXXg3",
        "outputId": "1cbf3a1c-ce3d-486c-e755-a73751fcd7c1"
      },
      "execution_count": null,
      "outputs": [
        {
          "output_type": "stream",
          "name": "stdout",
          "text": [
            "[7, 9, 4, 5, 6, 7]\n"
          ]
        }
      ]
    },
    {
      "cell_type": "code",
      "source": [
        "# Using list comprehension to filter out elements with the value 4 from the 'flattened_array'\n",
        "flattened_array = [x for x in flattened_array if x != 4]\n",
        "\n",
        "# Printing the filtered 'flattened_array'\n",
        "print(flattened_array)"
      ],
      "metadata": {
        "colab": {
          "base_uri": "https://localhost:8080/"
        },
        "id": "F5QQCE0AZjQM",
        "outputId": "c47ec33e-b054-4bd1-9aab-73739951ecc1"
      },
      "execution_count": null,
      "outputs": [
        {
          "output_type": "stream",
          "name": "stdout",
          "text": [
            "[7, 9, 5, 6, 7]\n"
          ]
        }
      ]
    },
    {
      "cell_type": "code",
      "source": [
        "# Deleting the variable 'flattened_array'\n",
        "del flattened_array"
      ],
      "metadata": {
        "id": "F0y8apRxgVMn"
      },
      "execution_count": null,
      "outputs": []
    },
    {
      "cell_type": "code",
      "source": [
        "# However, if 'flattened_array' is not defined or has been deleted, this print statement will result in an error.\n",
        "print(flattened_array)\n",
        "\n",
        "#expected an error"
      ],
      "metadata": {
        "colab": {
          "base_uri": "https://localhost:8080/",
          "height": 175
        },
        "id": "yLWHqnSzgmBz",
        "outputId": "8de5ddb9-7010-48cd-d889-505c0f491908"
      },
      "execution_count": null,
      "outputs": [
        {
          "output_type": "error",
          "ename": "NameError",
          "evalue": "ignored",
          "traceback": [
            "\u001b[0;31m---------------------------------------------------------------------------\u001b[0m",
            "\u001b[0;31mNameError\u001b[0m                                 Traceback (most recent call last)",
            "\u001b[0;32m<ipython-input-86-8f8c45ff0e05>\u001b[0m in \u001b[0;36m<cell line: 1>\u001b[0;34m()\u001b[0m\n\u001b[0;32m----> 1\u001b[0;31m \u001b[0mprint\u001b[0m\u001b[0;34m(\u001b[0m\u001b[0mflattened_array\u001b[0m\u001b[0;34m)\u001b[0m\u001b[0;34m\u001b[0m\u001b[0;34m\u001b[0m\u001b[0m\n\u001b[0m",
            "\u001b[0;31mNameError\u001b[0m: name 'flattened_array' is not defined"
          ]
        }
      ]
    },
    {
      "cell_type": "code",
      "source": [
        "# Creating a flattened array with the elements [7, 9, 5, 6, 7], same as previous.. you can create any array of your wish.\n",
        "flattened_array = [7, 9, 5, 6, 7]\n",
        "print(flattened_array)"
      ],
      "metadata": {
        "colab": {
          "base_uri": "https://localhost:8080/"
        },
        "id": "0axtUJlGgqh0",
        "outputId": "270eb061-4810-44bc-d3cb-480779e64e63"
      },
      "execution_count": null,
      "outputs": [
        {
          "output_type": "stream",
          "name": "stdout",
          "text": [
            "[7, 9, 5, 6, 7]\n"
          ]
        }
      ]
    },
    {
      "cell_type": "code",
      "source": [
        "flattened_array.pop(1)"
      ],
      "metadata": {
        "colab": {
          "base_uri": "https://localhost:8080/"
        },
        "id": "NN96bxjniBl5",
        "outputId": "3ab32de5-47f8-4de1-8b8d-21b22cfe1114"
      },
      "execution_count": null,
      "outputs": [
        {
          "output_type": "execute_result",
          "data": {
            "text/plain": [
              "9"
            ]
          },
          "metadata": {},
          "execution_count": 95
        }
      ]
    },
    {
      "cell_type": "code",
      "source": [
        "print(flattened_array)"
      ],
      "metadata": {
        "colab": {
          "base_uri": "https://localhost:8080/"
        },
        "id": "EhCMX81kiLu8",
        "outputId": "1534c8d9-cdf0-45bc-dfd7-670994268249"
      },
      "execution_count": null,
      "outputs": [
        {
          "output_type": "stream",
          "name": "stdout",
          "text": [
            "[7, 5, 6, 7]\n"
          ]
        }
      ]
    },
    {
      "cell_type": "code",
      "source": [
        "flattened_array.pop(3)"
      ],
      "metadata": {
        "colab": {
          "base_uri": "https://localhost:8080/"
        },
        "id": "x-aIJlB_iNuS",
        "outputId": "51d7a21d-686e-40ea-929c-2e66a90938dd"
      },
      "execution_count": null,
      "outputs": [
        {
          "output_type": "execute_result",
          "data": {
            "text/plain": [
              "7"
            ]
          },
          "metadata": {},
          "execution_count": 97
        }
      ]
    },
    {
      "cell_type": "code",
      "source": [
        "print(flattened_array)"
      ],
      "metadata": {
        "colab": {
          "base_uri": "https://localhost:8080/"
        },
        "id": "4si9IXq1iS2x",
        "outputId": "1ac04a49-629e-4df5-b4ad-07e1ba0c0778"
      },
      "execution_count": null,
      "outputs": [
        {
          "output_type": "stream",
          "name": "stdout",
          "text": [
            "[7, 5, 6]\n"
          ]
        }
      ]
    },
    {
      "cell_type": "code",
      "source": [
        "flattened_array.clear()  # Clearing the contents of the 'flattened_array'"
      ],
      "metadata": {
        "id": "hdqyYgn0iVEd"
      },
      "execution_count": null,
      "outputs": []
    },
    {
      "cell_type": "code",
      "source": [
        "a = [1,2,3,4,5,6,7,8,9]\n",
        "a"
      ],
      "metadata": {
        "colab": {
          "base_uri": "https://localhost:8080/"
        },
        "id": "kgx1Khv4ifZc",
        "outputId": "58c4a7e4-d365-471b-c341-6a53978ef2aa"
      },
      "execution_count": null,
      "outputs": [
        {
          "output_type": "execute_result",
          "data": {
            "text/plain": [
              "[1, 2, 3, 4, 5, 6, 7, 8, 9]"
            ]
          },
          "metadata": {},
          "execution_count": 100
        }
      ]
    },
    {
      "cell_type": "code",
      "source": [
        "a.extend([10,11,12,1,2,3,4,5])\n",
        "a"
      ],
      "metadata": {
        "colab": {
          "base_uri": "https://localhost:8080/"
        },
        "id": "tu1-VVjEijZT",
        "outputId": "db028433-b5e8-4afe-ddff-afa0e428d01c"
      },
      "execution_count": null,
      "outputs": [
        {
          "output_type": "execute_result",
          "data": {
            "text/plain": [
              "[1, 2, 3, 4, 5, 6, 7, 8, 9, 10, 11, 12, 1, 2, 3, 4, 5]"
            ]
          },
          "metadata": {},
          "execution_count": 105
        }
      ]
    },
    {
      "cell_type": "code",
      "source": [
        "a.count(5) # Counting occurrences of the element '5' in the list 'a'"
      ],
      "metadata": {
        "colab": {
          "base_uri": "https://localhost:8080/"
        },
        "id": "7MClnKEJimaG",
        "outputId": "7ed24dc7-a28d-4979-f917-debf91a5d1b9"
      },
      "execution_count": null,
      "outputs": [
        {
          "output_type": "execute_result",
          "data": {
            "text/plain": [
              "2"
            ]
          },
          "metadata": {},
          "execution_count": 106
        }
      ]
    },
    {
      "cell_type": "code",
      "source": [
        "a.index(11)  # Finding the index of the first occurrence of the element '11' in the list 'a'"
      ],
      "metadata": {
        "colab": {
          "base_uri": "https://localhost:8080/"
        },
        "id": "DwrUv200jMes",
        "outputId": "f0504167-4b28-42c8-d83c-9251a22b101e"
      },
      "execution_count": null,
      "outputs": [
        {
          "output_type": "execute_result",
          "data": {
            "text/plain": [
              "10"
            ]
          },
          "metadata": {},
          "execution_count": 107
        }
      ]
    },
    {
      "cell_type": "code",
      "source": [
        "a.sort()  # Sorting the elements of the list 'a' in ascending order\n",
        "a"
      ],
      "metadata": {
        "colab": {
          "base_uri": "https://localhost:8080/"
        },
        "id": "HqDtPTA7jQSl",
        "outputId": "7e2238af-bd46-42fb-de06-c0496ec518d4"
      },
      "execution_count": null,
      "outputs": [
        {
          "output_type": "execute_result",
          "data": {
            "text/plain": [
              "[1, 1, 2, 2, 3, 3, 4, 4, 5, 5, 6, 7, 8, 9, 10, 11, 12]"
            ]
          },
          "metadata": {},
          "execution_count": 109
        }
      ]
    },
    {
      "cell_type": "code",
      "source": [
        "a = [1, 1, 2, 2, 3, 3, 4, 4, 5, 5, 6, 7, 8, 9, 10, 11, 12] # Creating a list 'a' with duplicate elements\n",
        "unique_numbers = list(set(a)) # Converting the list 'a' to a set to remove duplicates, then converting it back to a list\n",
        "print(unique_numbers) # Printing the list of unique numbers"
      ],
      "metadata": {
        "colab": {
          "base_uri": "https://localhost:8080/"
        },
        "id": "8r6jTYC8jSZA",
        "outputId": "2988fcaf-cc76-43cd-f3a2-f0c8dba1900c"
      },
      "execution_count": null,
      "outputs": [
        {
          "output_type": "stream",
          "name": "stdout",
          "text": [
            "[1, 2, 3, 4, 5, 6, 7, 8, 9, 10, 11, 12]\n"
          ]
        }
      ]
    },
    {
      "cell_type": "code",
      "source": [
        "a = [1, 1, 2, 2, 3, 3, 4, 4, 5, 5, 6, 7, 8, 9, 10, 11, 12]\n",
        "a.reverse()\n",
        "a\n",
        "#print(\"Reversed array:\", a)\n"
      ],
      "metadata": {
        "colab": {
          "base_uri": "https://localhost:8080/"
        },
        "id": "lucfUIMXjk54",
        "outputId": "f6e42b0c-4b15-4fa6-f1c2-970318d62949"
      },
      "execution_count": null,
      "outputs": [
        {
          "output_type": "execute_result",
          "data": {
            "text/plain": [
              "[12, 11, 10, 9, 8, 7, 6, 5, 5, 4, 4, 3, 3, 2, 2, 1, 1]"
            ]
          },
          "metadata": {},
          "execution_count": 116
        }
      ]
    },
    {
      "cell_type": "code",
      "source": [
        "a"
      ],
      "metadata": {
        "colab": {
          "base_uri": "https://localhost:8080/"
        },
        "id": "qTKd7Ba_kE3q",
        "outputId": "09e6e339-7534-4ec7-ed1f-8756ce4d70db"
      },
      "execution_count": null,
      "outputs": [
        {
          "output_type": "execute_result",
          "data": {
            "text/plain": [
              "[12, 11, 10, 9, 8, 7, 6, 5, 5, 4, 4, 3, 3, 2, 2, 1, 1]"
            ]
          },
          "metadata": {},
          "execution_count": 117
        }
      ]
    },
    {
      "cell_type": "code",
      "source": [
        "len(a) # Using the built-in 'len()' function to determine the length of the list 'a'"
      ],
      "metadata": {
        "colab": {
          "base_uri": "https://localhost:8080/"
        },
        "id": "HrgSgXp7ksTr",
        "outputId": "e0db3a39-add9-4556-80a0-6a2081480272"
      },
      "execution_count": null,
      "outputs": [
        {
          "output_type": "execute_result",
          "data": {
            "text/plain": [
              "17"
            ]
          },
          "metadata": {},
          "execution_count": 118
        }
      ]
    },
    {
      "cell_type": "code",
      "source": [
        "a = [\n",
        "    1, 1, 1, 0, 0, 0,\n",
        "    0, 1, 0, 0, 0, 0,\n",
        "    1, 1, 1, 0, 0, 0,\n",
        "    0, 0, 0, 0, 0, 0,\n",
        "    0, 0, 0, 0, 0, 0,\n",
        "    0, 0, 0, 0, 0, 0\n",
        "]\n",
        "print(a,end = ' ')\n",
        "\n",
        "print()\n",
        "print('---------')\n",
        "print()\n",
        "\n",
        "rows = 6\n",
        "cols = 6\n",
        "\n",
        "# Print the matrix in the desired format\n",
        "for i in range(rows):\n",
        "    for j in range(cols):\n",
        "        print(a[i * cols + j], end=' ')\n",
        "    print()\n",
        "\n",
        "print()\n",
        "print('---------')\n",
        "print()\n",
        "\n",
        "a = [\n",
        "    [1, 1, 1, 0, 0, 0],\n",
        "    [0, 1, 0, 0, 0, 0],\n",
        "    [1, 1, 1, 0, 0, 0],\n",
        "    [0, 0, 0, 0, 0, 0],\n",
        "    [0, 0, 0, 0, 0, 0],\n",
        "    [0, 0, 0, 0, 0, 0]\n",
        "]\n",
        "a"
      ],
      "metadata": {
        "id": "-uiox7yJyhAw",
        "colab": {
          "base_uri": "https://localhost:8080/"
        },
        "outputId": "e9b44ec4-f641-4c83-9802-22457f5baf72"
      },
      "execution_count": null,
      "outputs": [
        {
          "output_type": "stream",
          "name": "stdout",
          "text": [
            "[1, 1, 1, 0, 0, 0, 0, 1, 0, 0, 0, 0, 1, 1, 1, 0, 0, 0, 0, 0, 0, 0, 0, 0, 0, 0, 0, 0, 0, 0, 0, 0, 0, 0, 0, 0] \n",
            "---------\n",
            "\n",
            "1 1 1 0 0 0 \n",
            "0 1 0 0 0 0 \n",
            "1 1 1 0 0 0 \n",
            "0 0 0 0 0 0 \n",
            "0 0 0 0 0 0 \n",
            "0 0 0 0 0 0 \n",
            "\n",
            "---------\n",
            "\n"
          ]
        },
        {
          "output_type": "execute_result",
          "data": {
            "text/plain": [
              "[[1, 1, 1, 0, 0, 0],\n",
              " [0, 1, 0, 0, 0, 0],\n",
              " [1, 1, 1, 0, 0, 0],\n",
              " [0, 0, 0, 0, 0, 0],\n",
              " [0, 0, 0, 0, 0, 0],\n",
              " [0, 0, 0, 0, 0, 0]]"
            ]
          },
          "metadata": {},
          "execution_count": 38
        }
      ]
    },
    {
      "cell_type": "markdown",
      "source": [
        "USER INPUT"
      ],
      "metadata": {
        "id": "gAfOIEx0AHzB"
      }
    },
    {
      "cell_type": "code",
      "source": [
        "# Input the number of rows and columns\n",
        "m, n = map(int, input(\"Enter the number of rows and columns: \").split())\n",
        "\n",
        "# Input the elements of the matrix\n",
        "matrix = [list(map(int, input().split())) for _ in range(m)]\n",
        "\n",
        "# Display the matrix\n",
        "print(\"Matrix:\")\n",
        "for row in matrix:\n",
        "    print(*row)\n"
      ],
      "metadata": {
        "colab": {
          "base_uri": "https://localhost:8080/"
        },
        "id": "-tJuVZ84ABn2",
        "outputId": "da7c8b8b-224b-4098-bac6-94dfd25bd82e"
      },
      "execution_count": null,
      "outputs": [
        {
          "output_type": "stream",
          "name": "stdout",
          "text": [
            "Enter the number of rows and columns: 2 3\n",
            "1 2 3\n",
            "9 6 3\n",
            "Matrix:\n",
            "1 2 3\n",
            "9 6 3\n"
          ]
        }
      ]
    },
    {
      "cell_type": "code",
      "source": [
        "# Creating an array\n",
        "my_array = [1, 2, 3, 4, 5]\n",
        "\n",
        "# Accessing elements\n",
        "print(my_array[0])  # Output: 1\n",
        "print(my_array[3])  # Output: 4\n"
      ],
      "metadata": {
        "colab": {
          "base_uri": "https://localhost:8080/"
        },
        "id": "ON1BgtfZCW4E",
        "outputId": "6c0ed9ad-a56d-4096-f13c-35faf8711408"
      },
      "execution_count": null,
      "outputs": [
        {
          "output_type": "stream",
          "name": "stdout",
          "text": [
            "1\n",
            "4\n"
          ]
        }
      ]
    },
    {
      "cell_type": "code",
      "source": [
        "# Loop through the array\n",
        "for num in my_array:\n",
        "\n",
        "   print(num, end = \" \")\n"
      ],
      "metadata": {
        "colab": {
          "base_uri": "https://localhost:8080/"
        },
        "id": "h5iEuUJBELPj",
        "outputId": "2bc9ad58-cd5e-45ba-b2ea-ac20772a1a1c"
      },
      "execution_count": null,
      "outputs": [
        {
          "output_type": "stream",
          "name": "stdout",
          "text": [
            "1 2 3 4 5 "
          ]
        }
      ]
    },
    {
      "cell_type": "code",
      "source": [
        "# Find the maximum element from my_array = [1, 2, 3, 4, 5]\n",
        "max_element = max(my_array)\n",
        "print(max_element)  # Output: 5\n"
      ],
      "metadata": {
        "colab": {
          "base_uri": "https://localhost:8080/"
        },
        "id": "c-2yYiLTEjIl",
        "outputId": "6ce6d469-f306-4018-a6d5-4f725f7d2e5d"
      },
      "execution_count": null,
      "outputs": [
        {
          "output_type": "stream",
          "name": "stdout",
          "text": [
            "5\n"
          ]
        }
      ]
    },
    {
      "cell_type": "code",
      "source": [
        "# Find the minimum element from my_array = [1, 2, 3, 4, 5]\n",
        "min_element = min(my_array)\n",
        "print(min_element)  # Output: 1"
      ],
      "metadata": {
        "colab": {
          "base_uri": "https://localhost:8080/"
        },
        "id": "RKUVzAVQEjFN",
        "outputId": "45a6e6b7-f5ac-4d5c-d356-26b08d8c1192"
      },
      "execution_count": null,
      "outputs": [
        {
          "output_type": "stream",
          "name": "stdout",
          "text": [
            "1\n"
          ]
        }
      ]
    },
    {
      "cell_type": "code",
      "source": [
        "# Find the sum of elements\n",
        "sum_elements = sum(my_array)\n",
        "print(sum_elements)  # Output: 15\n"
      ],
      "metadata": {
        "colab": {
          "base_uri": "https://localhost:8080/"
        },
        "id": "IgT5ipu_EjB4",
        "outputId": "4f849454-aeb3-43b6-dd9a-369b21922f37"
      },
      "execution_count": null,
      "outputs": [
        {
          "output_type": "stream",
          "name": "stdout",
          "text": [
            "15\n"
          ]
        }
      ]
    },
    {
      "cell_type": "code",
      "source": [
        "# Using list comprehension to create a new array\n",
        "squared_array = [x ** 2 for x in my_array]\n",
        "print(squared_array)\n"
      ],
      "metadata": {
        "colab": {
          "base_uri": "https://localhost:8080/"
        },
        "id": "UetFASQAEi_U",
        "outputId": "38efa5df-c0be-40e9-b6f6-42d77e4de5d5"
      },
      "execution_count": null,
      "outputs": [
        {
          "output_type": "stream",
          "name": "stdout",
          "text": [
            "[1, 4, 9, 16, 25]\n"
          ]
        }
      ]
    },
    {
      "cell_type": "code",
      "source": [
        "# Finding unique elements using set\n",
        "unique_elements = list(set(my_array))\n",
        "print(unique_elements)\n"
      ],
      "metadata": {
        "colab": {
          "base_uri": "https://localhost:8080/"
        },
        "id": "cgH-ssnaEi75",
        "outputId": "2235d5cf-7ed8-47af-98c3-5f6f95521ffb"
      },
      "execution_count": null,
      "outputs": [
        {
          "output_type": "stream",
          "name": "stdout",
          "text": [
            "[1, 2, 3, 4, 5]\n"
          ]
        }
      ]
    },
    {
      "cell_type": "code",
      "source": [
        "# Creating a 2D array (matrix)\n",
        "matrix = [\n",
        "    [1, 2, 3],\n",
        "    [4, 5, 6],\n",
        "    [7, 8, 9]\n",
        "]\n",
        "\n",
        "# Accessing elements in a 2D array\n",
        "print(matrix[0][1])  # Output: 2\n",
        "print(matrix[2][0])  # Output: 7\n"
      ],
      "metadata": {
        "colab": {
          "base_uri": "https://localhost:8080/"
        },
        "id": "oVkXlCczEi4z",
        "outputId": "9c8524a0-426b-4090-b8a3-0a238027d9aa"
      },
      "execution_count": null,
      "outputs": [
        {
          "output_type": "stream",
          "name": "stdout",
          "text": [
            "2\n",
            "7\n"
          ]
        }
      ]
    },
    {
      "cell_type": "code",
      "source": [
        "# Slicing arrays\n",
        "subset = my_array[1:4]\n",
        "print(subset)"
      ],
      "metadata": {
        "colab": {
          "base_uri": "https://localhost:8080/"
        },
        "id": "-N9zYYMVEi1K",
        "outputId": "c41ac114-21a0-4efc-d981-c93ec76e0d67"
      },
      "execution_count": null,
      "outputs": [
        {
          "output_type": "stream",
          "name": "stdout",
          "text": [
            "[2, 3, 4]\n"
          ]
        }
      ]
    },
    {
      "cell_type": "code",
      "source": [
        "# Using enumerate to get both index and value\n",
        "for index, value in enumerate(my_array):\n",
        "     print(f\"Index: {index}, Value: {value}\")\n",
        "\n",
        "     #print(\"Index: {}, Value: {}\".format(index,value))   #we can use any of the print method to get the results"
      ],
      "metadata": {
        "colab": {
          "base_uri": "https://localhost:8080/"
        },
        "id": "UvBxPZseGSvN",
        "outputId": "5043d517-c38f-4202-f19b-514bf834e50d"
      },
      "execution_count": null,
      "outputs": [
        {
          "output_type": "stream",
          "name": "stdout",
          "text": [
            "Index: 0, Value: 1\n",
            "Index: 1, Value: 2\n",
            "Index: 2, Value: 3\n",
            "Index: 3, Value: 4\n",
            "Index: 4, Value: 5\n"
          ]
        }
      ]
    },
    {
      "cell_type": "code",
      "source": [
        "# Using zip to iterate through multiple arrays\n",
        "names = [\"Alice\", \"Bob\", \"Charlie\"]\n",
        "ages = [25, 30, 28]\n",
        "colour = [\"red\",\"green\",\"blue\"]\n",
        "\n",
        "for name, age, colour in zip(names, ages,colour):\n",
        "    print(f\"{name} is {age} years old and he likes {colour} colour\")\n"
      ],
      "metadata": {
        "colab": {
          "base_uri": "https://localhost:8080/"
        },
        "id": "5qihu2aCGSrs",
        "outputId": "f3fc993b-4252-4de4-cf51-8640e1c0fc14"
      },
      "execution_count": null,
      "outputs": [
        {
          "output_type": "stream",
          "name": "stdout",
          "text": [
            "Alice is 25 years old and he likes red colour\n",
            "Bob is 30 years old and he likes green colour\n",
            "Charlie is 28 years old and he likes blue colour\n"
          ]
        }
      ]
    },
    {
      "cell_type": "markdown",
      "source": [
        "_____________________________________"
      ],
      "metadata": {
        "id": "LGmlC3VcmPp8"
      }
    },
    {
      "cell_type": "markdown",
      "source": [
        "___________________________________"
      ],
      "metadata": {
        "id": "Ry2dTXwtmPeV"
      }
    },
    {
      "cell_type": "markdown",
      "source": [
        "# ***SAMPLE PROBLEMS ON ARRAYS***"
      ],
      "metadata": {
        "id": "DNNw9dgimPGm"
      }
    },
    {
      "cell_type": "markdown",
      "source": [
        "**Example 1 : Write a Python program to create an array of 5 integers and display the array items. Access individual element through indexes.**"
      ],
      "metadata": {
        "id": "vFwJP3TFtO3Q"
      }
    },
    {
      "cell_type": "code",
      "source": [
        "# Always try to divide the given question into subparts and try to understand the problem.\n",
        "\n",
        "# Import the array module\n",
        "from array import *\n",
        "\n",
        "# Create an array of 5 integers\n",
        "my_array = array('i', [10, 20, 30, 40, 50])\n",
        "\n",
        "                                        #Another tricky loop method\n",
        "                                        # for i in my_array:\n",
        "                                        #     print(i)\n",
        "\n",
        "# Display the array items\n",
        "print(\"Array items:\", my_array)\n",
        "\n",
        "# Access individual elements through indexes\n",
        "print(\"Element at index 0:\", my_array[0])\n",
        "print(\"Element at index10:\", my_array[1])\n",
        "print(\"Element at index 2:\", my_array[2])\n",
        "print(\"Element at index 3:\", my_array[3])\n",
        "print(\"Element at index 4:\", my_array[4])\n"
      ],
      "metadata": {
        "colab": {
          "base_uri": "https://localhost:8080/"
        },
        "id": "iqI_QnGwlA7L",
        "outputId": "c2a137fb-56a4-4ea5-f0c5-34f648e6253c"
      },
      "execution_count": null,
      "outputs": [
        {
          "output_type": "stream",
          "name": "stdout",
          "text": [
            "Array items: array('i', [10, 20, 30, 40, 50])\n",
            "Element at index 0: 10\n",
            "Element at index10: 20\n",
            "Element at index 2: 30\n",
            "Element at index 3: 40\n",
            "Element at index 4: 50\n"
          ]
        }
      ]
    },
    {
      "cell_type": "markdown",
      "source": [
        "**Example 2 : Write a Python program to append a new item to the end of the array.**"
      ],
      "metadata": {
        "id": "vV_WLbIP-M9t"
      }
    },
    {
      "cell_type": "code",
      "source": [
        "from array import *\n",
        "array_num = array('i', [1, 3, 5, 7, 9])\n",
        "print(array_num)\n",
        "array_num.append(11)\n",
        "print(array_num)\n",
        "\n"
      ],
      "metadata": {
        "colab": {
          "base_uri": "https://localhost:8080/"
        },
        "id": "zKUfdPctt2Rx",
        "outputId": "24abd7d0-c341-4461-e028-8cede4b98d19"
      },
      "execution_count": null,
      "outputs": [
        {
          "output_type": "stream",
          "name": "stdout",
          "text": [
            "array('i', [1, 3, 5, 7, 9])\n",
            "array('i', [1, 3, 5, 7, 9, 11])\n"
          ]
        }
      ]
    },
    {
      "cell_type": "markdown",
      "source": [
        "**Example 3 : Write a Python program to reverse the order of the items in the array.**"
      ],
      "metadata": {
        "id": "HRkr694M-QgH"
      }
    },
    {
      "cell_type": "code",
      "source": [
        "\n",
        "array_num.reverse()\n",
        "\n",
        "print(array_num)\n"
      ],
      "metadata": {
        "colab": {
          "base_uri": "https://localhost:8080/"
        },
        "id": "h2xjSG2e3YPm",
        "outputId": "1c6c85df-9288-49ba-ea36-8967cdb35071"
      },
      "execution_count": null,
      "outputs": [
        {
          "output_type": "stream",
          "name": "stdout",
          "text": [
            "array('i', [11, 9, 7, 5, 3, 1])\n"
          ]
        }
      ]
    },
    {
      "cell_type": "markdown",
      "source": [
        "**Example 4 : Write a Python program to get the length in bytes of one array item in the internal representation.**"
      ],
      "metadata": {
        "id": "b_nhi-pW-VJ3"
      }
    },
    {
      "cell_type": "code",
      "source": [
        "\n",
        "print(array_num.itemsize)\n",
        "print(len(array_num))\n"
      ],
      "metadata": {
        "colab": {
          "base_uri": "https://localhost:8080/"
        },
        "id": "8S00vSqR4QCT",
        "outputId": "147adc0e-db6c-4b2d-bb76-5916f8e3638f"
      },
      "execution_count": null,
      "outputs": [
        {
          "output_type": "stream",
          "name": "stdout",
          "text": [
            "4\n",
            "6\n"
          ]
        }
      ]
    },
    {
      "cell_type": "markdown",
      "source": [
        "**Example 5 : Write a Python program to get the current memory address and the length in elements of the buffer used to hold an array’s contents and also find the size of the memory buffer in bytes.**"
      ],
      "metadata": {
        "id": "Uf_Or-VH-e5g"
      }
    },
    {
      "cell_type": "code",
      "source": [
        "\n",
        "print(array_num)\n",
        "print(array_num.buffer_info())\n",
        "print(array_num.buffer_info()[1] * array_num.itemsize)\n",
        "\n",
        "\n"
      ],
      "metadata": {
        "colab": {
          "base_uri": "https://localhost:8080/"
        },
        "id": "DM1kEGHe4Vgf",
        "outputId": "9608b1b9-8884-485b-9ae6-657aafe69eed"
      },
      "execution_count": null,
      "outputs": [
        {
          "output_type": "stream",
          "name": "stdout",
          "text": [
            "array('i', [1, 3, 5, 3, 7, 9, 3, 1, 3, 5, 3, 7, 9, 3])\n",
            "(136567950845440, 14)\n",
            "56\n"
          ]
        }
      ]
    },
    {
      "cell_type": "markdown",
      "source": [
        "**Example 6 : Write a Python program to get the number of occurrences of a specified element in an array.**"
      ],
      "metadata": {
        "id": "VM7nBiDo-kAp"
      }
    },
    {
      "cell_type": "code",
      "source": [
        "\n",
        "array_num = array('i', [1, 3, 5, 3, 7, 9, 3])\n",
        "print(array_num)\n",
        "print(array_num.count(3))\n",
        "\n",
        "\n"
      ],
      "metadata": {
        "colab": {
          "base_uri": "https://localhost:8080/"
        },
        "id": "BhNVs9Wo4gO3",
        "outputId": "7daa6d3e-e95b-4b5c-8f3c-d0964ded5605"
      },
      "execution_count": null,
      "outputs": [
        {
          "output_type": "stream",
          "name": "stdout",
          "text": [
            "array('i', [1, 3, 5, 3, 7, 9, 3])\n",
            "3\n"
          ]
        }
      ]
    },
    {
      "cell_type": "markdown",
      "source": [
        "**Example 7 : Write a Python program to append items from inerrable to the end of the array.**"
      ],
      "metadata": {
        "id": "wTae6uou-sJW"
      }
    },
    {
      "cell_type": "code",
      "source": [
        "\n",
        "print(array_num)\n",
        "array_num.extend(array_num)\n",
        "print(array_num)\n",
        "\n"
      ],
      "metadata": {
        "colab": {
          "base_uri": "https://localhost:8080/"
        },
        "id": "S7JSDWUc4gLc",
        "outputId": "a5fd873c-7011-48c2-ca3f-62b45e9184a7"
      },
      "execution_count": null,
      "outputs": [
        {
          "output_type": "stream",
          "name": "stdout",
          "text": [
            "array('i', [1, 3, 5, 3, 7, 9, 3])\n",
            "array('i', [1, 3, 5, 3, 7, 9, 3, 1, 3, 5, 3, 7, 9, 3])\n"
          ]
        }
      ]
    },
    {
      "cell_type": "markdown",
      "source": [
        "**Example 8 :Write a Python program to convert an array to an array of machine values and return the bytes representation.**"
      ],
      "metadata": {
        "id": "i2Z8cmJn-0Yy"
      }
    },
    {
      "cell_type": "code",
      "source": [
        "\n",
        "print(\"Bytes to String: \")\n",
        "x = array('b', [119, 51, 114, 101,  115, 111, 117, 114, 99, 101, 67])\n",
        "s = x.tobytes()\n",
        "print(s)\n"
      ],
      "metadata": {
        "colab": {
          "base_uri": "https://localhost:8080/"
        },
        "id": "mEy4M6pC4gI9",
        "outputId": "e1c263ca-4923-48fd-8913-1a6523920f38"
      },
      "execution_count": null,
      "outputs": [
        {
          "output_type": "stream",
          "name": "stdout",
          "text": [
            "Bytes to String: \n",
            "b'w3resourceC'\n"
          ]
        }
      ]
    },
    {
      "cell_type": "markdown",
      "source": [
        "**Example 9 : Write a Python program to convert an array to an ordinary list with the same items.**"
      ],
      "metadata": {
        "id": "6QW03PJq-zjf"
      }
    },
    {
      "cell_type": "code",
      "source": [
        "print(my_array)\n",
        "ordinary_list = my_array.tolist()\n",
        "print(\"Ordinary list:\", ordinary_list)\n"
      ],
      "metadata": {
        "colab": {
          "base_uri": "https://localhost:8080/"
        },
        "id": "5zk2bsWT4gGQ",
        "outputId": "1f61d444-4a40-4277-d345-2c19f788cf58"
      },
      "execution_count": null,
      "outputs": [
        {
          "output_type": "stream",
          "name": "stdout",
          "text": [
            "array('i', [10, 20, 30, 40, 50])\n",
            "Ordinary list: [10, 20, 30, 40, 50]\n"
          ]
        }
      ]
    },
    {
      "cell_type": "markdown",
      "source": [
        "**Example 10: Find duplicates**"
      ],
      "metadata": {
        "id": "Agd_GTrx_D29"
      }
    },
    {
      "cell_type": "code",
      "source": [
        "\n",
        "def contains_duplicates(nums):\n",
        "    seen = set()\n",
        "\n",
        "    for num in nums:\n",
        "        if num in seen:\n",
        "            return True\n",
        "        seen.add(num)\n",
        "\n",
        "    return False\n",
        "\n",
        "ordinary_list = [10, 20, 30, 40, 50]\n",
        "\n",
        "# Check if the ordinary list contains duplicates\n",
        "print(\"Contains duplicates:\", contains_duplicates(ordinary_list))\n"
      ],
      "metadata": {
        "colab": {
          "base_uri": "https://localhost:8080/"
        },
        "id": "Iz9eJ2_a4gEJ",
        "outputId": "ce490ccd-5375-47be-df98-fcefd5344616"
      },
      "execution_count": null,
      "outputs": [
        {
          "output_type": "stream",
          "name": "stdout",
          "text": [
            "Contains duplicates: False\n"
          ]
        }
      ]
    },
    {
      "cell_type": "markdown",
      "source": [
        "**Example 11: Find duplicates**"
      ],
      "metadata": {
        "id": "HYuV7dY6_mFg"
      }
    },
    {
      "cell_type": "code",
      "source": [
        "\n",
        "def contains_duplicates(nums):\n",
        "    seen = set()\n",
        "\n",
        "    for num in nums:\n",
        "        if num in seen:\n",
        "            return True\n",
        "        seen.add(num)\n",
        "\n",
        "    return False\n",
        "\n",
        "ordinary_list = [10, 20, 30, 40, 50, 40, 50]   #wantedly added duplicates to check the output\n",
        "\n",
        "# Check if the ordinary list contains duplicates\n",
        "print(\"Contains duplicates:\", contains_duplicates(ordinary_list))\n"
      ],
      "metadata": {
        "colab": {
          "base_uri": "https://localhost:8080/"
        },
        "id": "_i2nzI054gB5",
        "outputId": "a88a9d95-8223-4804-8868-8c5b38ad6ada"
      },
      "execution_count": null,
      "outputs": [
        {
          "output_type": "stream",
          "name": "stdout",
          "text": [
            "Contains duplicates: True\n"
          ]
        }
      ]
    },
    {
      "cell_type": "markdown",
      "source": [
        "__________________________________"
      ],
      "metadata": {
        "id": "mVJbN9Kt9Oqj"
      }
    },
    {
      "cell_type": "markdown",
      "source": [
        "____________________________________"
      ],
      "metadata": {
        "id": "eWzFvDW09Qzm"
      }
    },
    {
      "cell_type": "markdown",
      "source": [
        "# ***LEETCODE & HACKERRANK PROBLEMS ON ARRAYS***"
      ],
      "metadata": {
        "id": "jdg3LHnw9TIk"
      }
    },
    {
      "cell_type": "markdown",
      "source": [
        "PROBLEM 1: ** Roman to Integer\n",
        "Roman numerals are represented by seven different symbols: I, V, X, L, C, D and M.\n",
        "\n",
        "\n",
        "Symbol       Value\n",
        "I             1\n",
        "V             5\n",
        "X             10\n",
        "L             50\n",
        "C             100\n",
        "D             500\n",
        "M             1000\n",
        "\n",
        "\n",
        "For example, 2 is written as II in Roman numeral, just two ones added together. 12 is written as XII, which is simply X + II. The number 27 is written as XXVII, which is XX + V + II.\n",
        "\n",
        "\n",
        "Roman numerals are usually written largest to smallest from left to right. However, the numeral for four is not IIII. Instead, the number four is written as IV. Because the one is before the five we subtract it making four. The same principle applies to the number nine, which is written as IX. There are six instances where subtraction is used:\n",
        "\n",
        "\n",
        "I can be placed before V (5) and X (10) to make 4 and 9.\n",
        "X can be placed before L (50) and C (100) to make 40 and 90.\n",
        "C can be placed before D (500) and M (1000) to make 400 and 900.\n",
        "Given a roman numeral, convert it to an integer.\n",
        "\n",
        "\n",
        "\n",
        "Example 1:\n",
        "\n",
        "Input: s = \"III\"\n",
        "Output: 3\n",
        "Explanation: III = 3.\n",
        "\n",
        "\n",
        "Example 2:\n",
        "\n",
        "Input: s = \"LVIII\"\n",
        "Output: 58\n",
        "Explanation: L = 50, V= 5, III = 3.\n",
        "\n",
        "\n",
        "Example 3:\n",
        "\n",
        "Input: s = \"MCMXCIV\"\n",
        "Output: 1994\n",
        "Explanation: M = 1000, CM = 900, XC = 90 and IV = 4.\n",
        "\n",
        "\n",
        "\n",
        "Constraints:\n",
        "\n",
        "1 <= s.length <= 15\n",
        "s contains only the characters ('I', 'V', 'X', 'L', 'C', 'D', 'M').\n",
        "It is guaranteed that s is a valid roman numeral in the range [1, 3999]. **"
      ],
      "metadata": {
        "id": "DcUeV-IoN3a2"
      }
    },
    {
      "cell_type": "code",
      "source": [
        "class Solution:\n",
        "    def romanToInt(self, s: str) -> int:\n",
        "        roman_to_integer = {                   # Dictionary mapping Roman numerals to their corresponding integer values\n",
        "            'I': 1,\n",
        "            'V': 5,\n",
        "            'X': 10,\n",
        "            'L': 50,\n",
        "            'C': 100,\n",
        "            'D': 500,\n",
        "            'M': 1000,\n",
        "        }                                   # Replacing subtractive notations with additive notations      # This is done to simplify the conversion process\n",
        "        s = s.replace(\"IV\", \"IIII\").replace(\"IX\", \"VIIII\").replace(\"XL\", \"XXXX\").replace(\"XC\", \"LXXXX\").replace(\"CD\", \"CCCC\").replace(\"CM\", \"DCCCC\")\n",
        "\n",
        "                                            # Summing up the integer values of the individual Roman numerals in the string\n",
        "                                            # Using the map() function to apply the dictionary to each character and then summing up\n",
        "        return sum(map(lambda x: roman_to_integer[x], s))\n"
      ],
      "metadata": {
        "id": "tFiRw6QL4f_2"
      },
      "execution_count": null,
      "outputs": []
    },
    {
      "cell_type": "markdown",
      "source": [
        "PROBLEM 2: **Given a string s containing just the characters '(', ')', '{', '}', '[' and ']', determine if the input string is valid.\n",
        "\n",
        "An input string is valid if:\n",
        "\n",
        "Open brackets must be closed by the same type of brackets.\n",
        "Open brackets must be closed in the correct order.\n",
        "Every close bracket has a corresponding open bracket of the same type.\n",
        "\n",
        "\n",
        "Example 1:\n",
        "\n",
        "Input: s = \"()\"\n",
        "Output: true\n",
        "Example 2:\n",
        "\n",
        "Input: s = \"()[]{}\"\n",
        "Output: true\n",
        "Example 3:\n",
        "\n",
        "Input: s = \"(]\"\n",
        "Output: false\n",
        "\n",
        "\n",
        "Constraints:\n",
        "\n",
        "1 <= s.length <= 104\n",
        "s consists of parentheses only '()[]{}'.**"
      ],
      "metadata": {
        "id": "iZj4HlrrT-AE"
      }
    },
    {
      "cell_type": "code",
      "source": [
        "class Solution:\n",
        "    def isValid(self, s: str) -> bool:\n",
        "        stack = []                                             # Mapping of closing brackets to their corresponding opening brackets\n",
        "        mapping = {')': '(', '}': '{', ']': '['}\n",
        "\n",
        "        for char in s:\n",
        "            if char in mapping:\n",
        "                top_element = stack.pop() if stack else '#'\n",
        "                if mapping[char] != top_element:\n",
        "                    return False                               # Return False if the brackets are not matched\n",
        "                stack.append(char)\n",
        "\n",
        "        return not stack                    # Return False if the brackets are not matched\n",
        "\n",
        "# Test cases # Push the opening brackets onto the stack\n",
        "# If the stack is empty, all brackets are matched and the expression is valid\n",
        "solution = Solution()\n",
        "print(solution.isValid(\"()\"))        # Output: True\n",
        "print(solution.isValid(\"()[]{}\"))    # Output: True\n",
        "print(solution.isValid(\"(]\"))        # Output: False\n"
      ],
      "metadata": {
        "id": "xowJsUGw4f9Z",
        "colab": {
          "base_uri": "https://localhost:8080/"
        },
        "outputId": "5a506abe-2c67-40cb-a38d-0a17b2e18723"
      },
      "execution_count": null,
      "outputs": [
        {
          "output_type": "stream",
          "name": "stdout",
          "text": [
            "False\n",
            "False\n",
            "False\n"
          ]
        }
      ]
    },
    {
      "cell_type": "markdown",
      "source": [
        "An array is a type of data structure that stores elements of the same type in a contiguous block of memory. In an array, , of size , each memory location has some unique index,  (where ), that can be referenced as  or .\n",
        "\n",
        "Reverse an array of integers.\n",
        "\n",
        "Note: If you've already solved our C++ domain's Arrays Introduction challenge, you may want to skip this.\n",
        "\n",
        "Example\n",
        "\n",
        "Return .\n",
        "\n",
        "Function Description\n",
        "\n",
        "Complete the function reverseArray in the editor below.\n",
        "\n",
        "reverseArray has the following parameter(s):\n",
        "\n",
        "int A[n]: the array to reverse\n",
        "Returns\n",
        "\n",
        "int[n]: the reversed array\n",
        "Input Format\n",
        "\n",
        "The first line contains an integer, , the number of integers in .\n",
        "The second line contains  space-separated integers that make up .\n",
        "\n"
      ],
      "metadata": {
        "id": "6HdMw-L0y81c"
      }
    },
    {
      "cell_type": "code",
      "source": [
        "def reverseArray(a):\n",
        "  return a[::-1]\n",
        "\n",
        "n = int(input())  # Number of integers in the array\n",
        "a = list(map(int, input().split()))  # Array of integers\n",
        "\n",
        "reversed_arr = reverseArray(a)\n",
        "print(reversed_arr)"
      ],
      "metadata": {
        "colab": {
          "base_uri": "https://localhost:8080/"
        },
        "id": "vGX-73_ixFZE",
        "outputId": "53dc0309-8184-4d60-8df4-b82e1c11ae85"
      },
      "execution_count": null,
      "outputs": [
        {
          "output_type": "stream",
          "name": "stdout",
          "text": [
            "3\n",
            "123\n",
            "[123]\n"
          ]
        }
      ]
    },
    {
      "cell_type": "markdown",
      "source": [
        "A left rotation operation on an array of size  shifts each of the array's elements  unit to the left. Given an integer, , rotate the array that many steps left and return the result.\n",
        "\n",
        "Example\n",
        "\n",
        "\n",
        "After  rotations, .\n",
        "\n",
        "Function Description\n",
        "\n",
        "Complete the rotateLeft function in the editor below.\n",
        "\n",
        "rotateLeft has the following parameters:\n",
        "\n",
        "int d: the amount to rotate by\n",
        "int arr[n]: the array to rotate\n",
        "Returns\n",
        "\n",
        "int[n]: the rotated array\n",
        "Input Format\n",
        "\n",
        "The first line contains two space-separated integers that denote , the number of integers, and , the number of left rotations to perform.\n",
        "The second line contains  space-separated integers that describe .\n",
        "\n",
        "Constraints\n",
        "\n",
        "Sample Input\n",
        "\n",
        "5 4\n",
        "1 2 3 4 5\n",
        "Sample Output\n",
        "\n",
        "5 1 2 3 4"
      ],
      "metadata": {
        "id": "P7-ZvxBNNzGL"
      }
    },
    {
      "cell_type": "code",
      "source": [
        "def rotateLeft(d, arr):\n",
        "    n = len(arr)\n",
        "    rotated_array = [0] * n\n",
        "\n",
        "    for i in range(n):\n",
        "        new_index = (i - d) % n\n",
        "        rotated_array[new_index] = arr[i]\n",
        "\n",
        "    return rotated_array\n",
        "\n",
        "# Check and run the code in hackerrank"
      ],
      "metadata": {
        "id": "mt-bntOV9gt4"
      },
      "execution_count": null,
      "outputs": []
    },
    {
      "cell_type": "code",
      "source": [],
      "metadata": {
        "id": "h0s9J2w6N5CJ"
      },
      "execution_count": null,
      "outputs": []
    }
  ]
}