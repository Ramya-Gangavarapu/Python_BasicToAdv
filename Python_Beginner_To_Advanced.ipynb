{
  "nbformat": 4,
  "nbformat_minor": 0,
  "metadata": {
    "colab": {
      "provenance": []
    },
    "kernelspec": {
      "name": "python3",
      "display_name": "Python 3"
    },
    "language_info": {
      "name": "python"
    }
  },
  "cells": [
    {
      "cell_type": "markdown",
      "source": [
        "# **PYTHON PROGRAMMING LANGUAGE**\n",
        "Python is a high-level, versatile, and interpreted programming language known for its simplicity and readability. Here's a brief description of Python:\n",
        "\n",
        "\n",
        "**High-Level Language:**\n",
        "\n",
        "\n",
        "Python is a high-level programming language, which means it's designed to be easy to read and write, making it accessible to both beginners and experienced developers.\n",
        "\n",
        "\n",
        "**Interpreted:**\n",
        "\n",
        "\n",
        "Python is an interpreted language, meaning you don't need to compile your code before running it. This makes development and testing faster and more straightforward.\n",
        "\n",
        "\n",
        "**General-Purpose:**\n",
        "\n",
        "\n",
        "Python is a general-purpose language, meaning it can be used for a wide range of applications, including web development, data analysis, scientific computing, artificial intelligence, automation, and more.\n",
        "\n",
        "\n",
        "**Readable and Expressive:**\n",
        "\n",
        "\n",
        "Python emphasizes code readability and uses a clean and concise syntax, making it easy to understand and write code. Its indentation-based structure enforces clean and consistent formatting.\n",
        "\n",
        "\n",
        "**Cross-Platform:**\n",
        "\n",
        "\n",
        "Python is available on multiple platforms (Windows, macOS, Linux), allowing developers to write code that can run on various operating systems without modification.\n",
        "\n",
        "\n",
        "**Large Standard Library:**\n",
        "\n",
        "\n",
        "Python comes with a vast standard library that includes modules and packages for a wide range of tasks, reducing the need for external libraries and making development more efficient.\n",
        "\n",
        "\n",
        "**Dynamic Typing:**\n",
        "\n",
        "\n",
        "Python is dynamically typed, which means you don't need to declare variable types explicitly. Variable types are determined at runtime, providing flexibility.\n",
        "\n",
        "\n",
        "**Support for Multiple Programming Paradigms:**\n",
        "\n",
        "\n",
        "Python supports multiple programming paradigms, including procedural, object-oriented, and functional programming, allowing developers to choose the best approach for their projects.\n",
        "\n",
        "\n",
        "**Extensible:**\n",
        "\n",
        "\n",
        "Python can be extended through external libraries and modules, making it easy to incorporate third-party code into your applications.\n",
        "\n",
        "\n",
        "**Community and Ecosystem:**\n",
        "\n",
        "\n",
        "Python has a thriving and active community of developers, which means there are plenty of resources, libraries, and frameworks available to help with development.\n",
        "\n",
        "\n",
        "**Popular in Data Science and AI:**\n",
        "\n",
        "\n",
        "Python has become the language of choice for data science, machine learning, and artificial intelligence due to libraries like NumPy, pandas, TensorFlow, and PyTorch.\n",
        "\n",
        "\n",
        "**Open Source:**\n",
        "\n",
        "\n",
        "Python is open-source, which means it's freely available, and the source code can be modified and distributed by anyone.\n"
      ],
      "metadata": {
        "id": "fv5oPV64SC_c"
      }
    },
    {
      "cell_type": "markdown",
      "source": [
        "________________________________________"
      ],
      "metadata": {
        "id": "l-rwN7cqGlRM"
      }
    },
    {
      "cell_type": "markdown",
      "source": [
        "# ***variables, data types***"
      ],
      "metadata": {
        "id": "3Xag4RHNziv6"
      }
    },
    {
      "cell_type": "markdown",
      "source": [
        "--------------------------------------------"
      ],
      "metadata": {
        "id": "7FjvhSk_Gp81"
      }
    },
    {
      "cell_type": "markdown",
      "source": [
        "In Python, \"variables\" and \"data types\" are fundamental concepts that play a crucial role in how you store and manipulate information in your programs:\n",
        "\n",
        "**Variables:**\n",
        "\n",
        "\n",
        "Variables are used to store and manage data in a program. They act as symbolic names for values or data that can be changed or updated during the program's execution.\n",
        "\n",
        "In Python, you can create a variable by simply assigning a value to a name. For example, x = 42 creates a variable named x with the integer value 42.\n",
        "Variable names should follow certain naming rules, such as starting with a letter or underscore, and they are case-sensitive (e.g., myVar and myvar are different variables).\n",
        "\n",
        "\n",
        "**Data Types:**\n",
        "\n",
        "\n",
        "Data types define the kind of data that can be stored in a variable. Python is a dynamically-typed language, which means you don't need to declare the data type explicitly; it's determined automatically based on the value assigned to the variable.\n",
        "\n",
        "\n",
        "**Common data types in Python include:**\n",
        "\n",
        "**Integers (int):** Whole numbers like 42 or -10.\n",
        "Floating-Point Numbers (float): Numbers with a decimal point like 3.14.\n",
        "\n",
        "**Strings (str):** Text or sequences of characters enclosed in single or double quotes like \"Hello, Python!\".\n",
        "\n",
        "**Booleans (bool):** Represents either True or False, often used for logical conditions.\n",
        "\n",
        "**Lists (list):** Ordered collections of items that can be of different data types, enclosed in square brackets like [1, 2, 3].\n",
        "\n",
        "**Tuples (tuple):** Similar to lists but immutable (cannot be changed after creation), enclosed in parentheses like (1, 2, 3).\n",
        "\n",
        "**Dictionaries (dict):** Key-value pairs for efficient data retrieval, enclosed in curly braces like {\"name\": \"Alice\", \"age\": 30}.\n",
        "\n",
        "**Sets (set):** Unordered collections of unique items, enclosed in curly braces like {1, 2, 3}.\n",
        "\n",
        "**None (NoneType):** Represents the absence of a value or a null value.\n",
        "\n",
        "**Python's dynamic typing allows variables to change data types during their lifetime.**"
      ],
      "metadata": {
        "id": "qRoaaMDxSgS2"
      }
    },
    {
      "cell_type": "markdown",
      "source": [
        "Variable Declaration:"
      ],
      "metadata": {
        "id": "Ybl13ZNr03A1"
      }
    },
    {
      "cell_type": "code",
      "source": [
        "name = \"Alice\"\n",
        "age = 54\n"
      ],
      "metadata": {
        "id": "V202HQdNFKg5"
      },
      "execution_count": null,
      "outputs": []
    },
    {
      "cell_type": "markdown",
      "source": [
        "String Variable:"
      ],
      "metadata": {
        "id": "UmneFJez06hE"
      }
    },
    {
      "cell_type": "code",
      "source": [
        "message = \"Hello, All!\"\n"
      ],
      "metadata": {
        "id": "jS0NlFLGFVel"
      },
      "execution_count": null,
      "outputs": []
    },
    {
      "cell_type": "markdown",
      "source": [
        "Integer Variable:"
      ],
      "metadata": {
        "id": "1Nhs1wNa086V"
      }
    },
    {
      "cell_type": "code",
      "source": [
        "number = 47"
      ],
      "metadata": {
        "id": "MxYhbXuoFdEt"
      },
      "execution_count": null,
      "outputs": []
    },
    {
      "cell_type": "markdown",
      "source": [
        "Float Variable:"
      ],
      "metadata": {
        "id": "DMW3eKbX0-YF"
      }
    },
    {
      "cell_type": "code",
      "source": [
        "float = 999.99999"
      ],
      "metadata": {
        "id": "KOQAwLpPFkQ-"
      },
      "execution_count": null,
      "outputs": []
    },
    {
      "cell_type": "markdown",
      "source": [
        "Boolean Variable:"
      ],
      "metadata": {
        "id": "Y56d4HLM0_-l"
      }
    },
    {
      "cell_type": "code",
      "source": [
        "is_valid = True\n"
      ],
      "metadata": {
        "id": "VDJRdgqHFqlD"
      },
      "execution_count": null,
      "outputs": []
    },
    {
      "cell_type": "markdown",
      "source": [
        "List Variable:"
      ],
      "metadata": {
        "id": "g91MTS7n1BPT"
      }
    },
    {
      "cell_type": "code",
      "source": [
        "numbers = [1,2,3,4,5,6,7]"
      ],
      "metadata": {
        "id": "gj3Z5OxeFyHE"
      },
      "execution_count": null,
      "outputs": []
    },
    {
      "cell_type": "markdown",
      "source": [
        "Tuple Variable:"
      ],
      "metadata": {
        "id": "rV5uQtmY1C80"
      }
    },
    {
      "cell_type": "code",
      "source": [
        "coordinates = (3,4)"
      ],
      "metadata": {
        "id": "ktnF1iyLGIg3"
      },
      "execution_count": null,
      "outputs": []
    },
    {
      "cell_type": "markdown",
      "source": [
        "Dictionary Variable:"
      ],
      "metadata": {
        "id": "jNKZlyoQ1ExV"
      }
    },
    {
      "cell_type": "code",
      "source": [
        "person = {\"name\": \"Bobby\", \"age\": 25}"
      ],
      "metadata": {
        "id": "WzRc-eRcGRK8"
      },
      "execution_count": null,
      "outputs": []
    },
    {
      "cell_type": "markdown",
      "source": [
        "Set Variable:"
      ],
      "metadata": {
        "id": "0UHQRDBk1FzO"
      }
    },
    {
      "cell_type": "code",
      "source": [
        "unique_numbers = {1,2,3,4,5,6,7,8,9,10}"
      ],
      "metadata": {
        "id": "00gRPCeVHeL-"
      },
      "execution_count": null,
      "outputs": []
    },
    {
      "cell_type": "markdown",
      "source": [
        "NoneType Variable:"
      ],
      "metadata": {
        "id": "RFCXCNMK1IBb"
      }
    },
    {
      "cell_type": "code",
      "source": [
        "no_value = None"
      ],
      "metadata": {
        "id": "HXxz-01zHqiu"
      },
      "execution_count": null,
      "outputs": []
    },
    {
      "cell_type": "markdown",
      "source": [
        "Variable Type Conversion - int to str:"
      ],
      "metadata": {
        "id": "6546NOUz1KwL"
      }
    },
    {
      "cell_type": "code",
      "source": [
        "number = 47\n",
        "str_number = str(number)"
      ],
      "metadata": {
        "id": "EBjKdXpVHvgk"
      },
      "execution_count": null,
      "outputs": []
    },
    {
      "cell_type": "markdown",
      "source": [
        "Variable Type Conversion - str to int:"
      ],
      "metadata": {
        "id": "S-7trPDW1MNM"
      }
    },
    {
      "cell_type": "code",
      "source": [
        "str_number = \"45\"\n",
        "int_number = int(str_number)"
      ],
      "metadata": {
        "id": "7dyM3tflH-AL"
      },
      "execution_count": null,
      "outputs": []
    },
    {
      "cell_type": "markdown",
      "source": [
        "Convert Float to Integer:"
      ],
      "metadata": {
        "id": "ZQWEFq3y1V9k"
      }
    },
    {
      "cell_type": "code",
      "source": [
        "float_number = 853.24\n",
        "int_number = int(float_number)"
      ],
      "metadata": {
        "id": "B1mWiZfXJ2ds"
      },
      "execution_count": null,
      "outputs": []
    },
    {
      "cell_type": "markdown",
      "source": [
        "Complex Number Variable:"
      ],
      "metadata": {
        "id": "yS05keyO1NVs"
      }
    },
    {
      "cell_type": "code",
      "source": [
        "complex_num = 2 + 3j"
      ],
      "metadata": {
        "id": "a-K-gGWsIF-d"
      },
      "execution_count": null,
      "outputs": []
    },
    {
      "cell_type": "markdown",
      "source": [
        "List of Mixed Data Types:"
      ],
      "metadata": {
        "id": "Dkqyd5dM1QFr"
      }
    },
    {
      "cell_type": "code",
      "source": [
        "mixed_data = [1, \"string\", True, 3.14]\n"
      ],
      "metadata": {
        "id": "kFS-17SYIcqB"
      },
      "execution_count": null,
      "outputs": []
    },
    {
      "cell_type": "markdown",
      "source": [
        "String Slicing:"
      ],
      "metadata": {
        "id": "J1tPnaux1R9E"
      }
    },
    {
      "cell_type": "code",
      "source": [
        "text = \"Python Programming\"\n",
        "substring = text[2:6]\n"
      ],
      "metadata": {
        "id": "2CA1D486Il-l"
      },
      "execution_count": null,
      "outputs": []
    },
    {
      "cell_type": "markdown",
      "source": [
        "Variable Concatenation:"
      ],
      "metadata": {
        "id": "Fr2Tr-4x1Tl8"
      }
    },
    {
      "cell_type": "code",
      "source": [
        "first_name = \"John\"\n",
        "sec_name = \"Doe\"\n",
        "full_name = first_name + sec_name"
      ],
      "metadata": {
        "id": "m26_giakJBv4"
      },
      "execution_count": null,
      "outputs": []
    },
    {
      "cell_type": "markdown",
      "source": [
        "Boolean Expression:"
      ],
      "metadata": {
        "id": "eyw-HVy51U18"
      }
    },
    {
      "cell_type": "code",
      "source": [
        "x = 8\n",
        "y = 4\n",
        "is_greater = x > y"
      ],
      "metadata": {
        "id": "RAGNTTSzJdIR"
      },
      "execution_count": null,
      "outputs": []
    },
    {
      "cell_type": "markdown",
      "source": [
        "List Comprehension:"
      ],
      "metadata": {
        "id": "c8EZZXj71W8E"
      }
    },
    {
      "cell_type": "code",
      "source": [
        "num = [1,2,3,4,5,6]\n",
        "sq_num = [x**2 for x in num]"
      ],
      "metadata": {
        "id": "aPeW7naIK5OE"
      },
      "execution_count": null,
      "outputs": []
    },
    {
      "cell_type": "markdown",
      "source": [
        "Variable Swapping Without a Temporary Variable:"
      ],
      "metadata": {
        "id": "30jXHNu_1Yx8"
      }
    },
    {
      "cell_type": "code",
      "source": [
        "a = 8\n",
        "b = 6\n",
        "a, b = b, a"
      ],
      "metadata": {
        "id": "8TDpXIHwLK3-"
      },
      "execution_count": null,
      "outputs": []
    },
    {
      "cell_type": "markdown",
      "source": [
        "Named Tuple Variable:"
      ],
      "metadata": {
        "id": "ufTPTn1z1bVh"
      }
    },
    {
      "cell_type": "code",
      "source": [
        "from collections import namedtuple\n",
        "point = namedtuple(\"Point\", [\"x\", \"y\"])\n",
        "p = point(4,3)\n"
      ],
      "metadata": {
        "id": "05dVQexVLg8Y"
      },
      "execution_count": null,
      "outputs": []
    },
    {
      "cell_type": "markdown",
      "source": [
        "List of Lists (2D List):"
      ],
      "metadata": {
        "id": "V5qZulsu1eKG"
      }
    },
    {
      "cell_type": "code",
      "source": [
        "matrix = [[1,2,3],[1,2,3],[1,2,3]]"
      ],
      "metadata": {
        "id": "QU8_6r4ARVDZ"
      },
      "execution_count": null,
      "outputs": []
    },
    {
      "cell_type": "markdown",
      "source": [
        "String Formatting - f-strings:"
      ],
      "metadata": {
        "id": "-IVdjetE1fm2"
      }
    },
    {
      "cell_type": "code",
      "source": [
        "name = \"ALice\"\n",
        "age = 54\n",
        "formatting_string = f\"My name is {name} and I'm {age} years old.\"\n"
      ],
      "metadata": {
        "id": "n4u6NNNYRgmB"
      },
      "execution_count": null,
      "outputs": []
    },
    {
      "cell_type": "markdown",
      "source": [
        "List of Dictionaries:"
      ],
      "metadata": {
        "id": "nUXiBtC-1iGm"
      }
    },
    {
      "cell_type": "code",
      "source": [
        "students = [{\"name\": \"alice\", \"age\": 85},{\"name\": \"Ajay\", \"age\": 54}]"
      ],
      "metadata": {
        "id": "j7Bxj7dFR_qU"
      },
      "execution_count": null,
      "outputs": []
    },
    {
      "cell_type": "markdown",
      "source": [
        "String Escape Sequence:"
      ],
      "metadata": {
        "id": "J5CZq4wy1jI-"
      }
    },
    {
      "cell_type": "code",
      "source": [
        "escaped_text = \"this is a\\nyoutube channel\""
      ],
      "metadata": {
        "id": "Ma4LHeoPSRI4"
      },
      "execution_count": null,
      "outputs": []
    },
    {
      "cell_type": "markdown",
      "source": [
        "Custom Data Type (Class):"
      ],
      "metadata": {
        "id": "Yw4G3Jw51kQu"
      }
    },
    {
      "cell_type": "code",
      "source": [
        "class Person:\n",
        "  def __init__(self, name, age):\n",
        "    self.name = name\n",
        "    self.age = age\n",
        "\n",
        "person = Person(\"John\", 60)\n"
      ],
      "metadata": {
        "id": "G4_aDu-HSzxQ"
      },
      "execution_count": null,
      "outputs": []
    },
    {
      "cell_type": "markdown",
      "source": [
        "###########################################"
      ],
      "metadata": {
        "id": "JHTonWlo1-El"
      }
    },
    {
      "cell_type": "markdown",
      "source": [
        "# ***OPERATORS: ARITHMETIC, LOGICAL, BOOLEAN, BITWISE***"
      ],
      "metadata": {
        "id": "5W6ZREEn1rme"
      }
    },
    {
      "cell_type": "markdown",
      "source": [
        "Arithmetic Operators:\n",
        "\n",
        "Arithmetic operators are used to perform mathematical operations on numeric values.\n",
        "Common arithmetic operators include + (addition), - (subtraction), * (multiplication), / (division), % (modulus or remainder), and ** (exponentiation).\n",
        "Example: x = 5 + 3 sets the value of x to 8.\n",
        "\n",
        "Logical Operators:\n",
        "\n",
        "Logical operators are used to perform logical operations on Boolean values (True or False).\n",
        "Common logical operators include and (logical AND), or (logical OR), and not (logical NOT).\n",
        "They are often used in conditional statements and help determine the flow of a program based on conditions.\n",
        "Example: result = (x > 5) and (y < 10) checks if both x is greater than 5 and y is less than 10.\n",
        "\n",
        "Boolean Operators:\n",
        "\n",
        "Boolean operators are used to manipulate Boolean values and expressions.\n",
        "Common Boolean operators include True and False, which represent the two Boolean values.\n",
        "They are often used to create conditional statements and control the program's behavior.\n",
        "Example: is_valid = True assigns the value True to the is_valid variable.\n",
        "\n",
        "\n",
        "Bitwise Operators:\n",
        "\n",
        "Bitwise operators are used to perform operations at the bit level on integers.\n",
        "Common bitwise operators include & (bitwise AND), | (bitwise OR), ^ (bitwise XOR), ~ (bitwise NOT), << (left shift), and >> (right shift).\n",
        "These operators are typically used in low-level programming and can be useful for tasks involving binary representation and manipulation.\n",
        "Example: result = a & b performs a bitwise AND operation between integers a and b."
      ],
      "metadata": {
        "id": "USQOD6amTXoz"
      }
    },
    {
      "cell_type": "markdown",
      "source": [
        "Addition Operator:"
      ],
      "metadata": {
        "id": "IHVeehi02GWU"
      }
    },
    {
      "cell_type": "code",
      "source": [
        "5+3"
      ],
      "metadata": {
        "id": "QSdvd0fdT3YI"
      },
      "execution_count": null,
      "outputs": []
    },
    {
      "cell_type": "markdown",
      "source": [
        "Subtraction Operator:"
      ],
      "metadata": {
        "id": "pNQA5_ah2IGN"
      }
    },
    {
      "cell_type": "code",
      "source": [
        "5-3\n"
      ],
      "metadata": {
        "id": "Nh0yhoHtT5EP"
      },
      "execution_count": null,
      "outputs": []
    },
    {
      "cell_type": "markdown",
      "source": [
        "Multiplication Operator:"
      ],
      "metadata": {
        "id": "X5p7RkPO2JG2"
      }
    },
    {
      "cell_type": "code",
      "source": [
        "5*3"
      ],
      "metadata": {
        "id": "Og-Ey-BgUDnP"
      },
      "execution_count": null,
      "outputs": []
    },
    {
      "cell_type": "markdown",
      "source": [
        "Division Operator:"
      ],
      "metadata": {
        "id": "FLUCE90o2KO1"
      }
    },
    {
      "cell_type": "code",
      "source": [
        "15/3"
      ],
      "metadata": {
        "id": "r7lnLpKzUFQu"
      },
      "execution_count": null,
      "outputs": []
    },
    {
      "cell_type": "markdown",
      "source": [
        "Modulus Operator (Remainder):"
      ],
      "metadata": {
        "id": "ErVKBY8w2Lbu"
      }
    },
    {
      "cell_type": "code",
      "source": [
        "20%7"
      ],
      "metadata": {
        "id": "4N36mjMiUHkP"
      },
      "execution_count": null,
      "outputs": []
    },
    {
      "cell_type": "markdown",
      "source": [
        "Logical AND Operator:"
      ],
      "metadata": {
        "id": "OPW48gKg2MfV"
      }
    },
    {
      "cell_type": "code",
      "source": [
        "True and False"
      ],
      "metadata": {
        "id": "FLvQ0ehNUK6o"
      },
      "execution_count": null,
      "outputs": []
    },
    {
      "cell_type": "markdown",
      "source": [
        "Logical OR Operator:"
      ],
      "metadata": {
        "id": "hD0wqF0C2NYP"
      }
    },
    {
      "cell_type": "code",
      "source": [
        "True or False"
      ],
      "metadata": {
        "id": "skh40RJYUPcR"
      },
      "execution_count": null,
      "outputs": []
    },
    {
      "cell_type": "markdown",
      "source": [
        "Boolean NOT Operator:"
      ],
      "metadata": {
        "id": "C0JRLuN22Ob1"
      }
    },
    {
      "cell_type": "code",
      "source": [
        "result = not True"
      ],
      "metadata": {
        "id": "GH-xQbAeUSEI"
      },
      "execution_count": null,
      "outputs": []
    },
    {
      "cell_type": "markdown",
      "source": [
        "Bitwise AND Operator:"
      ],
      "metadata": {
        "id": "wd1Fj8762QMF"
      }
    },
    {
      "cell_type": "code",
      "source": [
        "5 & 3"
      ],
      "metadata": {
        "id": "vRXoU81cUVqf"
      },
      "execution_count": null,
      "outputs": []
    },
    {
      "cell_type": "markdown",
      "source": [
        "Bitwise OR Operator:"
      ],
      "metadata": {
        "id": "8h0qLRt32Q7G"
      }
    },
    {
      "cell_type": "code",
      "source": [
        "5 | 3"
      ],
      "metadata": {
        "id": "rMn_rNRcUX4Z"
      },
      "execution_count": null,
      "outputs": []
    },
    {
      "cell_type": "markdown",
      "source": [
        "Exponentiation Operator (Power):"
      ],
      "metadata": {
        "id": "HkMT447z2TY9"
      }
    },
    {
      "cell_type": "code",
      "source": [
        "2**3"
      ],
      "metadata": {
        "id": "4YvFMaq8Ua1L"
      },
      "execution_count": null,
      "outputs": []
    },
    {
      "cell_type": "markdown",
      "source": [
        "Floor Division Operator:"
      ],
      "metadata": {
        "id": "yxH328NR2Utl"
      }
    },
    {
      "cell_type": "code",
      "source": [
        "10//3"
      ],
      "metadata": {
        "id": "BpVa4dF1UfSZ"
      },
      "execution_count": null,
      "outputs": []
    },
    {
      "cell_type": "markdown",
      "source": [
        "Logical XOR Operator:"
      ],
      "metadata": {
        "id": "_8pso0XM2WF1"
      }
    },
    {
      "cell_type": "code",
      "source": [
        "True ^ False"
      ],
      "metadata": {
        "id": "nugUjcdAU1Ue"
      },
      "execution_count": null,
      "outputs": []
    },
    {
      "cell_type": "markdown",
      "source": [
        "Bitwise XOR Operator:"
      ],
      "metadata": {
        "id": "NobMBwr72XlG"
      }
    },
    {
      "cell_type": "code",
      "source": [
        "5 ^ 3"
      ],
      "metadata": {
        "id": "BeHZg3K5U5D3"
      },
      "execution_count": null,
      "outputs": []
    },
    {
      "cell_type": "markdown",
      "source": [
        "Bitwise Left Shift Operator:"
      ],
      "metadata": {
        "id": "zn9VYfd52Y4d"
      }
    },
    {
      "cell_type": "code",
      "source": [
        "4<<2"
      ],
      "metadata": {
        "id": "fFeDz3IlU7Xm"
      },
      "execution_count": null,
      "outputs": []
    },
    {
      "cell_type": "markdown",
      "source": [
        "Bitwise Right Shift Operator:"
      ],
      "metadata": {
        "id": "dqk7BAi72aAd"
      }
    },
    {
      "cell_type": "code",
      "source": [
        "16>>2"
      ],
      "metadata": {
        "id": "vJLU16SJU9c_"
      },
      "execution_count": null,
      "outputs": []
    },
    {
      "cell_type": "markdown",
      "source": [
        "Comparison Operator (Equal):"
      ],
      "metadata": {
        "id": "HYGzKXuJ2bTN"
      }
    },
    {
      "cell_type": "code",
      "source": [
        "5==5"
      ],
      "metadata": {
        "id": "FjZ7pr7-U_hV"
      },
      "execution_count": null,
      "outputs": []
    },
    {
      "cell_type": "markdown",
      "source": [
        "Comparison Operator (Not Equal):"
      ],
      "metadata": {
        "id": "qlxr7uFS2cnF"
      }
    },
    {
      "cell_type": "code",
      "source": [
        "5!=8"
      ],
      "metadata": {
        "id": "JtGZpyRvVB3a"
      },
      "execution_count": null,
      "outputs": []
    },
    {
      "cell_type": "markdown",
      "source": [
        "Comparison Operator (Greater Than):"
      ],
      "metadata": {
        "id": "QqbNgMj-2dkl"
      }
    },
    {
      "cell_type": "code",
      "source": [
        "8>4"
      ],
      "metadata": {
        "id": "QNpW9W6oVEc8"
      },
      "execution_count": null,
      "outputs": []
    },
    {
      "cell_type": "markdown",
      "source": [
        "Comparison Operator (Less Than or Equal):"
      ],
      "metadata": {
        "id": "ifnxpHCa2ev-"
      }
    },
    {
      "cell_type": "code",
      "source": [
        "10 <= 10"
      ],
      "metadata": {
        "id": "asJ99FRjVGdq"
      },
      "execution_count": null,
      "outputs": []
    },
    {
      "cell_type": "markdown",
      "source": [
        "Compound Assignment Operator (+=):"
      ],
      "metadata": {
        "id": "5x544cRB2gL-"
      }
    },
    {
      "cell_type": "code",
      "source": [
        "x=5\n",
        "x+=3"
      ],
      "metadata": {
        "id": "N-9ptIvMVJ_p"
      },
      "execution_count": null,
      "outputs": []
    },
    {
      "cell_type": "markdown",
      "source": [
        "Bitwise NOT Operator:"
      ],
      "metadata": {
        "id": "4FtcSoBL2iC9"
      }
    },
    {
      "cell_type": "code",
      "source": [
        "result = ~5"
      ],
      "metadata": {
        "id": "iZOvp7dIBCgy"
      },
      "execution_count": null,
      "outputs": []
    },
    {
      "cell_type": "markdown",
      "source": [
        "Chained Comparison Operators:"
      ],
      "metadata": {
        "id": "G2W5nyXO2jNt"
      }
    },
    {
      "cell_type": "code",
      "source": [
        "result = 3 < 5 < 7"
      ],
      "metadata": {
        "id": "1VDzquM1BDdW"
      },
      "execution_count": null,
      "outputs": []
    },
    {
      "cell_type": "markdown",
      "source": [
        "Bitwise XOR with Toggle Operator:"
      ],
      "metadata": {
        "id": "3avddPeR2kU-"
      }
    },
    {
      "cell_type": "code",
      "source": [
        "x = 8\n",
        "x ^= 4"
      ],
      "metadata": {
        "id": "iCfqCJVkBF-X"
      },
      "execution_count": null,
      "outputs": []
    },
    {
      "cell_type": "markdown",
      "source": [
        "Shorthand If-Else using Ternary Operator:"
      ],
      "metadata": {
        "id": "h10SEUyp2leW"
      }
    },
    {
      "cell_type": "code",
      "source": [
        "value = 10\n",
        "result = \"Even\" if value % 2 == 0 else \"Odd\"\n"
      ],
      "metadata": {
        "id": "3qCV-kOuBLOo"
      },
      "execution_count": null,
      "outputs": []
    },
    {
      "cell_type": "markdown",
      "source": [
        "Bitwise Shift and Masking:"
      ],
      "metadata": {
        "id": "VNVaI9nW2m1d"
      }
    },
    {
      "cell_type": "code",
      "source": [
        "value = 0b11011010\n",
        "shifted = (value >> 3) & 0b111  # Shift right by 3 and mask the last 3 bits\n"
      ],
      "metadata": {
        "id": "yzKnJqelBMO-"
      },
      "execution_count": null,
      "outputs": []
    },
    {
      "cell_type": "markdown",
      "source": [
        "Complex Logical Expression:"
      ],
      "metadata": {
        "id": "rhY7LXyp2n6j"
      }
    },
    {
      "cell_type": "code",
      "source": [
        "result = (True and False) or (not False and True)\n"
      ],
      "metadata": {
        "id": "BJ7zJ0cZBRx4"
      },
      "execution_count": null,
      "outputs": []
    },
    {
      "cell_type": "markdown",
      "source": [
        "Bitwise Operations on Binary Representation:"
      ],
      "metadata": {
        "id": "JnkkF_j82p9q"
      }
    },
    {
      "cell_type": "code",
      "source": [
        "a = 0b1010\n",
        "b = 0b1100\n",
        "result_and = bin(a & b)\n",
        "result_or = bin(a | b)\n"
      ],
      "metadata": {
        "id": "sjJ8Is1rBYrW"
      },
      "execution_count": null,
      "outputs": []
    },
    {
      "cell_type": "markdown",
      "source": [
        "####################################"
      ],
      "metadata": {
        "id": "OcARPnaf3aqa"
      }
    },
    {
      "cell_type": "markdown",
      "source": [
        "# ***LISTS***"
      ],
      "metadata": {
        "id": "MD9au0t92rLS"
      }
    },
    {
      "cell_type": "markdown",
      "source": [
        "A list in Python is an ordered, mutable collection of items. It can store different data types, and you can access, modify, add, or remove items. Lists are commonly used for managing sequences of data, such as numbers or strings, and they support operations like indexing, iteration, and list comprehensions.\n",
        "\n",
        "Python provides several built-in functions and methods for working with lists. These functions and methods allow you to perform various operations on lists. Here are some of the commonly used list functions and methods:\n",
        "\n",
        "List Functions:\n",
        "\n",
        "len(): Returns the number of elements in a list.\n",
        "\n",
        "max(): Returns the maximum value in a list (if the list contains numbers).\n",
        "\n",
        "min(): Returns the minimum value in a list (if the list contains numbers).\n",
        "\n",
        "sum(): Returns the sum of all elements in a list (if the list contains numbers).\n",
        "\n",
        "sorted(): Returns a sorted copy of the list.\n",
        "\n",
        "reversed(): Returns a reversed copy of the list.\n",
        "\n",
        "list(): Converts an iterable (e.g., a tuple or string) into a list.\n",
        "\n",
        "any(): Returns True if at least one element in the list is True (useful for boolean lists).\n",
        "\n",
        "all(): Returns True if all elements in the list are True (useful for boolean lists).\n",
        "\n",
        "\n",
        "List Methods:\n",
        "\n",
        "append(): Adds an element to the end of the list.\n",
        "\n",
        "extend(): Extends the list by appending elements from another iterable.\n",
        "\n",
        "insert(): Inserts an element at a specific position in the list.\n",
        "\n",
        "remove(): Removes the first occurrence of a specific element.\n",
        "\n",
        "pop(): Removes and returns an element at a specific index.\n",
        "\n",
        "index(): Returns the index of the first occurrence of a specific element.\n",
        "\n",
        "count(): Returns the number of times a specific element appears in the list.\n",
        "\n",
        "sort(): Sorts the list in ascending order (in-place).\n",
        "\n",
        "reverse(): Reverses the order of elements in the list (in-place).\n",
        "\n",
        "clear(): Removes all elements from the list.\n",
        "\n",
        "copy(): Returns a shallow copy of the list.\n",
        "\n",
        "list.index(): Returns the index of a specified value within a specified range."
      ],
      "metadata": {
        "id": "7_VnlCSuT00R"
      }
    },
    {
      "cell_type": "markdown",
      "source": [
        "Create a List:"
      ],
      "metadata": {
        "id": "gA6WniVS202y"
      }
    },
    {
      "cell_type": "code",
      "source": [
        "my_list = [1, 2, 3, 4, 5]\n"
      ],
      "metadata": {
        "id": "ZrFXmxtABdlt"
      },
      "execution_count": null,
      "outputs": []
    },
    {
      "cell_type": "markdown",
      "source": [
        "Access an Element:"
      ],
      "metadata": {
        "id": "NkcyOJKf22Sv"
      }
    },
    {
      "cell_type": "code",
      "source": [
        "element = my_list[2]\n"
      ],
      "metadata": {
        "id": "6_T1bH-bBfuG"
      },
      "execution_count": null,
      "outputs": []
    },
    {
      "cell_type": "markdown",
      "source": [
        "Add an Element:"
      ],
      "metadata": {
        "id": "HEdyMywL24k1"
      }
    },
    {
      "cell_type": "code",
      "source": [
        "my_list.append(6)\n"
      ],
      "metadata": {
        "id": "3QuH32P1Bh0P"
      },
      "execution_count": null,
      "outputs": []
    },
    {
      "cell_type": "markdown",
      "source": [
        "Remove an Element:"
      ],
      "metadata": {
        "id": "1bCPc9cO25kG"
      }
    },
    {
      "cell_type": "code",
      "source": [
        "my_list.remove(3)\n"
      ],
      "metadata": {
        "id": "ol6eWn2DBjtY"
      },
      "execution_count": null,
      "outputs": []
    },
    {
      "cell_type": "markdown",
      "source": [
        "List Length:"
      ],
      "metadata": {
        "id": "Hwy-ESmD26_V"
      }
    },
    {
      "cell_type": "code",
      "source": [
        "length = len(my_list)\n"
      ],
      "metadata": {
        "id": "GlZEMSmTBmLf"
      },
      "execution_count": null,
      "outputs": []
    },
    {
      "cell_type": "markdown",
      "source": [
        "Check if Element Exists:"
      ],
      "metadata": {
        "id": "LTL3cSws2791"
      }
    },
    {
      "cell_type": "code",
      "source": [
        "exists = 4 in my_list\n"
      ],
      "metadata": {
        "id": "SfRx8wWsBoHp"
      },
      "execution_count": null,
      "outputs": []
    },
    {
      "cell_type": "markdown",
      "source": [
        "Concatenate Lists:"
      ],
      "metadata": {
        "id": "zxNSSMY028-f"
      }
    },
    {
      "cell_type": "code",
      "source": [
        "combined_list = my_list + [7, 8, 9]\n"
      ],
      "metadata": {
        "id": "4L3Yer6YBrLR"
      },
      "execution_count": null,
      "outputs": []
    },
    {
      "cell_type": "markdown",
      "source": [
        "Sort a List:"
      ],
      "metadata": {
        "id": "MtrWBkUD2-K9"
      }
    },
    {
      "cell_type": "code",
      "source": [
        "my_list.sort()\n"
      ],
      "metadata": {
        "id": "HhW-zj68Busg"
      },
      "execution_count": null,
      "outputs": []
    },
    {
      "cell_type": "markdown",
      "source": [
        "Reverse a List:"
      ],
      "metadata": {
        "id": "1qDph76T2_NF"
      }
    },
    {
      "cell_type": "code",
      "source": [
        "my_list.reverse()\n"
      ],
      "metadata": {
        "id": "m5VaBr66BwOI"
      },
      "execution_count": null,
      "outputs": []
    },
    {
      "cell_type": "markdown",
      "source": [
        "Clear a List:"
      ],
      "metadata": {
        "id": "M5WwIZib3AGd"
      }
    },
    {
      "cell_type": "code",
      "source": [
        "my_list.clear()\n"
      ],
      "metadata": {
        "id": "rouCfBVEBw3Q"
      },
      "execution_count": null,
      "outputs": []
    },
    {
      "cell_type": "markdown",
      "source": [
        "List Comprehension - Square Elements:"
      ],
      "metadata": {
        "id": "ekORnLnQ3BVl"
      }
    },
    {
      "cell_type": "code",
      "source": [
        "squared = [x**2 for x in my_list]\n"
      ],
      "metadata": {
        "id": "bGZ997zhB1GY"
      },
      "execution_count": null,
      "outputs": []
    },
    {
      "cell_type": "markdown",
      "source": [
        "Slice a List:"
      ],
      "metadata": {
        "id": "WW4I7bq03CbF"
      }
    },
    {
      "cell_type": "code",
      "source": [
        "sliced_list = my_list[1:4]\n"
      ],
      "metadata": {
        "id": "IHBKPF_DB3HJ"
      },
      "execution_count": null,
      "outputs": []
    },
    {
      "cell_type": "markdown",
      "source": [
        "Count Occurrences of an Element:"
      ],
      "metadata": {
        "id": "iSVnEN0k3Dvm"
      }
    },
    {
      "cell_type": "code",
      "source": [
        "count = my_list.count(2)\n"
      ],
      "metadata": {
        "id": "qCx5tCguB3uI"
      },
      "execution_count": null,
      "outputs": []
    },
    {
      "cell_type": "markdown",
      "source": [
        "Remove Duplicates:"
      ],
      "metadata": {
        "id": "aPWqlEcm3E7F"
      }
    },
    {
      "cell_type": "code",
      "source": [
        "unique_list = list(set(my_list))\n"
      ],
      "metadata": {
        "id": "rN75so2vB5SI"
      },
      "execution_count": null,
      "outputs": []
    },
    {
      "cell_type": "markdown",
      "source": [
        "Find the Index of an Element:"
      ],
      "metadata": {
        "id": "cZlgC_mQ3G_O"
      }
    },
    {
      "cell_type": "code",
      "source": [
        "index = my_list.index(4)\n"
      ],
      "metadata": {
        "id": "FOE5r6hUB87Y"
      },
      "execution_count": null,
      "outputs": []
    },
    {
      "cell_type": "markdown",
      "source": [
        "Insert an Element at a Specific Position:"
      ],
      "metadata": {
        "id": "TaGqcktc3H_l"
      }
    },
    {
      "cell_type": "code",
      "source": [
        "my_list.insert(2, 7)\n"
      ],
      "metadata": {
        "id": "h5lJXaMoB_tb"
      },
      "execution_count": null,
      "outputs": []
    },
    {
      "cell_type": "markdown",
      "source": [
        "Iterate through a List with Index:"
      ],
      "metadata": {
        "id": "-hI1nKuF3I9V"
      }
    },
    {
      "cell_type": "code",
      "source": [
        "for index, value in enumerate(my_list):\n",
        "    print(f\"Element at index {index} is {value}\")\n"
      ],
      "metadata": {
        "id": "_kjAd7ucCBID"
      },
      "execution_count": null,
      "outputs": []
    },
    {
      "cell_type": "markdown",
      "source": [
        "Filter Elements:"
      ],
      "metadata": {
        "id": "ZOBK5q263KDF"
      }
    },
    {
      "cell_type": "code",
      "source": [
        "filtered_list = list(filter(lambda x: x % 2 == 0, my_list))\n"
      ],
      "metadata": {
        "id": "uUFsSjHaCEds"
      },
      "execution_count": null,
      "outputs": []
    },
    {
      "cell_type": "markdown",
      "source": [
        "Extend a List:"
      ],
      "metadata": {
        "id": "zrpXBYae3K7l"
      }
    },
    {
      "cell_type": "code",
      "source": [
        "my_list.extend([7, 8, 9])\n"
      ],
      "metadata": {
        "id": "F3H83QZ_CGbr"
      },
      "execution_count": null,
      "outputs": []
    },
    {
      "cell_type": "markdown",
      "source": [
        "Check if List is Empty:"
      ],
      "metadata": {
        "id": "JcomJHoo3L5e"
      }
    },
    {
      "cell_type": "code",
      "source": [
        "is_empty = not bool(my_list)\n"
      ],
      "metadata": {
        "id": "Q_qUHRl6CIVD"
      },
      "execution_count": null,
      "outputs": []
    },
    {
      "cell_type": "markdown",
      "source": [
        "Nested Lists - Flatten a List:"
      ],
      "metadata": {
        "id": "93fTAFSL3M_C"
      }
    },
    {
      "cell_type": "code",
      "source": [
        "flat_list = [item for sublist in nested_list for item in sublist]\n"
      ],
      "metadata": {
        "id": "63ZiuFY2CLB0"
      },
      "execution_count": null,
      "outputs": []
    },
    {
      "cell_type": "markdown",
      "source": [
        "Sort a List of Dictionaries by a Key:"
      ],
      "metadata": {
        "id": "u3K_Fqke3ONl"
      }
    },
    {
      "cell_type": "code",
      "source": [
        "sorted_list = sorted(dict_list, key=lambda x: x['key'])\n"
      ],
      "metadata": {
        "id": "_1eV9OpaCL0s"
      },
      "execution_count": null,
      "outputs": []
    },
    {
      "cell_type": "markdown",
      "source": [
        "Remove Elements While Iterating:"
      ],
      "metadata": {
        "id": "4H163IQf3PP2"
      }
    },
    {
      "cell_type": "code",
      "source": [
        "my_list = [x for x in my_list if some_condition(x)]\n"
      ],
      "metadata": {
        "id": "P32UvoZECNMZ"
      },
      "execution_count": null,
      "outputs": []
    },
    {
      "cell_type": "markdown",
      "source": [
        "Group Elements by a Criterion:"
      ],
      "metadata": {
        "id": "Zsc7GUx43QW9"
      }
    },
    {
      "cell_type": "code",
      "source": [
        "from itertools import groupby\n",
        "grouped = {key: list(group) for key, group in groupby(my_list, key=lambda x: x % 2 == 0)}\n"
      ],
      "metadata": {
        "id": "IvhmTLTjCPFT"
      },
      "execution_count": null,
      "outputs": []
    },
    {
      "cell_type": "markdown",
      "source": [
        "Create a List of Lists of a Fixed Size:"
      ],
      "metadata": {
        "id": "_roN-S913Rj-"
      }
    },
    {
      "cell_type": "code",
      "source": [
        "chunked_list = [my_list[i:i+chunk_size] for i in range(0, len(my_list), chunk_size)]\n"
      ],
      "metadata": {
        "id": "6kcNQMH_CPzJ"
      },
      "execution_count": null,
      "outputs": []
    },
    {
      "cell_type": "markdown",
      "source": [
        "Implement a Stack Using a List:"
      ],
      "metadata": {
        "id": "VRMvlfnZ3Sl2"
      }
    },
    {
      "cell_type": "code",
      "source": [
        "stack = []\n",
        "stack.append(1)  # Push\n",
        "popped_element = stack.pop()  # Pop\n"
      ],
      "metadata": {
        "id": "qqQpvSzyCRmp"
      },
      "execution_count": null,
      "outputs": []
    },
    {
      "cell_type": "markdown",
      "source": [
        "Implement a Queue Using a List:"
      ],
      "metadata": {
        "id": "AhvpbmbB3Tzq"
      }
    },
    {
      "cell_type": "code",
      "source": [
        "from collections import deque\n",
        "queue = deque()\n",
        "queue.append(1)  # Enqueue\n",
        "dequeued_element = queue.popleft()  # Dequeue\n"
      ],
      "metadata": {
        "id": "tW2PBMAoCUPp"
      },
      "execution_count": null,
      "outputs": []
    },
    {
      "cell_type": "markdown",
      "source": [
        "###################################"
      ],
      "metadata": {
        "id": "0aNzGVJ33ckx"
      }
    },
    {
      "cell_type": "markdown",
      "source": [
        "# ***TUPLES***"
      ],
      "metadata": {
        "id": "jAGJKFdL3dsa"
      }
    },
    {
      "cell_type": "markdown",
      "source": [
        "Tuple Functions:\n",
        "\n",
        "len(): Returns the number of elements in a tuple.\n",
        "\n",
        "max(): Returns the maximum value in a tuple (if the tuple contains numbers).\n",
        "\n",
        "min(): Returns the minimum value in a tuple (if the tuple contains numbers).\n",
        "\n",
        "sum(): Returns the sum of all elements in a tuple (if the tuple contains numbers).\n",
        "\n",
        "sorted(): Returns a sorted list of the elements in the tuple.\n",
        "\n",
        "tuple(): Converts an iterable (e.g., a list or string) into a tuple.\n",
        "\n",
        "Tuple Methods:\n",
        "\n",
        "Tuples have very few built-in methods because they are immutable, and you cannot change their contents. The available methods include:\n",
        "\n",
        "count(): Returns the number of times a specific element appears in the tuple.\n",
        "\n",
        "index(): Returns the index of the first occurrence of a specific element."
      ],
      "metadata": {
        "id": "OBK_XPB7VCEh"
      }
    },
    {
      "cell_type": "markdown",
      "source": [
        "Create a Tuple:"
      ],
      "metadata": {
        "id": "GtPUK0VT3h2t"
      }
    },
    {
      "cell_type": "code",
      "source": [
        "my_tuple = (1, 2, 3, 4, 5)\n"
      ],
      "metadata": {
        "id": "b-jc4OEhCnFB"
      },
      "execution_count": null,
      "outputs": []
    },
    {
      "cell_type": "markdown",
      "source": [
        "Access an Element:"
      ],
      "metadata": {
        "id": "3AKAOyx73jeN"
      }
    },
    {
      "cell_type": "code",
      "source": [
        "element = my_tuple[2]\n"
      ],
      "metadata": {
        "id": "lUFOxty9Coyp"
      },
      "execution_count": null,
      "outputs": []
    },
    {
      "cell_type": "markdown",
      "source": [
        "Tuple Length:"
      ],
      "metadata": {
        "id": "uvnmdEn83lQs"
      }
    },
    {
      "cell_type": "code",
      "source": [
        "length = len(my_tuple)\n"
      ],
      "metadata": {
        "id": "2ilbcUO_CpfZ"
      },
      "execution_count": null,
      "outputs": []
    },
    {
      "cell_type": "markdown",
      "source": [
        "Check if Element Exists:"
      ],
      "metadata": {
        "id": "BFFWZYn73mqk"
      }
    },
    {
      "cell_type": "code",
      "source": [
        "exists = 4 in my_tuple\n"
      ],
      "metadata": {
        "id": "vlYTGu1oCrc5"
      },
      "execution_count": null,
      "outputs": []
    },
    {
      "cell_type": "markdown",
      "source": [
        "Concatenate Tuples:"
      ],
      "metadata": {
        "id": "XQjCkpqV3nxF"
      }
    },
    {
      "cell_type": "code",
      "source": [
        "combined_tuple = my_tuple + (6, 7, 8)\n"
      ],
      "metadata": {
        "id": "pUYEbEYgCtSo"
      },
      "execution_count": null,
      "outputs": []
    },
    {
      "cell_type": "markdown",
      "source": [
        "Iterate through a Tuple:"
      ],
      "metadata": {
        "id": "1uInTad43pBU"
      }
    },
    {
      "cell_type": "code",
      "source": [
        "for item in my_tuple:\n",
        "    print(item)\n"
      ],
      "metadata": {
        "id": "M8o7KDKaCu4h"
      },
      "execution_count": null,
      "outputs": []
    },
    {
      "cell_type": "markdown",
      "source": [
        "Count Occurrences of an Element:"
      ],
      "metadata": {
        "id": "1j1Sq04p3qG2"
      }
    },
    {
      "cell_type": "code",
      "source": [
        "count = my_tuple.count(2)\n"
      ],
      "metadata": {
        "id": "u3rQUHQnCwiQ"
      },
      "execution_count": null,
      "outputs": []
    },
    {
      "cell_type": "markdown",
      "source": [
        "Convert a Tuple to a List:"
      ],
      "metadata": {
        "id": "JsXgMjC93rU0"
      }
    },
    {
      "cell_type": "code",
      "source": [
        "my_list = list(my_tuple)\n"
      ],
      "metadata": {
        "id": "R6RrqVAKCxLx"
      },
      "execution_count": null,
      "outputs": []
    },
    {
      "cell_type": "markdown",
      "source": [
        "Find the Minimum and Maximum Values:"
      ],
      "metadata": {
        "id": "xippwIi93sS0"
      }
    },
    {
      "cell_type": "code",
      "source": [
        "min_value = min(my_tuple)\n",
        "max_value = max(my_tuple)\n"
      ],
      "metadata": {
        "id": "xBqTFTfOCzCx"
      },
      "execution_count": null,
      "outputs": []
    },
    {
      "cell_type": "markdown",
      "source": [
        "Create a Tuple with a Single Element:"
      ],
      "metadata": {
        "id": "ORzCm_qi3tP1"
      }
    },
    {
      "cell_type": "code",
      "source": [
        "single_element_tuple = (42,)\n"
      ],
      "metadata": {
        "id": "nfyZ3uHvC1wi"
      },
      "execution_count": null,
      "outputs": []
    },
    {
      "cell_type": "markdown",
      "source": [
        "Tuple Unpacking:"
      ],
      "metadata": {
        "id": "Wq9cW6-X3uZF"
      }
    },
    {
      "cell_type": "code",
      "source": [
        "a, b, c = my_tuple[:3]\n"
      ],
      "metadata": {
        "id": "v2U0MU0nC7Th"
      },
      "execution_count": null,
      "outputs": []
    },
    {
      "cell_type": "markdown",
      "source": [
        "Slice a Tuple:"
      ],
      "metadata": {
        "id": "9meSUeV53vwd"
      }
    },
    {
      "cell_type": "code",
      "source": [
        "sliced_tuple = my_tuple[1:4]\n"
      ],
      "metadata": {
        "id": "hTEVYXWXC8ON"
      },
      "execution_count": null,
      "outputs": []
    },
    {
      "cell_type": "markdown",
      "source": [
        "Nested Tuples:"
      ],
      "metadata": {
        "id": "e7P2VNnP3wyG"
      }
    },
    {
      "cell_type": "code",
      "source": [
        "nested_tuple = ((1, 2), (3, 4), (5, 6))\n"
      ],
      "metadata": {
        "id": "hEipeXgMC-Mo"
      },
      "execution_count": null,
      "outputs": []
    },
    {
      "cell_type": "markdown",
      "source": [
        "Convert a List of Tuples to a List of Values:"
      ],
      "metadata": {
        "id": "3H92j-Ig3x0k"
      }
    },
    {
      "cell_type": "code",
      "source": [
        "list_of_tuples = [(1, 2), (3, 4), (5, 6)]\n",
        "flattened_list = [item for tpl in list_of_tuples for item in tpl]\n"
      ],
      "metadata": {
        "id": "7d2vu2dgC_-6"
      },
      "execution_count": null,
      "outputs": []
    },
    {
      "cell_type": "markdown",
      "source": [
        "Zip Tuples:"
      ],
      "metadata": {
        "id": "N3ynHaT53y0F"
      }
    },
    {
      "cell_type": "code",
      "source": [
        "tuple1 = (1, 2, 3)\n",
        "tuple2 = ('a', 'b', 'c')\n",
        "zipped = zip(tuple1, tuple2)\n"
      ],
      "metadata": {
        "id": "qTYCxSEJDI58"
      },
      "execution_count": null,
      "outputs": []
    },
    {
      "cell_type": "markdown",
      "source": [
        "Find the Index of an Element:"
      ],
      "metadata": {
        "id": "_zisdhVA32AF"
      }
    },
    {
      "cell_type": "code",
      "source": [
        "index = my_tuple.index(4)\n"
      ],
      "metadata": {
        "id": "YTCoNVIGDLrs"
      },
      "execution_count": null,
      "outputs": []
    },
    {
      "cell_type": "markdown",
      "source": [
        "Sort a List of Tuples by a Specific Element:"
      ],
      "metadata": {
        "id": "xPc-yHyE33Mk"
      }
    },
    {
      "cell_type": "code",
      "source": [
        "list_of_tuples = [(3, 'c'), (1, 'a'), (2, 'b')]\n",
        "sorted_list = sorted(list_of_tuples, key=lambda x: x[0])\n"
      ],
      "metadata": {
        "id": "4BYRI8BgDNN6"
      },
      "execution_count": null,
      "outputs": []
    },
    {
      "cell_type": "markdown",
      "source": [
        "Count Unique Elements in a Tuple:"
      ],
      "metadata": {
        "id": "ICPlH-0-34Ul"
      }
    },
    {
      "cell_type": "code",
      "source": [
        "unique_count = len(set(my_tuple))\n"
      ],
      "metadata": {
        "id": "xJFlgOYpDOor"
      },
      "execution_count": null,
      "outputs": []
    },
    {
      "cell_type": "markdown",
      "source": [
        "Merge Two Tuples into a New Tuple:"
      ],
      "metadata": {
        "id": "rUFJXx_k35hU"
      }
    },
    {
      "cell_type": "code",
      "source": [
        "tuple1 = (1, 2, 3)\n",
        "tuple2 = (4, 5, 6)\n",
        "merged_tuple = tuple1 + tuple2\n"
      ],
      "metadata": {
        "id": "4jJp2NNfDQdD"
      },
      "execution_count": null,
      "outputs": []
    },
    {
      "cell_type": "markdown",
      "source": [
        "Convert a Tuple of Strings to a Single String:"
      ],
      "metadata": {
        "id": "-GH-ZvWt3665"
      }
    },
    {
      "cell_type": "code",
      "source": [
        "tuple_of_strings = ('Hello', 'World')\n",
        "combined_string = ' '.join(tuple_of_strings)\n"
      ],
      "metadata": {
        "id": "JUpMORDQDSns"
      },
      "execution_count": null,
      "outputs": []
    },
    {
      "cell_type": "markdown",
      "source": [
        "Find the Longest Tuple in a List of Tuples:"
      ],
      "metadata": {
        "id": "x3985MVl39S-"
      }
    },
    {
      "cell_type": "code",
      "source": [
        "list_of_tuples = [(1, 2, 3), (4, 5), (6, 7, 8, 9)]\n",
        "longest_tuple = max(list_of_tuples, key=len)\n"
      ],
      "metadata": {
        "id": "k6GI0q_7DgwZ"
      },
      "execution_count": null,
      "outputs": []
    },
    {
      "cell_type": "markdown",
      "source": [
        "Tuple Intersection:"
      ],
      "metadata": {
        "id": "YwdCJlIR3-L1"
      }
    },
    {
      "cell_type": "code",
      "source": [
        "tuple1 = (1, 2, 3, 4)\n",
        "tuple2 = (3, 4, 5, 6)\n",
        "intersection = tuple(set(tuple1) & set(tuple2))\n"
      ],
      "metadata": {
        "id": "0cp8whlKDih4"
      },
      "execution_count": null,
      "outputs": []
    },
    {
      "cell_type": "markdown",
      "source": [
        "Tuple Packing:"
      ],
      "metadata": {
        "id": "7Cbck6wG3_PF"
      }
    },
    {
      "cell_type": "code",
      "source": [
        "def tuple_packing(a, b, c):\n",
        "    return a, b, c\n",
        "result_tuple = tuple_packing(1, 'apple', 3.14)\n"
      ],
      "metadata": {
        "id": "M4LHi4bNDkQQ"
      },
      "execution_count": null,
      "outputs": []
    },
    {
      "cell_type": "markdown",
      "source": [
        "Tuple Slicing with Steps:"
      ],
      "metadata": {
        "id": "V2-bvu324BW1"
      }
    },
    {
      "cell_type": "code",
      "source": [
        "sliced_tuple = my_tuple[1:6:2]  # Get every second element from index 1 to 5\n"
      ],
      "metadata": {
        "id": "swNERu7gDqSA"
      },
      "execution_count": null,
      "outputs": []
    },
    {
      "cell_type": "markdown",
      "source": [
        "Convert a Tuple of Tuples to a Dictionary:"
      ],
      "metadata": {
        "id": "X431d3GL4Cd1"
      }
    },
    {
      "cell_type": "code",
      "source": [
        "tuple_of_tuples = ((1, 'one'), (2, 'two'), (3, 'three'))\n",
        "dictionary = dict(tuple_of_tuples)\n"
      ],
      "metadata": {
        "id": "Cc_InDC9DuRI"
      },
      "execution_count": null,
      "outputs": []
    },
    {
      "cell_type": "markdown",
      "source": [
        "Remove Elements from a Tuple:"
      ],
      "metadata": {
        "id": "K5AcBV9W4D-V"
      }
    },
    {
      "cell_type": "code",
      "source": [
        "my_tuple = tuple(x for x in my_tuple if x != 3)\n"
      ],
      "metadata": {
        "id": "89aafV-EDvr3"
      },
      "execution_count": null,
      "outputs": []
    },
    {
      "cell_type": "markdown",
      "source": [
        "Rotate a Tuple to the Right by K Positions:"
      ],
      "metadata": {
        "id": "rcKEOdmb4FGs"
      }
    },
    {
      "cell_type": "code",
      "source": [
        "def rotate_tuple(tpl, k):\n",
        "    k = k % len(tpl)\n",
        "    rotated_tpl = tpl[-k:] + tpl[:-k]\n",
        "    return rotated_tpl\n"
      ],
      "metadata": {
        "id": "7caVXfuTD1UQ"
      },
      "execution_count": null,
      "outputs": []
    },
    {
      "cell_type": "markdown",
      "source": [
        "Tuple Packing and Unpacking in Function Arguments:"
      ],
      "metadata": {
        "id": "oDDzDJON4GSU"
      }
    },
    {
      "cell_type": "code",
      "source": [
        "def multiply(a, b):\n",
        "    return a * b\n",
        "\n",
        "tuple_args = (2, 3)\n",
        "result = multiply(*tuple_args)\n"
      ],
      "metadata": {
        "id": "qmqQ7ygkD3HB"
      },
      "execution_count": null,
      "outputs": []
    },
    {
      "cell_type": "markdown",
      "source": [
        "#####################################"
      ],
      "metadata": {
        "id": "aW7a2LD54H4e"
      }
    },
    {
      "cell_type": "markdown",
      "source": [
        "# ***SETS***"
      ],
      "metadata": {
        "id": "NWLBdrvH4JaM"
      }
    },
    {
      "cell_type": "markdown",
      "source": [
        "Sets are unordered collections of unique elements in Python. They have a set of built-in functions and methods that allow you to work with them effectively. Here are the commonly used set functions and methods:\n",
        "\n",
        "Set Functions:\n",
        "\n",
        "len(): Returns the number of elements in a set.\n",
        "\n",
        "set(): Creates a new set from an iterable (e.g., a list, tuple, or string).\n",
        "\n",
        "all(): Returns True if all elements in the set are True.\n",
        "\n",
        "any(): Returns True if at least one element in the set is True.\n",
        "\n",
        "max(): Returns the maximum element in the set.\n",
        "\n",
        "min(): Returns the minimum element in the set.\n",
        "\n",
        "sum(): Returns the sum of all elements in the set (if the set contains numbers).\n",
        "\n",
        "Set Methods:\n",
        "\n",
        "\n",
        "add(): Adds an element to the set. If the element is already present, it has no effect.\n",
        "\n",
        "remove(): Removes a specific element from the set.\n",
        "Raises a KeyError if the element is not found.\n",
        "\n",
        "discard(): Removes a specific element from the set if it is present. It does nothing if the element is not found.\n",
        "\n",
        "pop(): Removes and returns an arbitrary element from the set. Raises a KeyError if the set is empty.\n",
        "\n",
        "clear(): Removes all elements from the set, leaving an empty set.\n",
        "\n",
        "copy(): Returns a shallow copy of the set.\n",
        "\n",
        "union(): Returns a new set containing all unique elements from two or more sets.\n",
        "\n",
        "intersection(): Returns a new set containing elements that are common to two or more sets.\n",
        "\n",
        "difference(): Returns a new set containing elements that are in one set but not in another.\n",
        "\n",
        "symmetric_difference(): Returns a new set containing elements that are unique to each set.\n",
        "\n",
        "issubset(): Returns True if the set is a subset of another set.\n",
        "\n",
        "issuperset(): Returns True if the set is a superset of another set.\n",
        "\n",
        "isdisjoint(): Returns True if the set has no elements in common with another set."
      ],
      "metadata": {
        "id": "6ZtlNim6VZfn"
      }
    },
    {
      "cell_type": "markdown",
      "source": [
        "Create a Set:"
      ],
      "metadata": {
        "id": "opDXfmL_4Muc"
      }
    },
    {
      "cell_type": "code",
      "source": [
        "my_set = {1, 2, 3, 4, 5}\n"
      ],
      "metadata": {
        "id": "2sLDK6YBEFyI"
      },
      "execution_count": null,
      "outputs": []
    },
    {
      "cell_type": "markdown",
      "source": [
        "Add an Element to a Set:"
      ],
      "metadata": {
        "id": "wjDRlN3T4PqZ"
      }
    },
    {
      "cell_type": "code",
      "source": [
        "my_set.add(6)\n"
      ],
      "metadata": {
        "id": "cbHQ7MaYEHFo"
      },
      "execution_count": null,
      "outputs": []
    },
    {
      "cell_type": "markdown",
      "source": [
        "Remove an Element from a Set:"
      ],
      "metadata": {
        "id": "fkNBBXtE4Q-x"
      }
    },
    {
      "cell_type": "code",
      "source": [
        "my_set.remove(3)\n"
      ],
      "metadata": {
        "id": "yrV0u2_9EJ9_"
      },
      "execution_count": null,
      "outputs": []
    },
    {
      "cell_type": "markdown",
      "source": [
        "Check if Element Exists in a Set:\n"
      ],
      "metadata": {
        "id": "SJ9m3a-r4SJ5"
      }
    },
    {
      "cell_type": "code",
      "source": [
        "exists = 4 in my_set\n"
      ],
      "metadata": {
        "id": "4OK8h0HYEMCg"
      },
      "execution_count": null,
      "outputs": []
    },
    {
      "cell_type": "markdown",
      "source": [
        "Set Length:"
      ],
      "metadata": {
        "id": "2Ib9jwGy4TXR"
      }
    },
    {
      "cell_type": "code",
      "source": [
        "length = len(my_set)\n"
      ],
      "metadata": {
        "id": "ypq_0IzKERxo"
      },
      "execution_count": null,
      "outputs": []
    },
    {
      "cell_type": "markdown",
      "source": [
        "Iterate through a Set:"
      ],
      "metadata": {
        "id": "W9bR2GWV4Ufx"
      }
    },
    {
      "cell_type": "code",
      "source": [
        "for item in my_set:\n",
        "    print(item)\n"
      ],
      "metadata": {
        "id": "wAxizxZ4ET-w"
      },
      "execution_count": null,
      "outputs": []
    },
    {
      "cell_type": "markdown",
      "source": [
        "Union of Sets:"
      ],
      "metadata": {
        "id": "0hNyzHD74V1R"
      }
    },
    {
      "cell_type": "code",
      "source": [
        "set1 = {1, 2, 3}\n",
        "set2 = {3, 4, 5}\n",
        "union_set = set1 | set2\n"
      ],
      "metadata": {
        "id": "-VJkHKUqEWur"
      },
      "execution_count": null,
      "outputs": []
    },
    {
      "cell_type": "markdown",
      "source": [
        "Intersection of Sets:"
      ],
      "metadata": {
        "id": "MGKPAQV14XFp"
      }
    },
    {
      "cell_type": "code",
      "source": [
        "intersection_set = set1 & set2\n"
      ],
      "metadata": {
        "id": "pwe2dW9pEZ64"
      },
      "execution_count": null,
      "outputs": []
    },
    {
      "cell_type": "markdown",
      "source": [
        "Difference of Sets:"
      ],
      "metadata": {
        "id": "zuBCTta64YBa"
      }
    },
    {
      "cell_type": "code",
      "source": [
        "difference_set = set1 - set2\n"
      ],
      "metadata": {
        "id": "76nDvYjhEbm_"
      },
      "execution_count": null,
      "outputs": []
    },
    {
      "cell_type": "markdown",
      "source": [
        "Clear a Set:"
      ],
      "metadata": {
        "id": "T2fh86lP4ZIC"
      }
    },
    {
      "cell_type": "code",
      "source": [
        "my_set.clear()\n"
      ],
      "metadata": {
        "id": "YNmZHp22Edef"
      },
      "execution_count": null,
      "outputs": []
    },
    {
      "cell_type": "markdown",
      "source": [
        "Create a Set from a List:"
      ],
      "metadata": {
        "id": "nTQptqkc4aHh"
      }
    },
    {
      "cell_type": "code",
      "source": [
        "my_list = [1, 2, 3, 3, 4, 5]\n",
        "unique_set = set(my_list)\n"
      ],
      "metadata": {
        "id": "NF4lf9vzEfhy"
      },
      "execution_count": null,
      "outputs": []
    },
    {
      "cell_type": "markdown",
      "source": [
        "Check for Subset:"
      ],
      "metadata": {
        "id": "P8K2LZUW4bZZ"
      }
    },
    {
      "cell_type": "code",
      "source": [
        "subset_check = set1.issubset(set2)\n"
      ],
      "metadata": {
        "id": "PfDZ8JzQEhGi"
      },
      "execution_count": null,
      "outputs": []
    },
    {
      "cell_type": "markdown",
      "source": [
        "Check for Superset:"
      ],
      "metadata": {
        "id": "Or1UsShu4cwF"
      }
    },
    {
      "cell_type": "code",
      "source": [
        "superset_check = set1.issuperset(set2)\n"
      ],
      "metadata": {
        "id": "cMg27DQuEiIR"
      },
      "execution_count": null,
      "outputs": []
    },
    {
      "cell_type": "markdown",
      "source": [
        "Remove and Return an Element from a Set:"
      ],
      "metadata": {
        "id": "j1RxrJQV4dtl"
      }
    },
    {
      "cell_type": "code",
      "source": [
        "popped_element = my_set.pop()\n"
      ],
      "metadata": {
        "id": "liHzY-FDEksT"
      },
      "execution_count": null,
      "outputs": []
    },
    {
      "cell_type": "markdown",
      "source": [
        "Symmetric Difference of Sets:"
      ],
      "metadata": {
        "id": "lbdatXtR4e_s"
      }
    },
    {
      "cell_type": "code",
      "source": [
        "symmetric_difference_set = set1 ^ set2\n"
      ],
      "metadata": {
        "id": "ERGkK9Y7EnQy"
      },
      "execution_count": null,
      "outputs": []
    },
    {
      "cell_type": "markdown",
      "source": [
        "Update a Set with Another Set:"
      ],
      "metadata": {
        "id": "WOLQ1O-h4gLs"
      }
    },
    {
      "cell_type": "code",
      "source": [
        "set1.update(set2)\n"
      ],
      "metadata": {
        "id": "LzzsAzRgEpAx"
      },
      "execution_count": null,
      "outputs": []
    },
    {
      "cell_type": "markdown",
      "source": [
        "Frozen Sets (Immutable Sets):"
      ],
      "metadata": {
        "id": "48W5xvrb4hVs"
      }
    },
    {
      "cell_type": "code",
      "source": [
        "frozen_set = frozenset(my_set)\n"
      ],
      "metadata": {
        "id": "0uburLIyEqM6"
      },
      "execution_count": null,
      "outputs": []
    },
    {
      "cell_type": "markdown",
      "source": [
        "Remove a Specific Element Safely:"
      ],
      "metadata": {
        "id": "ai7X47_m4iXd"
      }
    },
    {
      "cell_type": "code",
      "source": [
        "my_set.discard(3)\n"
      ],
      "metadata": {
        "id": "WC5r7skCEs7x"
      },
      "execution_count": null,
      "outputs": []
    },
    {
      "cell_type": "markdown",
      "source": [
        "Find the Maximum and Minimum Values in a Set:"
      ],
      "metadata": {
        "id": "vWApZjUx4jZ0"
      }
    },
    {
      "cell_type": "code",
      "source": [
        "max_value = max(my_set)\n",
        "min_value = min(my_set)\n"
      ],
      "metadata": {
        "id": "rPJ_LHb3Eufw"
      },
      "execution_count": null,
      "outputs": []
    },
    {
      "cell_type": "markdown",
      "source": [
        "Convert a Set to a List:"
      ],
      "metadata": {
        "id": "Gg8NqQNf4klk"
      }
    },
    {
      "cell_type": "code",
      "source": [
        "my_list = list(my_set)\n"
      ],
      "metadata": {
        "id": "GnyxtOiNEwTH"
      },
      "execution_count": null,
      "outputs": []
    },
    {
      "cell_type": "markdown",
      "source": [
        "Find the Intersection of Multiple Sets:"
      ],
      "metadata": {
        "id": "wueurYYh4mp0"
      }
    },
    {
      "cell_type": "code",
      "source": [
        "set1 = {1, 2, 3}\n",
        "set2 = {2, 3, 4}\n",
        "set3 = {3, 4, 5}\n",
        "intersection_of_sets = set.intersection(set1, set2, set3)\n"
      ],
      "metadata": {
        "id": "780iOJH2E1RQ"
      },
      "execution_count": null,
      "outputs": []
    },
    {
      "cell_type": "markdown",
      "source": [
        "Check if Sets are Disjoint:"
      ],
      "metadata": {
        "id": "pnuP9BQm4nzE"
      }
    },
    {
      "cell_type": "code",
      "source": [
        "disjoint_check = set.isdisjoint(set1, set2)\n"
      ],
      "metadata": {
        "id": "meTt1ghsE3KQ"
      },
      "execution_count": null,
      "outputs": []
    },
    {
      "cell_type": "markdown",
      "source": [
        "Cartesian Product of Sets:"
      ],
      "metadata": {
        "id": "8PLqh_T94otH"
      }
    },
    {
      "cell_type": "code",
      "source": [
        "from itertools import product\n",
        "cartesian_product = list(product(set1, set2))\n"
      ],
      "metadata": {
        "id": "H90owmuKE31p"
      },
      "execution_count": null,
      "outputs": []
    },
    {
      "cell_type": "markdown",
      "source": [
        "Remove Duplicates from a List While Preserving Order Using a Set:"
      ],
      "metadata": {
        "id": "T2D0IkMA4q5W"
      }
    },
    {
      "cell_type": "code",
      "source": [
        "def remove_duplicates(lst):\n",
        "    seen = set()\n",
        "    result = []\n",
        "    for item in lst:\n",
        "        if item not in seen:\n",
        "            seen.add(item)\n",
        "            result.append(item)\n",
        "    return result\n"
      ],
      "metadata": {
        "id": "Cgq_g-AVE6rg"
      },
      "execution_count": null,
      "outputs": []
    },
    {
      "cell_type": "markdown",
      "source": [
        "Find the Union of Multiple Sets:"
      ],
      "metadata": {
        "id": "Q6hRoD5K4sKV"
      }
    },
    {
      "cell_type": "code",
      "source": [
        "union_of_sets = set.union(set1, set2, set3)\n"
      ],
      "metadata": {
        "id": "el6lKRRZFAh2"
      },
      "execution_count": null,
      "outputs": []
    },
    {
      "cell_type": "markdown",
      "source": [
        "Find the Common Elements in N Sets:"
      ],
      "metadata": {
        "id": "bZtEJI9U4tRj"
      }
    },
    {
      "cell_type": "code",
      "source": [
        "common_elements = set1.intersection(*[set2, set3, set4])\n"
      ],
      "metadata": {
        "id": "RuGVKFGIFC8F"
      },
      "execution_count": null,
      "outputs": []
    },
    {
      "cell_type": "markdown",
      "source": [
        "####################################"
      ],
      "metadata": {
        "id": "J3FVhXj_4z_L"
      }
    },
    {
      "cell_type": "markdown",
      "source": [
        "# ***DICTIONARIES***"
      ],
      "metadata": {
        "id": "R7uJZ4k641YD"
      }
    },
    {
      "cell_type": "markdown",
      "source": [
        "Dictionaries in Python are versatile data structures that store key-value pairs. They have a set of built-in functions and methods that make it easy to work with them. Here are the commonly used dictionary functions and methods:\n",
        "\n",
        "Dictionary Functions:\n",
        "\n",
        "len(): Returns the number of key-value pairs in a dictionary.\n",
        "\n",
        "dict(): Creates a new dictionary or converts an iterable of key-value pairs into a dictionary.\n",
        "\n",
        "sorted(): Returns a sorted list of keys in the dictionary.\n",
        "\n",
        "str(): Returns a string representation of a dictionary.\n",
        "\n",
        "type(): Returns the type of the dictionary (which is dict).\n",
        "\n",
        "Dictionary Methods:\n",
        "\n",
        "clear(): Removes all key-value pairs from the dictionary, leaving an empty dictionary.\n",
        "\n",
        "copy(): Returns a shallow copy of the dictionary.\n",
        "\n",
        "get(key, default): Returns the value associated with a key or a default value if the key does not exist.\n",
        "\n",
        "items(): Returns a view of all key-value pairs as tuples.\n",
        "\n",
        "keys(): Returns a view of all keys in the dictionary.\n",
        "values(): Returns a view of all values in the dictionary.\n",
        "\n",
        "pop(key, default): Removes and returns the value associated with a key or a default value if the key does not exist.\n",
        "\n",
        "popitem(): Removes and returns an arbitrary key-value pair as a tuple.\n",
        "\n",
        "update(iterable): Updates the dictionary with key-value pairs from another iterable (e.g., another dictionary).\n",
        "\n",
        "setdefault(key, default): Returns the value associated with a key or sets a default value if the key does not exist.\n",
        "\n",
        "fromkeys(iterable, value): Creates a new dictionary with keys from an iterable, each initialized with the same value.\n",
        "\n",
        "keys() (dictionary view method): Returns a view object containing all keys in the dictionary.\n",
        "\n",
        "values() (dictionary view method): Returns a view object containing all values in the dictionary.\n",
        "\n",
        "items() (dictionary view method): Returns a view object containing all key-value pairs as tuples.\n",
        "\n",
        "update() (dictionary view method): Updates the dictionary with key-value pairs from another iterable."
      ],
      "metadata": {
        "id": "yRAhUxmfV9v4"
      }
    },
    {
      "cell_type": "markdown",
      "source": [
        "Create a Dictionary:"
      ],
      "metadata": {
        "id": "AipCek0p46lR"
      }
    },
    {
      "cell_type": "code",
      "source": [
        "my_dict = {'name': 'John', 'age': 30, 'city': 'New York'}\n"
      ],
      "metadata": {
        "id": "7P_UDKOFFkXB"
      },
      "execution_count": null,
      "outputs": []
    },
    {
      "cell_type": "markdown",
      "source": [
        "Access a Value by Key:"
      ],
      "metadata": {
        "id": "ctkbk8uh4_0Y"
      }
    },
    {
      "cell_type": "code",
      "source": [
        "name = my_dict['name']\n"
      ],
      "metadata": {
        "id": "aapN29u7Fli4"
      },
      "execution_count": null,
      "outputs": []
    },
    {
      "cell_type": "markdown",
      "source": [
        "Add a Key-Value Pair:"
      ],
      "metadata": {
        "id": "kgr3IRg65BqC"
      }
    },
    {
      "cell_type": "code",
      "source": [
        "my_dict['occupation'] = 'Engineer'\n"
      ],
      "metadata": {
        "id": "vvsSYxNAFmw_"
      },
      "execution_count": null,
      "outputs": []
    },
    {
      "cell_type": "markdown",
      "source": [
        "Remove a Key-Value Pair:"
      ],
      "metadata": {
        "id": "zpxr-RQd5CtQ"
      }
    },
    {
      "cell_type": "code",
      "source": [
        "del my_dict['age']\n"
      ],
      "metadata": {
        "id": "M3KzZkL7FnXY"
      },
      "execution_count": null,
      "outputs": []
    },
    {
      "cell_type": "markdown",
      "source": [
        "Check if Key Exists:"
      ],
      "metadata": {
        "id": "Oio3DkNO5Dyr"
      }
    },
    {
      "cell_type": "code",
      "source": [
        "key_exists = 'age' in my_dict\n"
      ],
      "metadata": {
        "id": "3pL0hCAKFq-k"
      },
      "execution_count": null,
      "outputs": []
    },
    {
      "cell_type": "markdown",
      "source": [
        "Get Dictionary Length:"
      ],
      "metadata": {
        "id": "4Ll-vC8c5FAI"
      }
    },
    {
      "cell_type": "code",
      "source": [
        "length = len(my_dict)\n"
      ],
      "metadata": {
        "id": "_HPdMcO5Fsoj"
      },
      "execution_count": null,
      "outputs": []
    },
    {
      "cell_type": "markdown",
      "source": [
        "Iterate Through Keys:"
      ],
      "metadata": {
        "id": "F6BpUOdn5GsR"
      }
    },
    {
      "cell_type": "code",
      "source": [
        "for key in my_dict:\n",
        "    print(key, my_dict[key])\n"
      ],
      "metadata": {
        "id": "1uKNGLsAFuQ8"
      },
      "execution_count": null,
      "outputs": []
    },
    {
      "cell_type": "markdown",
      "source": [
        "Iterate Through Values:"
      ],
      "metadata": {
        "id": "ow-BULGr5IWB"
      }
    },
    {
      "cell_type": "code",
      "source": [
        "for value in my_dict.values():\n",
        "    print(value)\n"
      ],
      "metadata": {
        "id": "AqQxOcKMFvqT"
      },
      "execution_count": null,
      "outputs": []
    },
    {
      "cell_type": "markdown",
      "source": [
        "Iterate Through Key-Value Pairs:"
      ],
      "metadata": {
        "id": "_Ixoh7HU5JV_"
      }
    },
    {
      "cell_type": "code",
      "source": [
        "for key, value in my_dict.items():\n",
        "    print(key, value)\n"
      ],
      "metadata": {
        "id": "xybonsW4FzgT"
      },
      "execution_count": null,
      "outputs": []
    },
    {
      "cell_type": "markdown",
      "source": [
        "Clear a Dictionary:"
      ],
      "metadata": {
        "id": "-55DtaLB5KiF"
      }
    },
    {
      "cell_type": "code",
      "source": [
        "my_dict.clear()\n"
      ],
      "metadata": {
        "id": "ylzp5iAhF0tr"
      },
      "execution_count": null,
      "outputs": []
    },
    {
      "cell_type": "markdown",
      "source": [
        "Nested Dictionaries:"
      ],
      "metadata": {
        "id": "iYTmd16N5McA"
      }
    },
    {
      "cell_type": "code",
      "source": [
        "person = {\n",
        "    'name': 'John',\n",
        "    'address': {\n",
        "        'street': '123 Main St',\n",
        "        'city': 'New York'\n",
        "    }\n",
        "}\n"
      ],
      "metadata": {
        "id": "UMjDTPL2F3df"
      },
      "execution_count": null,
      "outputs": []
    },
    {
      "cell_type": "markdown",
      "source": [
        "Update Values in a Dictionary:"
      ],
      "metadata": {
        "id": "kypIyqYQ5NbI"
      }
    },
    {
      "cell_type": "code",
      "source": [
        "my_dict.update({'age': 32, 'city': 'Los Angeles'})\n"
      ],
      "metadata": {
        "id": "F3bWZU2yF5Hg"
      },
      "execution_count": null,
      "outputs": []
    },
    {
      "cell_type": "markdown",
      "source": [
        "Check if All Keys Exist in Another Dictionary:"
      ],
      "metadata": {
        "id": "dq59IB_n5Oaq"
      }
    },
    {
      "cell_type": "code",
      "source": [
        "keys_to_check = ['name', 'age', 'city']\n",
        "all_keys_exist = all(key in my_dict for key in keys_to_check)\n"
      ],
      "metadata": {
        "id": "wnyufhsFF7SI"
      },
      "execution_count": null,
      "outputs": []
    },
    {
      "cell_type": "markdown",
      "source": [
        "Find the Key with the Maximum Value:"
      ],
      "metadata": {
        "id": "S_FYubFY5PlR"
      }
    },
    {
      "cell_type": "code",
      "source": [
        "max_key = max(my_dict, key=my_dict.get)\n"
      ],
      "metadata": {
        "id": "VRlH2lzTF_hn"
      },
      "execution_count": null,
      "outputs": []
    },
    {
      "cell_type": "markdown",
      "source": [
        "Count Occurrences of Values in a List and Store in a Dictionary:"
      ],
      "metadata": {
        "id": "wLw7AdB25Qv_"
      }
    },
    {
      "cell_type": "code",
      "source": [
        "my_list = ['apple', 'banana', 'apple', 'cherry', 'banana']\n",
        "fruit_count = {}\n",
        "for fruit in my_list:\n",
        "    fruit_count[fruit] = fruit_count.get(fruit, 0) + 1\n"
      ],
      "metadata": {
        "id": "n0NoOv3zGBg4"
      },
      "execution_count": null,
      "outputs": []
    },
    {
      "cell_type": "markdown",
      "source": [
        "Convert Two Lists into a Dictionary:"
      ],
      "metadata": {
        "id": "c-c-dk1s5R4I"
      }
    },
    {
      "cell_type": "code",
      "source": [
        "keys = ['name', 'age', 'city']\n",
        "values = ['John', 30, 'New York']\n",
        "my_dict = dict(zip(keys, values))\n"
      ],
      "metadata": {
        "id": "dS0vM074GDpQ"
      },
      "execution_count": null,
      "outputs": []
    },
    {
      "cell_type": "markdown",
      "source": [
        "Merge Two Dictionaries:"
      ],
      "metadata": {
        "id": "gTBKmZOu5S0o"
      }
    },
    {
      "cell_type": "code",
      "source": [
        "dict1 = {'a': 1, 'b': 2}\n",
        "dict2 = {'b': 3, 'c': 4}\n",
        "merged_dict = {**dict1, **dict2}\n"
      ],
      "metadata": {
        "id": "LgqstrZyGGSd"
      },
      "execution_count": null,
      "outputs": []
    },
    {
      "cell_type": "markdown",
      "source": [
        "Create a Dictionary with Default Values:"
      ],
      "metadata": {
        "id": "VOnvA1gX5T-Q"
      }
    },
    {
      "cell_type": "code",
      "source": [
        "from collections import defaultdict\n",
        "my_dict = defaultdict(int)\n",
        "my_dict['age'] += 1\n"
      ],
      "metadata": {
        "id": "KnYzP5duGHge"
      },
      "execution_count": null,
      "outputs": []
    },
    {
      "cell_type": "markdown",
      "source": [
        "Check if Two Dictionaries Have Common Keys:"
      ],
      "metadata": {
        "id": "azxPM5_l5VFI"
      }
    },
    {
      "cell_type": "code",
      "source": [
        "common_keys = set(dict1.keys()) & set(dict2.keys())\n"
      ],
      "metadata": {
        "id": "kYm567STGIHd"
      },
      "execution_count": null,
      "outputs": []
    },
    {
      "cell_type": "markdown",
      "source": [
        "Find the Key-Value Pair with the Maximum Value in a Dictionary:"
      ],
      "metadata": {
        "id": "64epPK2W5WUZ"
      }
    },
    {
      "cell_type": "code",
      "source": [
        "max_pair = max(my_dict.items(), key=lambda x: x[1])\n"
      ],
      "metadata": {
        "id": "fb4nIEumGPBN"
      },
      "execution_count": null,
      "outputs": []
    },
    {
      "cell_type": "markdown",
      "source": [
        "########################################"
      ],
      "metadata": {
        "id": "vQvyNswd7mgd"
      }
    },
    {
      "cell_type": "markdown",
      "source": [
        "# ***STRINGS***"
      ],
      "metadata": {
        "id": "ETfflK6E7nwd"
      }
    },
    {
      "cell_type": "markdown",
      "source": [
        "Strings in Python are sequences of characters, and they come with a set of built-in functions and methods that allow you to manipulate and work with them effectively. Here are the commonly used string functions and methods:\n",
        "\n",
        "String Functions:\n",
        "\n",
        "len(): Returns the length (number of characters) of a string.\n",
        "\n",
        "str(): Converts other data types (e.g., integers, floats) into strings.\n",
        "\n",
        "ord(): Returns the Unicode code point (integer representation) of a character.\n",
        "\n",
        "chr(): Returns the character corresponding to a Unicode code point.\n",
        "\n",
        "String Methods:\n",
        "\n",
        "str.capitalize(): Returns a copy of the string with the first character capitalized and the rest in lowercase.\n",
        "\n",
        "str.casefold(): Returns a copy of the string with all characters in lowercase, suitable for case-insensitive comparisons.\n",
        "\n",
        "str.center(width, fillchar): Returns a centered string within a given width, padded with a specified character (fillchar) if necessary.\n",
        "\n",
        "str.count(substring, start, end): Returns the number of non-overlapping occurrences of a substring in the string within the specified start and end indexes.\n",
        "\n",
        "str.encode(encoding, errors): Encodes the string using the specified encoding and returns a bytes object.\n",
        "\n",
        "str.endswith(suffix, start, end): Checks if the string ends with a specified suffix within the specified start and end indexes and returns a Boolean value.\n",
        "\n",
        "str.expandtabs(tabsize): Returns a copy of the string with tab characters (\\t) replaced by spaces based on the tabsize argument.\n",
        "\n",
        "str.find(substring, start, end): Searches for a substring and returns the lowest index where it's found (or -1 if not found).\n",
        "\n",
        "str.format(*args, **kwargs): Formats the string using placeholders {} and replaces them with values from args or keyword arguments in kwargs.\n",
        "\n",
        "str.format_map(mapping): Similar to format(), but uses a dictionary-like mapping for variable substitutions.\n",
        "\n",
        "str.index(substring, start, end): Similar to find(), but raises a ValueError if the substring is not found.\n",
        "\n",
        "str.isalnum(): Returns True if all characters in the string are alphanumeric (letters or digits), otherwise False.\n",
        "\n",
        "str.isalpha(): Returns True if all characters in the string are alphabetic, otherwise False.\n",
        "\n",
        "str.isascii(): Returns True if all characters in the string are ASCII characters, otherwise False.\n",
        "\n",
        "str.isdecimal(): Returns True if all characters in the string are decimal digits, otherwise False.\n",
        "\n",
        "str.isdigit(): Returns True if all characters in the string are digits, otherwise False.\n",
        "\n",
        "str.isidentifier(): Returns True if the string is a valid Python identifier, otherwise False.\n",
        "\n",
        "str.islower(): Returns True if all characters in the string are lowercase, otherwise False.\n",
        "\n",
        "str.isnumeric(): Returns True if all characters in the string are numeric characters, otherwise False.\n",
        "\n",
        "str.isprintable(): Returns True if all characters in the string are printable (including whitespace), otherwise False.\n",
        "\n",
        "str.isspace(): Returns True if all characters in the string are whitespace characters (e.g., space, tab, newline), otherwise False.\n",
        "\n",
        "str.istitle(): Returns True if the string is in title case (each word starts with a capital letter), otherwise False.\n",
        "\n",
        "str.isupper(): Returns True if all characters in the string are uppercase, otherwise False.\n",
        "\n",
        "str.join(iterable): Joins the elements of an iterable (e.g., a list) with the string as a separator and returns a new string.\n",
        "\n",
        "str.ljust(width, fillchar): Returns a left-justified string within a given width, padded with a specified character (fillchar) if necessary.\n",
        "\n",
        "str.lower(): Returns a copy of the string with all characters converted to lowercase.\n",
        "\n",
        "str.lstrip(chars): Returns a copy of the string with leading characters (specified by chars) removed.\n",
        "\n",
        "str.maketrans(x[, y[, z]]): Creates a translation table for str.translate(). Used for replacing characters.\n",
        "\n",
        "str.partition(separator): Splits the string into a 3-tuple containing the part before the first occurrence of the separator, the separator itself, and the part after it.\n",
        "\n",
        "str.replace(old, new[, count]): Returns a copy of the string with all occurrences of old replaced by new. The count parameter limits the number of replacements.\n",
        "\n",
        "str.rfind(substring, start, end): Searches for a substring from the end of the string and returns the highest index where it's found (or -1 if not found).\n",
        "\n",
        "str.rindex(substring, start, end): Similar to rfind(), but raises a ValueError if the substring is not found.\n",
        "\n",
        "str.rjust(width, fillchar): Returns a right-justified string within a given width, padded with a specified character (fillchar) if necessary.\n",
        "\n",
        "str.rsplit(sep=None, maxsplit=-1): Splits the string into a list of substrings from the right, using the specified sep as a separator, with a maximum of maxsplit splits.\n",
        "\n",
        "str.rstrip(chars): Returns a copy of the string with trailing characters (specified by chars) removed.\n",
        "\n",
        "str.split(sep=None, maxsplit=-1): Splits the string into a list of substrings using the specified sep as a separator, with a maximum of maxsplit splits.\n",
        "\n",
        "str.splitlines(keepends=False): Splits the string at line breaks (\\n, \\r, or \\r\\n) and returns a list of lines. If keepends is True, line endings are included.\n",
        "\n",
        "str.startswith(prefix, start, end): Checks if the string starts with a specified prefix within the specified start and end indexes and returns a Boolean value.\n",
        "\n",
        "str.strip(chars): Returns a copy of the string with leading and trailing characters (specified by chars) removed.\n",
        "\n",
        "str.swapcase(): Returns a copy of the string with uppercase characters converted to lowercase and vice versa.\n",
        "\n",
        "str.title(): Returns a titlecased version of the string, where the first character of each word is capitalized."
      ],
      "metadata": {
        "id": "FdXb2QUfWsKt"
      }
    },
    {
      "cell_type": "markdown",
      "source": [
        "Create a String:"
      ],
      "metadata": {
        "id": "kFJxvqS87rXi"
      }
    },
    {
      "cell_type": "code",
      "source": [
        "my_string = \"Hello, World!\"\n"
      ],
      "metadata": {
        "id": "NAyu5YzfGhi4"
      },
      "execution_count": null,
      "outputs": []
    },
    {
      "cell_type": "markdown",
      "source": [
        "String Length:"
      ],
      "metadata": {
        "id": "_7HLeYYv7svS"
      }
    },
    {
      "cell_type": "code",
      "source": [
        "length = len(my_string)\n"
      ],
      "metadata": {
        "id": "iDeu6jRZGlmn"
      },
      "execution_count": null,
      "outputs": []
    },
    {
      "cell_type": "markdown",
      "source": [
        "Access a Character by Index:"
      ],
      "metadata": {
        "id": "xEf5Sbmx7uR6"
      }
    },
    {
      "cell_type": "code",
      "source": [
        "char = my_string[0]\n"
      ],
      "metadata": {
        "id": "KvtgLfaaGmyC"
      },
      "execution_count": null,
      "outputs": []
    },
    {
      "cell_type": "markdown",
      "source": [
        "Concatenate Strings:"
      ],
      "metadata": {
        "id": "dPJYyaD87tfj"
      }
    },
    {
      "cell_type": "code",
      "source": [
        "combined_string = \"Hello\" + \" \" + \"World\"\n"
      ],
      "metadata": {
        "id": "mrQQFZ0uGoJH"
      },
      "execution_count": null,
      "outputs": []
    },
    {
      "cell_type": "markdown",
      "source": [
        "Convert to Uppercase:"
      ],
      "metadata": {
        "id": "d2zkNq077yXK"
      }
    },
    {
      "cell_type": "code",
      "source": [
        "uppercase_string = my_string.upper()\n"
      ],
      "metadata": {
        "id": "iuzlRuoWGp9L"
      },
      "execution_count": null,
      "outputs": []
    },
    {
      "cell_type": "markdown",
      "source": [
        "Convert to Lowercase:"
      ],
      "metadata": {
        "id": "ej8B_M3r7zY5"
      }
    },
    {
      "cell_type": "code",
      "source": [
        "lowercase_string = my_string.lower()\n"
      ],
      "metadata": {
        "id": "szPzFPqxGsJz"
      },
      "execution_count": null,
      "outputs": []
    },
    {
      "cell_type": "markdown",
      "source": [
        "Check if a Substring Exists:"
      ],
      "metadata": {
        "id": "KSOrxp3Q70RV"
      }
    },
    {
      "cell_type": "code",
      "source": [
        "substring_exists = \"Hello\" in my_string\n"
      ],
      "metadata": {
        "id": "W1DIz3eQGtVn"
      },
      "execution_count": null,
      "outputs": []
    },
    {
      "cell_type": "markdown",
      "source": [
        "Split a String into a List:"
      ],
      "metadata": {
        "id": "R3bXqE5071Qr"
      }
    },
    {
      "cell_type": "code",
      "source": [
        "words = my_string.split()\n"
      ],
      "metadata": {
        "id": "05mPbKdeGvOf"
      },
      "execution_count": null,
      "outputs": []
    },
    {
      "cell_type": "markdown",
      "source": [
        "Remove Leading and Trailing Whitespace:"
      ],
      "metadata": {
        "id": "0cgLEFAz72ZK"
      }
    },
    {
      "cell_type": "code",
      "source": [
        "trimmed_string = my_string.strip()\n"
      ],
      "metadata": {
        "id": "7lNum9StGwnH"
      },
      "execution_count": null,
      "outputs": []
    },
    {
      "cell_type": "markdown",
      "source": [
        "Replace Substring:"
      ],
      "metadata": {
        "id": "qnlT57hB73pJ"
      }
    },
    {
      "cell_type": "code",
      "source": [
        "replaced_string = my_string.replace(\"Hello\", \"Hi\")\n"
      ],
      "metadata": {
        "id": "QPwh8HOJG0Cv"
      },
      "execution_count": null,
      "outputs": []
    },
    {
      "cell_type": "markdown",
      "source": [
        "Reverse a String:"
      ],
      "metadata": {
        "id": "ExVPoqQE74yr"
      }
    },
    {
      "cell_type": "code",
      "source": [
        "reversed_string = my_string[::-1]\n"
      ],
      "metadata": {
        "id": "4EKZf5aKG1fP"
      },
      "execution_count": null,
      "outputs": []
    },
    {
      "cell_type": "markdown",
      "source": [
        "Check if a String is a Palindrome:"
      ],
      "metadata": {
        "id": "Vz8XGB4Y75lT"
      }
    },
    {
      "cell_type": "code",
      "source": [
        "is_palindrome = my_string == my_string[::-1]\n"
      ],
      "metadata": {
        "id": "q8v6jbLsG7gS"
      },
      "execution_count": null,
      "outputs": []
    },
    {
      "cell_type": "markdown",
      "source": [
        "Count Occurrences of a Character:"
      ],
      "metadata": {
        "id": "OXnKGHBO76ci"
      }
    },
    {
      "cell_type": "code",
      "source": [
        "count = my_string.count(\"l\")\n"
      ],
      "metadata": {
        "id": "V3ele2E9HBDu"
      },
      "execution_count": null,
      "outputs": []
    },
    {
      "cell_type": "markdown",
      "source": [
        "Check if a String Contains Only Digits:"
      ],
      "metadata": {
        "id": "iG6zUV6C77k6"
      }
    },
    {
      "cell_type": "code",
      "source": [
        "contains_only_digits = my_string.isdigit()\n"
      ],
      "metadata": {
        "id": "gcWclI-sHDdy"
      },
      "execution_count": null,
      "outputs": []
    },
    {
      "cell_type": "markdown",
      "source": [
        "Find the Index of a Substring:"
      ],
      "metadata": {
        "id": "TGUOAOnu781K"
      }
    },
    {
      "cell_type": "code",
      "source": [
        "index = my_string.index(\"World\")\n"
      ],
      "metadata": {
        "id": "l63UasTaHFjj"
      },
      "execution_count": null,
      "outputs": []
    },
    {
      "cell_type": "markdown",
      "source": [
        "Remove Punctuation from a String:"
      ],
      "metadata": {
        "id": "e5CGrJuV7-Ki"
      }
    },
    {
      "cell_type": "code",
      "source": [
        "import string\n",
        "no_punctuation_string = my_string.translate(str.maketrans('', '', string.punctuation))\n"
      ],
      "metadata": {
        "id": "bNs7bJFEHL0C"
      },
      "execution_count": null,
      "outputs": []
    },
    {
      "cell_type": "markdown",
      "source": [
        "Join a List of Strings into a Single String:"
      ],
      "metadata": {
        "id": "VPiXzbo07_Qq"
      }
    },
    {
      "cell_type": "code",
      "source": [
        "my_list = [\"Hello\", \"World\"]\n",
        "joined_string = \" \".join(my_list)\n"
      ],
      "metadata": {
        "id": "grot145fHO7i"
      },
      "execution_count": null,
      "outputs": []
    },
    {
      "cell_type": "markdown",
      "source": [
        "Check if a String Starts or Ends with a Specific Substring:"
      ],
      "metadata": {
        "id": "HigYYP1Q8AhC"
      }
    },
    {
      "cell_type": "code",
      "source": [
        "starts_with = my_string.startswith(\"Hello\")\n",
        "ends_with = my_string.endswith(\"World\")\n"
      ],
      "metadata": {
        "id": "2nxKOBN3Hc7F"
      },
      "execution_count": null,
      "outputs": []
    },
    {
      "cell_type": "markdown",
      "source": [
        "Capitalize the First Letter of Each Word:"
      ],
      "metadata": {
        "id": "MKiXBV2B8Bn7"
      }
    },
    {
      "cell_type": "code",
      "source": [
        "capitalized_string = my_string.title()\n"
      ],
      "metadata": {
        "id": "aVttCjtcHeWH"
      },
      "execution_count": null,
      "outputs": []
    },
    {
      "cell_type": "markdown",
      "source": [
        "Check if a String Contains Only Letters:"
      ],
      "metadata": {
        "id": "OlWjJCJO8DRz"
      }
    },
    {
      "cell_type": "code",
      "source": [
        "contains_only_letters = my_string.isalpha()\n"
      ],
      "metadata": {
        "id": "HqLau-UQHraK"
      },
      "execution_count": null,
      "outputs": []
    },
    {
      "cell_type": "markdown",
      "source": [
        "Remove Duplicate Characters from a String:"
      ],
      "metadata": {
        "id": "4kXvxDMF8EuC"
      }
    },
    {
      "cell_type": "code",
      "source": [
        "unique_chars_string = \"\".join(sorted(set(my_string), key=my_string.index))\n"
      ],
      "metadata": {
        "id": "fyOuQ7HuHw8G"
      },
      "execution_count": null,
      "outputs": []
    },
    {
      "cell_type": "markdown",
      "source": [
        "Check if a String is an Anagram of Another String:"
      ],
      "metadata": {
        "id": "XCCZMr0l8FoK"
      }
    },
    {
      "cell_type": "code",
      "source": [
        "def is_anagram(str1, str2):\n",
        "    return sorted(str1) == sorted(str2)\n"
      ],
      "metadata": {
        "id": "DiC1FAWaHzNS"
      },
      "execution_count": null,
      "outputs": []
    },
    {
      "cell_type": "markdown",
      "source": [
        "Reverse Words in a String:"
      ],
      "metadata": {
        "id": "FP5-cHY38HyO"
      }
    },
    {
      "cell_type": "code",
      "source": [
        "reversed_words_string = \" \".join(reversed(my_string.split()))\n"
      ],
      "metadata": {
        "id": "Pa5uR5B4H3r2"
      },
      "execution_count": null,
      "outputs": []
    },
    {
      "cell_type": "markdown",
      "source": [
        "########################################"
      ],
      "metadata": {
        "id": "Y4kiQtM68oWm"
      }
    },
    {
      "cell_type": "markdown",
      "source": [
        "# ***ARRAYS***"
      ],
      "metadata": {
        "id": "bfA_1ExU8qt2"
      }
    },
    {
      "cell_type": "markdown",
      "source": [
        "Create an Array:"
      ],
      "metadata": {
        "id": "tYsCkfpR8tFN"
      }
    },
    {
      "cell_type": "code",
      "source": [
        "my_array = [1, 2, 3, 4, 5]\n"
      ],
      "metadata": {
        "id": "o3Tyh92uISRn"
      },
      "execution_count": null,
      "outputs": []
    },
    {
      "cell_type": "markdown",
      "source": [
        "Access an Element by Index:"
      ],
      "metadata": {
        "id": "tx6CRjjw8u9V"
      }
    },
    {
      "cell_type": "code",
      "source": [
        "element = my_array[2]\n"
      ],
      "metadata": {
        "id": "XcsY526FITB_"
      },
      "execution_count": null,
      "outputs": []
    },
    {
      "cell_type": "markdown",
      "source": [
        "Find the Length of an Array:"
      ],
      "metadata": {
        "id": "7L8nAFgo8v8d"
      }
    },
    {
      "cell_type": "code",
      "source": [
        "length = len(my_array)\n"
      ],
      "metadata": {
        "id": "yYNyobIwIUY3"
      },
      "execution_count": null,
      "outputs": []
    },
    {
      "cell_type": "markdown",
      "source": [
        "Append an Element to the End:"
      ],
      "metadata": {
        "id": "Qm1s9hsq8w2F"
      }
    },
    {
      "cell_type": "code",
      "source": [
        "my_array.append(6)\n"
      ],
      "metadata": {
        "id": "DOllymQbIWlY"
      },
      "execution_count": null,
      "outputs": []
    },
    {
      "cell_type": "markdown",
      "source": [
        "Remove an Element by Value:"
      ],
      "metadata": {
        "id": "bDLhYNPp8x_1"
      }
    },
    {
      "cell_type": "code",
      "source": [
        "my_array.remove(3)\n"
      ],
      "metadata": {
        "id": "aUJ2NCFkIX7P"
      },
      "execution_count": null,
      "outputs": []
    },
    {
      "cell_type": "markdown",
      "source": [
        "Check if an Element Exists:"
      ],
      "metadata": {
        "id": "px5IidSk8zDV"
      }
    },
    {
      "cell_type": "code",
      "source": [
        "my_array.remove(3)\n"
      ],
      "metadata": {
        "id": "twEciT5GIYsS"
      },
      "execution_count": null,
      "outputs": []
    },
    {
      "cell_type": "markdown",
      "source": [
        "Iterate Through an Array:"
      ],
      "metadata": {
        "id": "CsXd3uzN80Ls"
      }
    },
    {
      "cell_type": "code",
      "source": [
        "for item in my_array:\n",
        "    print(item)\n"
      ],
      "metadata": {
        "id": "Uq3IK15zIZKl"
      },
      "execution_count": null,
      "outputs": []
    },
    {
      "cell_type": "markdown",
      "source": [
        "Sort an Array:"
      ],
      "metadata": {
        "id": "9n5UGWAP81AE"
      }
    },
    {
      "cell_type": "code",
      "source": [
        "sorted_array = sorted(my_array)\n"
      ],
      "metadata": {
        "id": "ZtY8ybDEIaAY"
      },
      "execution_count": null,
      "outputs": []
    },
    {
      "cell_type": "markdown",
      "source": [
        "Reverse an Array:"
      ],
      "metadata": {
        "id": "vYbXvcPg81vt"
      }
    },
    {
      "cell_type": "code",
      "source": [
        "reversed_array = my_array[::-1]\n"
      ],
      "metadata": {
        "id": "B40ZKLB2IaiH"
      },
      "execution_count": null,
      "outputs": []
    },
    {
      "cell_type": "markdown",
      "source": [
        "Clear an Array:"
      ],
      "metadata": {
        "id": "GgLM413D82wE"
      }
    },
    {
      "cell_type": "code",
      "source": [
        "my_array.clear()\n"
      ],
      "metadata": {
        "id": "_eLgtpQOIh7O"
      },
      "execution_count": null,
      "outputs": []
    },
    {
      "cell_type": "markdown",
      "source": [
        "Create a 2D Array (List of Lists):"
      ],
      "metadata": {
        "id": "x5D29iFJ83u4"
      }
    },
    {
      "cell_type": "code",
      "source": [
        "matrix = [[1, 2, 3], [4, 5, 6], [7, 8, 9]]\n"
      ],
      "metadata": {
        "id": "2cy_shcLIiV1"
      },
      "execution_count": null,
      "outputs": []
    },
    {
      "cell_type": "markdown",
      "source": [
        "Find the Maximum and Minimum Values in an Array:"
      ],
      "metadata": {
        "id": "-TjCg8uP85As"
      }
    },
    {
      "cell_type": "code",
      "source": [
        "max_value = max(my_array)\n",
        "min_value = min(my_array)\n"
      ],
      "metadata": {
        "id": "IxPJyRA6Iiu2"
      },
      "execution_count": null,
      "outputs": []
    },
    {
      "cell_type": "markdown",
      "source": [
        "Count Occurrences of an Element in an Array:"
      ],
      "metadata": {
        "id": "8yKeyeTv86BD"
      }
    },
    {
      "cell_type": "code",
      "source": [
        "count = my_array.count(2)\n"
      ],
      "metadata": {
        "id": "XsZaFksMIjM2"
      },
      "execution_count": null,
      "outputs": []
    },
    {
      "cell_type": "markdown",
      "source": [
        "Remove Duplicates from an Array While Preserving Order:"
      ],
      "metadata": {
        "id": "Lz-2uwZB87M3"
      }
    },
    {
      "cell_type": "code",
      "source": [
        "def remove_duplicates(arr):\n",
        "    seen = set()\n",
        "    result = []\n",
        "    for item in arr:\n",
        "        if item not in seen:\n",
        "            seen.add(item)\n",
        "            result.append(item)\n",
        "    return result\n"
      ],
      "metadata": {
        "id": "WlYfKb8eIjxo"
      },
      "execution_count": null,
      "outputs": []
    },
    {
      "cell_type": "markdown",
      "source": [
        "Concatenate Two Arrays:"
      ],
      "metadata": {
        "id": "oEKmfVeh88Y2"
      }
    },
    {
      "cell_type": "code",
      "source": [
        "array1 = [1, 2, 3]\n",
        "array2 = [4, 5, 6]\n",
        "concatenated_array = array1 + array2\n"
      ],
      "metadata": {
        "id": "YFix6L9EIkpG"
      },
      "execution_count": null,
      "outputs": []
    },
    {
      "cell_type": "markdown",
      "source": [
        "Find the Intersection of Two Arrays:"
      ],
      "metadata": {
        "id": "fEQWRHCY892m"
      }
    },
    {
      "cell_type": "code",
      "source": [
        "set1 = set(array1)\n",
        "set2 = set(array2)\n",
        "intersection = list(set1.intersection(set2))\n"
      ],
      "metadata": {
        "id": "08o8GYKvIvx2"
      },
      "execution_count": null,
      "outputs": []
    },
    {
      "cell_type": "markdown",
      "source": [
        "Find the Union of Two Arrays:"
      ],
      "metadata": {
        "id": "WfFJdaG58-ts"
      }
    },
    {
      "cell_type": "code",
      "source": [
        "union = list(set(array1).union(set(array2)))\n"
      ],
      "metadata": {
        "id": "UH1qUDM-IwVh"
      },
      "execution_count": null,
      "outputs": []
    },
    {
      "cell_type": "markdown",
      "source": [
        "Rotate an Array (Circular Shift):"
      ],
      "metadata": {
        "id": "34jCKiyq8_gE"
      }
    },
    {
      "cell_type": "code",
      "source": [
        "k = 2\n",
        "rotated_array = my_array[-k:] + my_array[:-k]\n"
      ],
      "metadata": {
        "id": "NbYkv1E0IwpU"
      },
      "execution_count": null,
      "outputs": []
    },
    {
      "cell_type": "markdown",
      "source": [
        "Check if an Array is Palindromic:"
      ],
      "metadata": {
        "id": "BXZg8d7t9Ab-"
      }
    },
    {
      "cell_type": "code",
      "source": [
        "is_palindrome = my_array == my_array[::-1]\n"
      ],
      "metadata": {
        "id": "Q8Ku4MJcIw_1"
      },
      "execution_count": null,
      "outputs": []
    },
    {
      "cell_type": "markdown",
      "source": [
        "########################################"
      ],
      "metadata": {
        "id": "oVdbY2i79Kxc"
      }
    },
    {
      "cell_type": "markdown",
      "source": [
        "# ***if-else-elif statements***"
      ],
      "metadata": {
        "id": "gRS54XgX9MAF"
      }
    },
    {
      "cell_type": "markdown",
      "source": [
        "In Python, there are three primary types of conditional statements: if, else, and elif (short for \"else if\"). These statements allow you to control the flow of your program based on conditions. There are no methods associated with these statements, as they are part of the core syntax of the language. Here's an explanation of these statements:\n",
        "\n",
        "if Statement:\n",
        "\n",
        "The if statement is used to execute a block of code if a specified condition is True.\n",
        "It is the most basic conditional statement and is often used by itself.\n",
        "\n",
        "Example:\n",
        "\n",
        "if condition:\n",
        "    # Code to execute if the condition is True\n",
        "\n",
        "\n",
        "else Statement:\n",
        "\n",
        "The else statement is used to execute a block of code if the condition in the preceding if statement is False.\n",
        "\n",
        "It provides an alternative action when the if condition is not met.\n",
        "\n",
        "Example:\n",
        "\n",
        "if condition:\n",
        "    # Code to execute if the condition is True\n",
        "else:\n",
        "    # Code to execute if the condition is False\n",
        "\n",
        "\n",
        "elif Statement:\n",
        "\n",
        "The elif statement allows you to check multiple conditions sequentially.\n",
        "It is used after an initial if statement and before an optional else statement.\n",
        "If the condition in the if statement is False, Python checks the conditions in the elif statements one by one until it finds a True condition.\n",
        "\n",
        "Example:\n",
        "\n",
        "if condition1:\n",
        "    # Code to execute if condition1 is True\n",
        "elif condition2:\n",
        "    # Code to execute if condition2 is True\n",
        "elif condition3:\n",
        "    # Code to execute if condition3 is True\n",
        "else:\n",
        "    # Code to execute if none of the conditions is True"
      ],
      "metadata": {
        "id": "EFAC9d91Xugw"
      }
    },
    {
      "cell_type": "markdown",
      "source": [
        "Check if a Number is Positive or Negative:"
      ],
      "metadata": {
        "id": "D0zVCYII9O50"
      }
    },
    {
      "cell_type": "code",
      "source": [
        "num = 5\n",
        "if num > 0:\n",
        "    print(\"Positive\")\n",
        "elif num < 0:\n",
        "    print(\"Negative\")\n",
        "else:\n",
        "    print(\"Zero\")\n"
      ],
      "metadata": {
        "id": "t4TPlIXfJEP-"
      },
      "execution_count": null,
      "outputs": []
    },
    {
      "cell_type": "markdown",
      "source": [
        "Check if a Number is Even or Odd:"
      ],
      "metadata": {
        "id": "6jqT9zQ59RWb"
      }
    },
    {
      "cell_type": "code",
      "source": [
        "num = 7\n",
        "if num % 2 == 0:\n",
        "    print(\"Even\")\n",
        "else:\n",
        "    print(\"Odd\")\n"
      ],
      "metadata": {
        "id": "6LGCTZeIJFBW"
      },
      "execution_count": null,
      "outputs": []
    },
    {
      "cell_type": "markdown",
      "source": [
        "Check if a Number is in a Given Range:"
      ],
      "metadata": {
        "id": "zdwtV77-9SdT"
      }
    },
    {
      "cell_type": "code",
      "source": [
        "num = 25\n",
        "if 10 <= num <= 30:\n",
        "    print(\"In range\")\n",
        "else:\n",
        "    print(\"Out of range\")\n"
      ],
      "metadata": {
        "id": "ivc_dc87JFjl"
      },
      "execution_count": null,
      "outputs": []
    },
    {
      "cell_type": "markdown",
      "source": [
        "Check if a String is Empty:"
      ],
      "metadata": {
        "id": "ORxObTXJ9Tcc"
      }
    },
    {
      "cell_type": "code",
      "source": [
        "num = 25\n",
        "if 10 <= num <= 30:\n",
        "    print(\"In range\")\n",
        "else:\n",
        "    print(\"Out of range\")\n"
      ],
      "metadata": {
        "id": "ES8DUuyaJPwH"
      },
      "execution_count": null,
      "outputs": []
    },
    {
      "cell_type": "markdown",
      "source": [
        "Check if a List is Empty:"
      ],
      "metadata": {
        "id": "rnowdgP49UTa"
      }
    },
    {
      "cell_type": "code",
      "source": [
        "my_list = []\n",
        "if not my_list:\n",
        "    print(\"List is empty\")\n",
        "else:\n",
        "    print(\"List is not empty\")\n"
      ],
      "metadata": {
        "id": "iWP8K5h8JPd4"
      },
      "execution_count": null,
      "outputs": []
    },
    {
      "cell_type": "markdown",
      "source": [
        "Check if a Character is a Vowel:"
      ],
      "metadata": {
        "id": "3b4OCMIO9VUr"
      }
    },
    {
      "cell_type": "code",
      "source": [
        "char = 'e'\n",
        "if char in 'aeiouAEIOU':\n",
        "    print(\"Vowel\")\n",
        "else:\n",
        "    print(\"Consonant\")\n"
      ],
      "metadata": {
        "id": "2izNLV4yJO7W"
      },
      "execution_count": null,
      "outputs": []
    },
    {
      "cell_type": "markdown",
      "source": [
        "Check if a Year is a Leap Year:"
      ],
      "metadata": {
        "id": "QUvRpnsp9WSC"
      }
    },
    {
      "cell_type": "code",
      "source": [
        "year = 2024\n",
        "if (year % 4 == 0 and year % 100 != 0) or (year % 400 == 0):\n",
        "    print(\"Leap year\")\n",
        "else:\n",
        "    print(\"Not a leap year\")\n"
      ],
      "metadata": {
        "id": "KaT_w36PJOpA"
      },
      "execution_count": null,
      "outputs": []
    },
    {
      "cell_type": "markdown",
      "source": [
        "Determine the Largest of Three Numbers:"
      ],
      "metadata": {
        "id": "SG20-YXw9Xba"
      }
    },
    {
      "cell_type": "code",
      "source": [
        "a, b, c = 12, 7, 20\n",
        "if a >= b and a >= c:\n",
        "    print(\"Largest: a\")\n",
        "elif b >= a and b >= c:\n",
        "    print(\"Largest: b\")\n",
        "else:\n",
        "    print(\"Largest: c\")\n"
      ],
      "metadata": {
        "id": "oxUS0v_yJOXZ"
      },
      "execution_count": null,
      "outputs": []
    },
    {
      "cell_type": "markdown",
      "source": [
        "Check if a Number is a Prime Number:"
      ],
      "metadata": {
        "id": "V-arUvrh9Yh9"
      }
    },
    {
      "cell_type": "code",
      "source": [
        "num = 17\n",
        "if num > 1:\n",
        "    for i in range(2, int(num**0.5) + 1):\n",
        "        if num % i == 0:\n",
        "            print(\"Not a prime number\")\n",
        "            break\n",
        "    else:\n",
        "        print(\"Prime number\")\n",
        "else:\n",
        "    print(\"Not a prime number\")\n"
      ],
      "metadata": {
        "id": "eZky0NosJOGJ"
      },
      "execution_count": null,
      "outputs": []
    },
    {
      "cell_type": "markdown",
      "source": [
        "Check if a String Contains a Substring:"
      ],
      "metadata": {
        "id": "b0r-HnXv9ZoS"
      }
    },
    {
      "cell_type": "code",
      "source": [
        "my_string = \"Hello, World!\"\n",
        "substring = \"World\"\n",
        "if substring in my_string:\n",
        "    print(\"Substring found\")\n",
        "else:\n",
        "    print(\"Substring not found\")\n"
      ],
      "metadata": {
        "id": "G9r2YFZoJNyJ"
      },
      "execution_count": null,
      "outputs": []
    },
    {
      "cell_type": "markdown",
      "source": [
        "Find the Largest Among Three Numbers Without Using max():"
      ],
      "metadata": {
        "id": "PffeCTV69axT"
      }
    },
    {
      "cell_type": "code",
      "source": [
        "a, b, c = 12, 7, 20\n",
        "if a >= b:\n",
        "    if a >= c:\n",
        "        print(\"Largest: a\")\n",
        "    else:\n",
        "        print(\"Largest: c\")\n",
        "else:\n",
        "    if b >= c:\n",
        "        print(\"Largest: b\")\n",
        "    else:\n",
        "        print(\"Largest: c\")\n"
      ],
      "metadata": {
        "id": "CsQd6Km6JMq-"
      },
      "execution_count": null,
      "outputs": []
    },
    {
      "cell_type": "markdown",
      "source": [
        "Check if a Year is a Century Year or Not:"
      ],
      "metadata": {
        "id": "HX-CzaWi9bwe"
      }
    },
    {
      "cell_type": "code",
      "source": [
        "year = 1900\n",
        "if year % 100 == 0:\n",
        "    if year % 400 == 0:\n",
        "        print(\"Century leap year\")\n",
        "    else:\n",
        "        print(\"Century year (not a leap year)\")\n",
        "else:\n",
        "    print(\"Not a century year\")\n"
      ],
      "metadata": {
        "id": "WWDewdkkJMZX"
      },
      "execution_count": null,
      "outputs": []
    },
    {
      "cell_type": "markdown",
      "source": [
        "Determine the Grade for a Given Percentage:"
      ],
      "metadata": {
        "id": "O5oj0mmQ9csV"
      }
    },
    {
      "cell_type": "code",
      "source": [
        "percentage = 85\n",
        "if percentage >= 90:\n",
        "    print(\"A\")\n",
        "elif percentage >= 80:\n",
        "    print(\"B\")\n",
        "elif percentage >= 70:\n",
        "    print(\"C\")\n",
        "elif percentage >= 60:\n",
        "    print(\"D\")\n",
        "else:\n",
        "    print(\"F\")\n"
      ],
      "metadata": {
        "id": "6yf6jRu2JMKn"
      },
      "execution_count": null,
      "outputs": []
    },
    {
      "cell_type": "markdown",
      "source": [
        "Check if a Year is a Palindrome Year (e.g., 2002):"
      ],
      "metadata": {
        "id": "ob9CQ1sB9dor"
      }
    },
    {
      "cell_type": "code",
      "source": [
        "year = 2002\n",
        "year_str = str(year)\n",
        "if year_str == year_str[::-1]:\n",
        "    print(\"Palindrome year\")\n",
        "else:\n",
        "    print(\"Not a palindrome year\")\n"
      ],
      "metadata": {
        "id": "_nU_VPOQJL4z"
      },
      "execution_count": null,
      "outputs": []
    },
    {
      "cell_type": "markdown",
      "source": [
        "Determine the Quadrant of a Point in a Cartesian Plane:"
      ],
      "metadata": {
        "id": "8Xen_dBK9eo1"
      }
    },
    {
      "cell_type": "code",
      "source": [
        "x, y = 3, -2\n",
        "if x > 0 and y > 0:\n",
        "    print(\"Quadrant 1\")\n",
        "elif x < 0 and y > 0:\n",
        "    print(\"Quadrant 2\")\n",
        "elif x < 0 and y < 0:\n",
        "    print(\"Quadrant 3\")\n",
        "elif x > 0 and y < 0:\n",
        "    print(\"Quadrant 4\")\n",
        "else:\n",
        "    print(\"Origin\")\n"
      ],
      "metadata": {
        "id": "JUBmysbmJLl3"
      },
      "execution_count": null,
      "outputs": []
    },
    {
      "cell_type": "markdown",
      "source": [
        "Check if a Year is a Happy Year (All Digits are Unique):"
      ],
      "metadata": {
        "id": "9w7FxUk59fkL"
      }
    },
    {
      "cell_type": "code",
      "source": [
        "year = 1987\n",
        "year_str = str(year)\n",
        "if len(set(year_str)) == len(year_str):\n",
        "    print(\"Happy year\")\n",
        "else:\n",
        "    print(\"Not a happy year\")\n"
      ],
      "metadata": {
        "id": "OoKAW06MJLWo"
      },
      "execution_count": null,
      "outputs": []
    },
    {
      "cell_type": "markdown",
      "source": [
        "Check if a Number is a Perfect Square:"
      ],
      "metadata": {
        "id": "kjVj5Dmr9gb7"
      }
    },
    {
      "cell_type": "code",
      "source": [
        "num = 16\n",
        "if num > 0 and num == int(num**0.5)**2:\n",
        "    print(\"Perfect square\")\n",
        "else:\n",
        "    print(\"Not a perfect square\")\n"
      ],
      "metadata": {
        "id": "8GR1eWcLJK-v"
      },
      "execution_count": null,
      "outputs": []
    },
    {
      "cell_type": "markdown",
      "source": [
        "Check if a Number is a Power of Two:"
      ],
      "metadata": {
        "id": "1iG5U_Uv9haF"
      }
    },
    {
      "cell_type": "code",
      "source": [
        "num = 16\n",
        "if num > 0 and (num & (num - 1)) == 0:\n",
        "    print(\"Power of two\")\n",
        "else:\n",
        "    print(\"Not a power of two\")\n"
      ],
      "metadata": {
        "id": "AdNhrWEwJJ2G"
      },
      "execution_count": null,
      "outputs": []
    },
    {
      "cell_type": "markdown",
      "source": [
        "Determine the Season Based on Month:"
      ],
      "metadata": {
        "id": "S8WNwQCS9iYK"
      }
    },
    {
      "cell_type": "code",
      "source": [
        "month = \"April\"\n",
        "if month in [\"December\", \"January\", \"February\"]:\n",
        "    print(\"Winter\")\n",
        "elif month in [\"March\", \"April\", \"May\"]:\n",
        "    print(\"Spring\")\n",
        "elif month in [\"June\", \"July\", \"August\"]:\n",
        "    print(\"Summer\")\n",
        "elif month in [\"September\", \"October\", \"November\"]:\n",
        "    print(\"Autumn\")\n"
      ],
      "metadata": {
        "id": "GiF4ZtPIJJoG"
      },
      "execution_count": null,
      "outputs": []
    },
    {
      "cell_type": "markdown",
      "source": [
        "Check if a Number is a Fibonacci Number:"
      ],
      "metadata": {
        "id": "OCeIvFUX9jUD"
      }
    },
    {
      "cell_type": "code",
      "source": [
        "def is_perfect_square(n):\n",
        "    return int(n**0.5)**2 == n\n",
        "\n",
        "def is_fibonacci(num):\n",
        "    return is_perfect_square(5 * num**2 + 4) or is_perfect_square(5 * num**2 - 4)\n",
        "\n",
        "num = 8\n",
        "if is_fibonacci(num):\n",
        "    print(\"Fibonacci number\")\n",
        "else:\n",
        "    print(\"Not a Fibonacci number\")\n"
      ],
      "metadata": {
        "id": "VDGUwjE3JJaW"
      },
      "execution_count": null,
      "outputs": []
    },
    {
      "cell_type": "markdown",
      "source": [
        "Check if a Year is a Magic Year (Product of Day and Month Equals Year):"
      ],
      "metadata": {
        "id": "XOXpKPeF9kT6"
      }
    },
    {
      "cell_type": "code",
      "source": [
        "year = 2022\n",
        "for month in range(1, 13):\n",
        "    for day in range(1, 32):\n",
        "        if month * day == year:\n",
        "            print(f\"Magic year: {day}/{month}/{year}\")\n",
        "            break\n",
        "    else:\n",
        "        continue\n",
        "    break\n",
        "else:\n",
        "    print(\"Not a magic year\")\n"
      ],
      "metadata": {
        "id": "KgHeqLd9JJJB"
      },
      "execution_count": null,
      "outputs": []
    },
    {
      "cell_type": "markdown",
      "source": [
        "Implement a Simple Calculator with If-Else Statements:"
      ],
      "metadata": {
        "id": "VSbw5HbK9lXp"
      }
    },
    {
      "cell_type": "code",
      "source": [
        "num1 = 10\n",
        "num2 = 5\n",
        "operation = \"+\"\n",
        "if operation == \"+\":\n",
        "    result = num1 + num2\n",
        "elif operation == \"-\":\n",
        "    result = num1 - num2\n",
        "elif operation == \"*\":\n",
        "    result = num1 * num2\n",
        "elif operation == \"/\":\n",
        "    if num2 != 0:\n",
        "        result = num1 / num2\n",
        "    else:\n",
        "        result = \"Division by zero\"\n",
        "else:\n",
        "    result = \"Invalid operation\"\n",
        "print(f\"Result: {result}\")\n"
      ],
      "metadata": {
        "id": "blteqV2hJI5I"
      },
      "execution_count": null,
      "outputs": []
    },
    {
      "cell_type": "markdown",
      "source": [
        "Determine the Winner of a Tic-Tac-Toe Game:"
      ],
      "metadata": {
        "id": "60vb9sBa9mhs"
      }
    },
    {
      "cell_type": "code",
      "source": [
        "def check_winner(board):\n",
        "    for row in board:\n",
        "        if all(cell == 'X' for cell in row) or all(cell == 'O' for cell in row):\n",
        "            return row[0]\n",
        "\n",
        "    for col in range(3):\n",
        "        if all(board[row][col] == 'X' for row in range(3)) or all(board[row][col] == 'O' for row in range(3)):\n",
        "            return board[0][col]\n",
        "\n",
        "    if all(board[i][i] == 'X' for i in range(3)) or all(board[i][i] == 'O' for i in range(3)):\n",
        "        return board[0][0]\n",
        "\n",
        "    if all(board[i][2 - i] == 'X' for i in range(3)) or all(board[i][2 - i] == 'O' for i in range(3)):\n",
        "        return board[0][2]\n",
        "\n",
        "    return None\n",
        "\n",
        "game_board = [['X', 'O', 'X'],\n",
        "              ['X', 'X', 'O'],\n",
        "              ['O', 'O', 'X']]\n",
        "\n",
        "winner = check_winner(game_board)\n",
        "if winner:\n",
        "    print(f\"The winner is {winner}\")\n",
        "else:\n",
        "    print(\"It's a draw!\")\n",
        "\n"
      ],
      "metadata": {
        "id": "UZtgOCDhJIln"
      },
      "execution_count": null,
      "outputs": []
    },
    {
      "cell_type": "markdown",
      "source": [
        "Find the Largest Subarray with Equal 0s and 1s:"
      ],
      "metadata": {
        "id": "2aSjjW4e9nuK"
      }
    },
    {
      "cell_type": "code",
      "source": [
        "def find_max_length_subarray(arr):\n",
        "    max_length = 0\n",
        "    sum_map = {0: -1}\n",
        "    current_sum = 0\n",
        "    for i in range(len(arr)):\n",
        "        if arr[i] == 0:\n",
        "            current_sum -= 1\n",
        "        else:\n",
        "            current_sum += 1\n",
        "\n",
        "        if current_sum in sum_map:\n",
        "            max_length = max(max_length, i - sum_map[current_sum])\n",
        "        else:\n",
        "            sum_map[current_sum] = i\n",
        "    return max_length\n",
        "\n",
        "arr = [0, 1, 0, 1, 1, 0, 0]\n",
        "max_length = find_max_length_subarray(arr)\n",
        "print(f\"Largest subarray length with equal 0s and 1s: {max_length}\")\n"
      ],
      "metadata": {
        "id": "E-aV79biJIQG"
      },
      "execution_count": null,
      "outputs": []
    },
    {
      "cell_type": "markdown",
      "source": [
        "Implement a Rock-Paper-Scissors Game:"
      ],
      "metadata": {
        "id": "qEP_SEgG9prr"
      }
    },
    {
      "cell_type": "code",
      "source": [
        "def find_max_length_subarray(arr):\n",
        "    max_length = 0\n",
        "    sum_map = {0: -1}\n",
        "    current_sum = 0\n",
        "    for i in range(len(arr)):\n",
        "        if arr[i] == 0:\n",
        "            current_sum -= 1\n",
        "        else:\n",
        "            current_sum += 1\n",
        "\n",
        "        if current_sum in sum_map:\n",
        "            max_length = max(max_length, i - sum_map[current_sum])\n",
        "        else:\n",
        "            sum_map[current_sum] = i\n",
        "    return max_length\n",
        "\n",
        "arr = [0, 1, 0, 1, 1, 0, 0]\n",
        "max_length = find_max_length_subarray(arr)\n",
        "print(f\"Largest subarray length with equal 0s and 1s: {max_length}\")\n"
      ],
      "metadata": {
        "id": "AiJncS9LJHYA"
      },
      "execution_count": null,
      "outputs": []
    },
    {
      "cell_type": "markdown",
      "source": [
        "Check if a Sudoku Solution is Valid:"
      ],
      "metadata": {
        "id": "jdoVfaRi9q6i"
      }
    },
    {
      "cell_type": "code",
      "source": [
        "def is_valid_sudoku(board):\n",
        "    for i in range(9):\n",
        "        row_set = set()\n",
        "        col_set = set()\n",
        "        box_set = set()\n",
        "        for j in range(9):\n",
        "            if board[i][j] in row_set or board[j][i] in col_set or board[i // 3 * 3 + j // 3][i % 3 * 3 + j % 3] in box_set:\n",
        "                return False\n",
        "            if board[i][j] != \".\":\n",
        "                row_set.add(board[i][j])\n",
        "            if board[j][i] != \".\":\n",
        "                col_set.add(board[j][i])\n",
        "            if board[i // 3 * 3 + j // 3][i % 3 * 3 + j % 3] != \".\":\n",
        "                box_set.add(board[i // 3 * 3 + j // 3][i % 3 * 3 + j % 3])\n",
        "    return True\n",
        "\n",
        "sudoku_board = [\n",
        "    [\"5\", \"3\", \".\", \".\", \"7\", \".\", \".\", \".\", \".\"],\n",
        "    [\"6\", \".\", \".\", \"1\", \"9\", \"5\", \".\", \".\", \".\"],\n",
        "    [\".\", \"9\", \"8\", \".\", \".\", \".\", \".\", \"6\", \".\"],\n",
        "    [\"8\", \".\", \".\", \".\", \"6\", \".\", \".\", \".\", \"3\"],\n",
        "    [\"4\", \".\", \".\", \"8\", \".\", \"3\", \".\", \".\", \"1\"],\n",
        "    [\"7\", \".\", \".\", \".\", \"2\", \".\", \".\", \".\", \"6\"],\n",
        "    [\".\", \"6\", \".\", \".\", \".\", \".\", \"2\", \"8\", \".\"],\n",
        "    [\".\", \".\", \".\", \"4\", \"1\", \"9\", \".\", \".\", \"5\"],\n",
        "    [\".\", \".\", \".\", \".\", \"8\", \".\", \".\", \"7\", \"9\"]\n",
        "]\n",
        "\n",
        "if is_valid_sudoku(sudoku_board):\n",
        "    print(\"Valid Sudoku\")\n",
        "else:\n",
        "    print(\"Invalid Sudoku\")\n"
      ],
      "metadata": {
        "id": "tQ8DOQVwJHGW"
      },
      "execution_count": null,
      "outputs": []
    },
    {
      "cell_type": "markdown",
      "source": [
        "Implement a Simple Text-Based Adventure Game Using If-Else Statements:"
      ],
      "metadata": {
        "id": "xejvGMPg9sIK"
      }
    },
    {
      "cell_type": "code",
      "source": [
        "print(\"Welcome to the adventure game!\")\n",
        "print(\"You find yourself in a dark forest.\")\n",
        "choice = input(\"Do you want to go left or right? \").lower()\n",
        "\n",
        "if choice == \"left\":\n",
        "    print(\"You encounter a bear and run away.\")\n",
        "elif choice == \"right\":\n",
        "    print(\"You find a treasure chest and open it.\")\n",
        "    choice = input(\"Do you take the gold or the sword? \").lower()\n",
        "    if choice == \"gold\":\n",
        "        print(\"You become rich and live happily ever after!\")\n",
        "    elif choice == \"sword\":\n",
        "        print(\"You take the sword and continue your journey.\")\n",
        "    else:\n",
        "        print(\"You stand there, unable to decide, and the game ends.\")\n",
        "else:\n",
        "    print(\"You're indecisive and get lost in the forest.\")\n",
        "\n"
      ],
      "metadata": {
        "id": "j0UUSyTlJG23"
      },
      "execution_count": null,
      "outputs": []
    },
    {
      "cell_type": "markdown",
      "source": [
        "Implement a Decision Tree Classifier for a Simple Classification Task:"
      ],
      "metadata": {
        "id": "omGWnNke9tdS"
      }
    },
    {
      "cell_type": "code",
      "source": [
        "age = 25\n",
        "income = 60000\n",
        "\n",
        "if age < 30:\n",
        "    if income < 50000:\n",
        "        decision = \"Low Risk\"\n",
        "    else:\n",
        "        decision = \"Medium Risk\"\n",
        "else:\n",
        "    if income < 70000:\n",
        "        decision = \"Medium Risk\"\n",
        "    else:\n",
        "        decision = \"High Risk\"\n",
        "\n",
        "print(f\"Customer's risk level: {decision}\")\n"
      ],
      "metadata": {
        "id": "Q7yKcerJJGqO"
      },
      "execution_count": null,
      "outputs": []
    },
    {
      "cell_type": "markdown",
      "source": [
        "###########################################"
      ],
      "metadata": {
        "id": "R0dosTTG9w58"
      }
    },
    {
      "cell_type": "markdown",
      "source": [
        "# ***LOOPS: FOR LOOPS***"
      ],
      "metadata": {
        "id": "oNwhqOW69yiz"
      }
    },
    {
      "cell_type": "markdown",
      "source": [
        "Print Numbers from 1 to 5:"
      ],
      "metadata": {
        "id": "pASkaK0e92Eb"
      }
    },
    {
      "cell_type": "code",
      "source": [
        "for i in range(1, 6):\n",
        "    print(i)\n"
      ],
      "metadata": {
        "id": "lIJHpNmiKwe2"
      },
      "execution_count": null,
      "outputs": []
    },
    {
      "cell_type": "markdown",
      "source": [
        "Iterate Through a List:"
      ],
      "metadata": {
        "id": "smiqK70h935L"
      }
    },
    {
      "cell_type": "code",
      "source": [
        "my_list = [1, 2, 3, 4, 5]\n",
        "for item in my_list:\n",
        "    print(item)\n"
      ],
      "metadata": {
        "id": "Ya_u08VkKyqs"
      },
      "execution_count": null,
      "outputs": []
    },
    {
      "cell_type": "markdown",
      "source": [
        "Calculate the Sum of Numbers from 1 to 10:"
      ],
      "metadata": {
        "id": "j2Yyx7QZ95Gz"
      }
    },
    {
      "cell_type": "code",
      "source": [
        "total = 0\n",
        "for i in range(1, 11):\n",
        "    total += i\n",
        "print(\"Sum:\", total)\n"
      ],
      "metadata": {
        "id": "YjIfsjTnKz0-"
      },
      "execution_count": null,
      "outputs": []
    },
    {
      "cell_type": "markdown",
      "source": [
        "Print Characters of a String:"
      ],
      "metadata": {
        "id": "xsII5h8Z96GM"
      }
    },
    {
      "cell_type": "code",
      "source": [
        "my_string = \"Hello\"\n",
        "for char in my_string:\n",
        "    print(char)\n"
      ],
      "metadata": {
        "id": "XQcd98GQLl3A"
      },
      "execution_count": null,
      "outputs": []
    },
    {
      "cell_type": "markdown",
      "source": [
        "Iterate Through a Dictionary's Keys and Values:"
      ],
      "metadata": {
        "id": "_fu9q42697BK"
      }
    },
    {
      "cell_type": "code",
      "source": [
        "my_dict = {\"name\": \"Alice\", \"age\": 30, \"city\": \"New York\"}\n",
        "for key, value in my_dict.items():\n",
        "    print(key, \":\", value)\n"
      ],
      "metadata": {
        "id": "KSFbBJR_Lot8"
      },
      "execution_count": null,
      "outputs": []
    },
    {
      "cell_type": "markdown",
      "source": [
        "Print Even Numbers from 2 to 10:"
      ],
      "metadata": {
        "id": "j3YZSYCA978T"
      }
    },
    {
      "cell_type": "code",
      "source": [
        "for i in range(2, 11, 2):\n",
        "    print(i)\n"
      ],
      "metadata": {
        "id": "LAo9IDbALprR"
      },
      "execution_count": null,
      "outputs": []
    },
    {
      "cell_type": "markdown",
      "source": [
        "Iterate Through a Range of Years:"
      ],
      "metadata": {
        "id": "vodtKofV99Ek"
      }
    },
    {
      "cell_type": "code",
      "source": [
        "for year in range(2000, 2030, 5):\n",
        "    print(year)\n"
      ],
      "metadata": {
        "id": "YmGn5Z26LrB1"
      },
      "execution_count": null,
      "outputs": []
    },
    {
      "cell_type": "markdown",
      "source": [
        "Loop Until a Condition is Met:"
      ],
      "metadata": {
        "id": "wwcs9YCi9-E5"
      }
    },
    {
      "cell_type": "code",
      "source": [
        "num = 1\n",
        "while num <= 5:\n",
        "    print(num)\n",
        "    num += 1\n"
      ],
      "metadata": {
        "id": "uSIxwL9cLtUm"
      },
      "execution_count": null,
      "outputs": []
    },
    {
      "cell_type": "markdown",
      "source": [
        "Print Multiplication Table for a Number:"
      ],
      "metadata": {
        "id": "WHH-ddpb-AaR"
      }
    },
    {
      "cell_type": "code",
      "source": [
        "num = 7\n",
        "for i in range(1, 11):\n",
        "    result = num * i\n",
        "    print(f\"{num} x {i} = {result}\")\n"
      ],
      "metadata": {
        "id": "HfeJGDg8Lum7"
      },
      "execution_count": null,
      "outputs": []
    },
    {
      "cell_type": "markdown",
      "source": [
        "Iterate Through a List in Reverse:"
      ],
      "metadata": {
        "id": "5Tqcw63e-BbW"
      }
    },
    {
      "cell_type": "code",
      "source": [
        "my_list = [1, 2, 3, 4, 5]\n",
        "for item in reversed(my_list):\n",
        "    print(item)\n"
      ],
      "metadata": {
        "id": "7-UG75k1LySq"
      },
      "execution_count": null,
      "outputs": []
    },
    {
      "cell_type": "markdown",
      "source": [
        "Find the Factorial of a Number:"
      ],
      "metadata": {
        "id": "gGlub_Mb-CZq"
      }
    },
    {
      "cell_type": "code",
      "source": [
        "num = 5\n",
        "factorial = 1\n",
        "for i in range(1, num + 1):\n",
        "    factorial *= i\n",
        "print(\"Factorial:\", factorial)\n"
      ],
      "metadata": {
        "id": "0_NLwht5L0w6"
      },
      "execution_count": null,
      "outputs": []
    },
    {
      "cell_type": "markdown",
      "source": [
        "Print a Pattern of Stars:"
      ],
      "metadata": {
        "id": "pkLD_tOx-DRp"
      }
    },
    {
      "cell_type": "code",
      "source": [
        "rows = 4\n",
        "for i in range(1, rows + 1):\n",
        "    for j in range(1, i + 1):\n",
        "        print(\"*\", end=\" \")\n",
        "    print()\n"
      ],
      "metadata": {
        "id": "mG5agkbfL2Kc"
      },
      "execution_count": null,
      "outputs": []
    },
    {
      "cell_type": "markdown",
      "source": [
        "Calculate the Sum of Squares of Numbers from 1 to 5:"
      ],
      "metadata": {
        "id": "1YQqoevh-EaB"
      }
    },
    {
      "cell_type": "code",
      "source": [
        "rows = 4\n",
        "for i in range(1, rows + 1):\n",
        "    for j in range(1, i + 1):\n",
        "        print(\"*\", end=\" \")\n",
        "    print()\n"
      ],
      "metadata": {
        "id": "o2bM_V6uL3i7"
      },
      "execution_count": null,
      "outputs": []
    },
    {
      "cell_type": "markdown",
      "source": [
        "Generate the Fibonacci Sequence:"
      ],
      "metadata": {
        "id": "6UdIFIAW-FWC"
      }
    },
    {
      "cell_type": "code",
      "source": [
        "n = 10\n",
        "a, b = 0, 1\n",
        "for _ in range(n):\n",
        "    print(a, end=\" \")\n",
        "    a, b = b, a + b\n"
      ],
      "metadata": {
        "id": "2y-VSd7LL7LC"
      },
      "execution_count": null,
      "outputs": []
    },
    {
      "cell_type": "markdown",
      "source": [
        "Print Prime Numbers Between 1 and 20:"
      ],
      "metadata": {
        "id": "2qgr_dpn-GLl"
      }
    },
    {
      "cell_type": "code",
      "source": [
        "for num in range(2, 21):\n",
        "    is_prime = True\n",
        "    for i in range(2, int(num**0.5) + 1):\n",
        "        if num % i == 0:\n",
        "            is_prime = False\n",
        "            break\n",
        "    if is_prime:\n",
        "        print(num)\n"
      ],
      "metadata": {
        "id": "rXIoUZk2L8uq"
      },
      "execution_count": null,
      "outputs": []
    },
    {
      "cell_type": "markdown",
      "source": [
        "Calculate the Sum of a Series (1 + 1/2 + 1/3 + ... + 1/n):"
      ],
      "metadata": {
        "id": "1E2-OKLU-HX0"
      }
    },
    {
      "cell_type": "code",
      "source": [
        "n = 5\n",
        "total = 0\n",
        "for i in range(1, n + 1):\n",
        "    total += 1 / i\n",
        "print(\"Sum of series:\", total)\n"
      ],
      "metadata": {
        "id": "BghO-WfqL_bf"
      },
      "execution_count": null,
      "outputs": []
    },
    {
      "cell_type": "markdown",
      "source": [
        "Print a Hollow Square Pattern of Stars:"
      ],
      "metadata": {
        "id": "w5ecaDY9-LfS"
      }
    },
    {
      "cell_type": "code",
      "source": [
        "size = 5\n",
        "for i in range(size):\n",
        "    if i == 0 or i == size - 1:\n",
        "        print(\"*\" * size)\n",
        "    else:\n",
        "        print(\"*\" + \" \" * (size - 2) + \"*\")\n"
      ],
      "metadata": {
        "id": "sRsHgtOLMHY9"
      },
      "execution_count": null,
      "outputs": []
    },
    {
      "cell_type": "markdown",
      "source": [
        "Print a Diamond Pattern of Stars:"
      ],
      "metadata": {
        "id": "Tiq35nCWMUxB"
      }
    },
    {
      "cell_type": "code",
      "source": [
        "n = 5\n",
        "for i in range(n):\n",
        "    print(\" \" * (n - i - 1) + \"*\" * (2 * i + 1))\n",
        "for i in range(n - 2, -1, -1):\n",
        "    print(\" \" * (n - i - 1) + \"*\" * (2 * i + 1))\n"
      ],
      "metadata": {
        "id": "FEZ_2rsgMSmo"
      },
      "execution_count": null,
      "outputs": []
    },
    {
      "cell_type": "markdown",
      "source": [
        "Generate All Permutations of a List:"
      ],
      "metadata": {
        "id": "lWOwp_gX-XpA"
      }
    },
    {
      "cell_type": "code",
      "source": [
        "from itertools import permutations\n",
        "\n",
        "my_list = [1, 2, 3]\n",
        "all_permutations = list(permutations(my_list))\n",
        "print(\"All permutations:\", all_permutations)\n"
      ],
      "metadata": {
        "id": "kDFc9REtMaBo"
      },
      "execution_count": null,
      "outputs": []
    },
    {
      "cell_type": "markdown",
      "source": [
        "# ***LOOPS: WHILE LOOP***"
      ],
      "metadata": {
        "id": "-5JZweWf-aoz"
      }
    },
    {
      "cell_type": "markdown",
      "source": [
        "Print Numbers from 1 to 5 using a While Loop:"
      ],
      "metadata": {
        "id": "kyuKt5jb-eSk"
      }
    },
    {
      "cell_type": "code",
      "source": [
        "num = 1\n",
        "while num <= 5:\n",
        "    print(num)\n",
        "    num += 1\n"
      ],
      "metadata": {
        "id": "gIMXbZDQNBI1"
      },
      "execution_count": null,
      "outputs": []
    },
    {
      "cell_type": "markdown",
      "source": [
        "Calculate the Sum of Numbers from 1 to 10 using a While Loop:"
      ],
      "metadata": {
        "id": "-wmYrg5E-hrj"
      }
    },
    {
      "cell_type": "code",
      "source": [
        "total = 0\n",
        "num = 1\n",
        "while num <= 10:\n",
        "    total += num\n",
        "    num += 1\n",
        "print(\"Sum:\", total)\n"
      ],
      "metadata": {
        "id": "SuQvakofNCZ5"
      },
      "execution_count": null,
      "outputs": []
    },
    {
      "cell_type": "markdown",
      "source": [
        "Generate a Countdown from 5 to 1:"
      ],
      "metadata": {
        "id": "m52JoZv1-iob"
      }
    },
    {
      "cell_type": "code",
      "source": [
        "num = 5\n",
        "while num >= 1:\n",
        "    print(num)\n",
        "    num -= 1\n"
      ],
      "metadata": {
        "id": "0DSPfM06NDrq"
      },
      "execution_count": null,
      "outputs": []
    },
    {
      "cell_type": "markdown",
      "source": [
        "Print Even Numbers from 2 to 10 using a While Loop:"
      ],
      "metadata": {
        "id": "PL9Wb1tz-jmM"
      }
    },
    {
      "cell_type": "code",
      "source": [
        "num = 2\n",
        "while num <= 10:\n",
        "    print(num)\n",
        "    num += 2\n"
      ],
      "metadata": {
        "id": "_FEvoQZyNEr6"
      },
      "execution_count": null,
      "outputs": []
    },
    {
      "cell_type": "markdown",
      "source": [
        "Find the Factorial of a Number using a While Loop:"
      ],
      "metadata": {
        "id": "5CLjW6Lv-kfO"
      }
    },
    {
      "cell_type": "code",
      "source": [
        "num = 5\n",
        "factorial = 1\n",
        "while num > 0:\n",
        "    factorial *= num\n",
        "    num -= 1\n",
        "print(\"Factorial:\", factorial)\n"
      ],
      "metadata": {
        "id": "4plurhtsNLet"
      },
      "execution_count": null,
      "outputs": []
    },
    {
      "cell_type": "markdown",
      "source": [
        "Calculate the Sum of Squares of Numbers from 1 to 5 using a While Loop:"
      ],
      "metadata": {
        "id": "BqOdt2Xb-lcU"
      }
    },
    {
      "cell_type": "code",
      "source": [
        "num = 1\n",
        "total = 0\n",
        "while num <= 5:\n",
        "    total += num**2\n",
        "    num += 1\n",
        "print(\"Sum of squares:\", total)\n"
      ],
      "metadata": {
        "id": "6Lw2b18nNKLS"
      },
      "execution_count": null,
      "outputs": []
    },
    {
      "cell_type": "markdown",
      "source": [
        "Print Multiplication Table for 7 using a While Loop:"
      ],
      "metadata": {
        "id": "OLGrapRy-mfM"
      }
    },
    {
      "cell_type": "code",
      "source": [
        "num = 1\n",
        "while num <= 10:\n",
        "    result = 7 * num\n",
        "    print(f\"7 x {num} = {result}\")\n",
        "    num += 1\n"
      ],
      "metadata": {
        "id": "jpbO_fQ0NJbU"
      },
      "execution_count": null,
      "outputs": []
    },
    {
      "cell_type": "markdown",
      "source": [
        "Find the Greatest Common Divisor (GCD) of Two Numbers using Euclidean Algorithm:"
      ],
      "metadata": {
        "id": "tEQFDTr1-nvu"
      }
    },
    {
      "cell_type": "code",
      "source": [
        "a, b = 48, 18\n",
        "while b != 0:\n",
        "    a, b = b, a % b\n",
        "print(\"GCD:\", a)\n"
      ],
      "metadata": {
        "id": "riSUJ-5_NJMm"
      },
      "execution_count": null,
      "outputs": []
    },
    {
      "cell_type": "markdown",
      "source": [
        "Generate the Fibonacci Sequence up to 100 using a While Loop:"
      ],
      "metadata": {
        "id": "v3ZQGCfz-pAO"
      }
    },
    {
      "cell_type": "code",
      "source": [
        "a, b = 0, 1\n",
        "while a <= 100:\n",
        "    print(a, end=\" \")\n",
        "    a, b = b, a + b\n"
      ],
      "metadata": {
        "id": "tlcoFdtXNI_s"
      },
      "execution_count": null,
      "outputs": []
    },
    {
      "cell_type": "markdown",
      "source": [
        "Reverse a Number using a While Loop:"
      ],
      "metadata": {
        "id": "SIGZYQIK-p6-"
      }
    },
    {
      "cell_type": "code",
      "source": [
        "num = 12345\n",
        "reversed_num = 0\n",
        "while num > 0:\n",
        "    digit = num % 10\n",
        "    reversed_num = reversed_num * 10 + digit\n",
        "    num //= 10\n",
        "print(\"Reversed number:\", reversed_num)\n"
      ],
      "metadata": {
        "id": "_FG6vpbhNIyr"
      },
      "execution_count": null,
      "outputs": []
    },
    {
      "cell_type": "markdown",
      "source": [
        "Determine if a Number is a Palindrome using a While Loop:"
      ],
      "metadata": {
        "id": "VymSPlOl-q8-"
      }
    },
    {
      "cell_type": "code",
      "source": [
        "num = 12321\n",
        "original_num = num\n",
        "reversed_num = 0\n",
        "while num > 0:\n",
        "    digit = num % 10\n",
        "    reversed_num = reversed_num * 10 + digit\n",
        "    num //= 10\n",
        "if original_num == reversed_num:\n",
        "    print(\"Palindrome\")\n",
        "else:\n",
        "    print(\"Not a palindrome\")\n"
      ],
      "metadata": {
        "id": "vZzylnmXNIPX"
      },
      "execution_count": null,
      "outputs": []
    },
    {
      "cell_type": "markdown",
      "source": [
        "Simulate a Dice Rolling Game until a 6 is Rolled:"
      ],
      "metadata": {
        "id": "X_fhoFda-0WG"
      }
    },
    {
      "cell_type": "code",
      "source": [
        "import random\n",
        "\n",
        "rolls = 0\n",
        "while True:\n",
        "    roll = random.randint(1, 6)\n",
        "    rolls += 1\n",
        "    if roll == 6:\n",
        "        break\n",
        "print(\"Number of rolls to get a 6:\", rolls)\n"
      ],
      "metadata": {
        "id": "OnLCmVYDNHxZ"
      },
      "execution_count": null,
      "outputs": []
    },
    {
      "cell_type": "markdown",
      "source": [
        "Calculate the Sum of an Infinite Series (1 + 1/2 + 1/4 + 1/8 + ...) using a While Loop:"
      ],
      "metadata": {
        "id": "kDV8J37U-2Fm"
      }
    },
    {
      "cell_type": "code",
      "source": [
        "total = 0\n",
        "n = 1\n",
        "while True:\n",
        "    term = 1 / (2**n)\n",
        "    if term < 1e-6:\n",
        "        break\n",
        "    total += term\n",
        "    n += 1\n",
        "print(\"Sum of the series:\", total)\n"
      ],
      "metadata": {
        "id": "DbzcUuUeNHNE"
      },
      "execution_count": null,
      "outputs": []
    },
    {
      "cell_type": "markdown",
      "source": [
        "Simulate a Rock-Paper-Scissors Game against the Computer using a While Loop:"
      ],
      "metadata": {
        "id": "oKkREGoONv5t"
      }
    },
    {
      "cell_type": "code",
      "source": [
        "import random\n",
        "\n",
        "while True:\n",
        "    user_choice = input(\"Enter your choice (rock, paper, scissors, or quit): \").lower()\n",
        "    if user_choice == \"quit\":\n",
        "        break\n",
        "    computer_choice = random.choice([\"rock\", \"paper\", \"scissors\"])\n",
        "    print(f\"Computer's choice: {computer_choice}\")\n",
        "    if user_choice == computer_choice:\n",
        "        print(\"It's a tie!\")\n",
        "    elif user_choice == \"rock\" and computer_choice == \"scissors\" or \\\n",
        "            user_choice == \"paper\" and computer_choice == \"rock\" or \\\n",
        "            user_choice == \"scissors\" and computer_choice == \"paper\":\n",
        "        print(\"You win!\")\n",
        "    else:\n",
        "        print(\"Computer wins!\")\n"
      ],
      "metadata": {
        "id": "fH3ZF0m1NF-L"
      },
      "execution_count": null,
      "outputs": []
    },
    {
      "cell_type": "markdown",
      "source": [
        "Simulate a Sudoku Solver using a While Loop:"
      ],
      "metadata": {
        "id": "ZSr8dGri_dXt"
      }
    },
    {
      "cell_type": "code",
      "source": [
        "def is_valid(board, row, col, num):\n",
        "    for i in range(9):\n",
        "        if board[row][i] == num or board[i][col] == num:\n",
        "            return False\n",
        "    start_row, start_col = 3 * (row // 3), 3 * (col // 3)\n",
        "    for i in range(3):\n",
        "        for j in range(3):\n",
        "            if board[start_row + i][start_col + j] == num:\n",
        "                return False\n",
        "    return True\n",
        "\n",
        "def solve_sudoku(board):\n",
        "    for row in range(9):\n",
        "        for col in range(9):\n",
        "            if board[row][col] == 0:\n",
        "                for num in range(1, 10):\n",
        "                    if is_valid(board, row, col, num):\n",
        "                        board[row][col] = num\n",
        "                        if solve_sudoku(board):\n",
        "                            return True\n",
        "                        board[row][col] = 0\n",
        "                return False\n",
        "    return True\n",
        "\n",
        "# Example Sudoku puzzle (0 represents an empty cell)\n",
        "sudoku_board = [\n",
        "    [5, 3, 0, 0, 7, 0, 0, 0, 0],\n",
        "    [6, 0, 0, 1, 9, 5, 0, 0, 0],\n",
        "    [0, 9, 8, 0, 0, 0, 0, 6, 0],\n",
        "    [8, 0, 0, 0, 6, 0, 0, 0, 3],\n",
        "    [4, 0, 0, 8, 0, 3, 0, 0, 1],\n",
        "    [7, 0, 0, 0, 2, 0, 0, 0, 6],\n",
        "    [0, 6, 0, 0, 0, 0, 2, 8, 0],\n",
        "    [0, 0, 0, 4, 1, 9, 0, 0, 5],\n",
        "    [0, 0, 0, 0, 8, 0, 0, 7, 9]\n",
        "]\n",
        "\n",
        "if solve_sudoku(sudoku_board):\n",
        "    for row in sudoku_board:\n",
        "        print(row)\n",
        "else:\n",
        "    print(\"No solution exists.\")\n"
      ],
      "metadata": {
        "id": "IvVEShwPNFvz"
      },
      "execution_count": null,
      "outputs": []
    },
    {
      "cell_type": "markdown",
      "source": [
        "#####################################"
      ],
      "metadata": {
        "id": "FS5RVQrZ_fUM"
      }
    },
    {
      "cell_type": "markdown",
      "source": [
        "# **\"break statements,\" \"continue statement,\" and \"pass statement\":**"
      ],
      "metadata": {
        "id": "MtHzwNSl_gcU"
      }
    },
    {
      "cell_type": "markdown",
      "source": [
        "Break Statement in a Loop:"
      ],
      "metadata": {
        "id": "Qg4HiRWY_ray"
      }
    },
    {
      "cell_type": "code",
      "source": [
        "for i in range(1, 6):\n",
        "    if i == 3:\n",
        "        break\n",
        "    print(i)\n"
      ],
      "metadata": {
        "id": "fyKe2KMBN16l"
      },
      "execution_count": null,
      "outputs": []
    },
    {
      "cell_type": "markdown",
      "source": [
        "Continue Statement in a Loop:"
      ],
      "metadata": {
        "id": "elePm7KP_t16"
      }
    },
    {
      "cell_type": "code",
      "source": [
        "for i in range(1, 6):\n",
        "    if i == 3:\n",
        "        continue\n",
        "    print(i)\n"
      ],
      "metadata": {
        "id": "3nB2QEhwN3xl"
      },
      "execution_count": null,
      "outputs": []
    },
    {
      "cell_type": "markdown",
      "source": [
        "Pass Statement in a Loop:"
      ],
      "metadata": {
        "id": "VRNtFV74_u7z"
      }
    },
    {
      "cell_type": "code",
      "source": [
        "for i in range(1, 6):\n",
        "    if i == 3:\n",
        "        pass\n",
        "    else:\n",
        "        print(i)\n"
      ],
      "metadata": {
        "id": "7nk9fdAFN66T"
      },
      "execution_count": null,
      "outputs": []
    },
    {
      "cell_type": "markdown",
      "source": [
        "Break Out of an Infinite Loop:"
      ],
      "metadata": {
        "id": "QEoZB9Uq_v4K"
      }
    },
    {
      "cell_type": "code",
      "source": [
        "while True:\n",
        "    user_input = input(\"Enter 'quit' to exit: \")\n",
        "    if user_input == 'quit':\n",
        "        break\n"
      ],
      "metadata": {
        "id": "KzB8TMD7N87f"
      },
      "execution_count": null,
      "outputs": []
    },
    {
      "cell_type": "markdown",
      "source": [
        "Skip Odd Numbers using Continue:"
      ],
      "metadata": {
        "id": "dq6pl7x-_xGJ"
      }
    },
    {
      "cell_type": "code",
      "source": [
        "for i in range(1, 11):\n",
        "    if i % 2 == 1:\n",
        "        continue\n",
        "    print(i)\n"
      ],
      "metadata": {
        "id": "GatTauuqOAAD"
      },
      "execution_count": null,
      "outputs": []
    },
    {
      "cell_type": "markdown",
      "source": [
        "Use Pass for Placeholder Code:"
      ],
      "metadata": {
        "id": "oi3Zs25A_yGs"
      }
    },
    {
      "cell_type": "code",
      "source": [
        "def placeholder_function():\n",
        "    pass\n"
      ],
      "metadata": {
        "id": "NYONM-EtOBIP"
      },
      "execution_count": null,
      "outputs": []
    },
    {
      "cell_type": "markdown",
      "source": [
        "Break Loop on Condition:"
      ],
      "metadata": {
        "id": "XFbuh1Ob_zFH"
      }
    },
    {
      "cell_type": "code",
      "source": [
        "numbers = [1, 2, 3, 4, 5, 6]\n",
        "for num in numbers:\n",
        "    if num > 3:\n",
        "        break\n",
        "    print(num)\n"
      ],
      "metadata": {
        "id": "TdXbjRjFODKX"
      },
      "execution_count": null,
      "outputs": []
    },
    {
      "cell_type": "markdown",
      "source": [
        "Continue in Nested Loop:"
      ],
      "metadata": {
        "id": "6XA8G4S9_z5k"
      }
    },
    {
      "cell_type": "code",
      "source": [
        "for i in range(3):\n",
        "    for j in range(3):\n",
        "        if i == j:\n",
        "            continue\n",
        "        print(f\"({i}, {j})\")\n"
      ],
      "metadata": {
        "id": "GRmYYxZyOEUX"
      },
      "execution_count": null,
      "outputs": []
    },
    {
      "cell_type": "markdown",
      "source": [
        "Using Break to Exit Early:"
      ],
      "metadata": {
        "id": "krMnKful_0_A"
      }
    },
    {
      "cell_type": "code",
      "source": [
        "numbers = [10, 20, 30, 40, 50]\n",
        "for num in numbers:\n",
        "    if num == 30:\n",
        "        break\n",
        "    print(num)\n"
      ],
      "metadata": {
        "id": "kBpLTpzFOFuz"
      },
      "execution_count": null,
      "outputs": []
    },
    {
      "cell_type": "markdown",
      "source": [
        "Skip Processing Empty Lists with Pass:"
      ],
      "metadata": {
        "id": "6DTfvxmm_14U"
      }
    },
    {
      "cell_type": "code",
      "source": [
        "my_list = []\n",
        "for item in my_list:\n",
        "    pass\n"
      ],
      "metadata": {
        "id": "2qCaXRWEOHMT"
      },
      "execution_count": null,
      "outputs": []
    },
    {
      "cell_type": "markdown",
      "source": [
        "Break Out of Nested Loops:"
      ],
      "metadata": {
        "id": "9nsBn7oi_3EW"
      }
    },
    {
      "cell_type": "code",
      "source": [
        "for i in range(3):\n",
        "    for j in range(3):\n",
        "        if i == j == 1:\n",
        "            break  # Breaks out of both loops\n",
        "        print(f\"({i}, {j})\")\n"
      ],
      "metadata": {
        "id": "zzyMEd69OJPn"
      },
      "execution_count": null,
      "outputs": []
    },
    {
      "cell_type": "markdown",
      "source": [
        "Continue in a While Loop:"
      ],
      "metadata": {
        "id": "4SjypErZ_4GU"
      }
    },
    {
      "cell_type": "code",
      "source": [
        "num = 0\n",
        "while num < 5:\n",
        "    num += 1\n",
        "    if num == 3:\n",
        "        continue\n",
        "    print(num)\n"
      ],
      "metadata": {
        "id": "dt0eD304OKRX"
      },
      "execution_count": null,
      "outputs": []
    },
    {
      "cell_type": "markdown",
      "source": [
        "Pass in a Function:"
      ],
      "metadata": {
        "id": "YtF1BlFG_45E"
      }
    },
    {
      "cell_type": "code",
      "source": [
        "def my_function():\n",
        "    pass\n"
      ],
      "metadata": {
        "id": "sWQgBIquOLQk"
      },
      "execution_count": null,
      "outputs": []
    },
    {
      "cell_type": "markdown",
      "source": [
        "Use Break to Exit a Search Loop:"
      ],
      "metadata": {
        "id": "kNdTeyqg_55s"
      }
    },
    {
      "cell_type": "code",
      "source": [
        "search_list = [10, 20, 30, 40, 50]\n",
        "target = 30\n",
        "for index, value in enumerate(search_list):\n",
        "    if value == target:\n",
        "        print(f\"Found {target} at index {index}\")\n",
        "        break\n",
        "else:\n",
        "    print(f\"{target} not found in the list\")\n"
      ],
      "metadata": {
        "id": "IRQLFj8eOM6W"
      },
      "execution_count": null,
      "outputs": []
    },
    {
      "cell_type": "markdown",
      "source": [
        "Skip Processing on a Condition with Continue:"
      ],
      "metadata": {
        "id": "TUO9Xjph_7Gs"
      }
    },
    {
      "cell_type": "code",
      "source": [
        "numbers = [1, 2, 3, 4, 5]\n",
        "for num in numbers:\n",
        "    if num % 2 == 0:\n",
        "        continue\n",
        "    print(num)\n"
      ],
      "metadata": {
        "id": "po2sQ-ubOO2f"
      },
      "execution_count": null,
      "outputs": []
    },
    {
      "cell_type": "markdown",
      "source": [
        "Exit Early with Break in a While Loop:"
      ],
      "metadata": {
        "id": "bj_E47vm_8CP"
      }
    },
    {
      "cell_type": "code",
      "source": [
        "num = 1\n",
        "while num <= 10:\n",
        "    if num == 5:\n",
        "        break\n",
        "    print(num)\n",
        "    num += 1\n"
      ],
      "metadata": {
        "id": "4wW1BFFYOQY0"
      },
      "execution_count": null,
      "outputs": []
    },
    {
      "cell_type": "markdown",
      "source": [
        "Skip Over Errors with Pass:"
      ],
      "metadata": {
        "id": "OV_rR6nV_9Dl"
      }
    },
    {
      "cell_type": "code",
      "source": [
        "try:\n",
        "    # Some code that might raise an exception\n",
        "    pass\n",
        "except Exception:\n",
        "    pass\n"
      ],
      "metadata": {
        "id": "KRJNOUVGOR6X"
      },
      "execution_count": null,
      "outputs": []
    },
    {
      "cell_type": "markdown",
      "source": [
        "Use Continue to Skip Unwanted Items:"
      ],
      "metadata": {
        "id": "Ns9RIeK8_-I7"
      }
    },
    {
      "cell_type": "code",
      "source": [
        "items = [\"apple\", \"banana\", \"cherry\", \"date\"]\n",
        "for item in items:\n",
        "    if \"a\" not in item:\n",
        "        continue\n",
        "    print(item)\n"
      ],
      "metadata": {
        "id": "hOOMpexmO0hW"
      },
      "execution_count": null,
      "outputs": []
    },
    {
      "cell_type": "markdown",
      "source": [
        "Break Out of a Loop Early Based on User Input:"
      ],
      "metadata": {
        "id": "-wGjiHUO__W0"
      }
    },
    {
      "cell_type": "code",
      "source": [
        "while True:\n",
        "    user_input = input(\"Do you want to continue (yes/no)? \")\n",
        "    if user_input.lower() == \"no\":\n",
        "        break\n"
      ],
      "metadata": {
        "id": "wj6-5NdQO3h2"
      },
      "execution_count": null,
      "outputs": []
    },
    {
      "cell_type": "markdown",
      "source": [
        "Use Pass in a Class Definition:"
      ],
      "metadata": {
        "id": "zEzdC3YAAAhM"
      }
    },
    {
      "cell_type": "code",
      "source": [
        "class MyClass:\n",
        "    def my_method(self):\n",
        "        pass\n"
      ],
      "metadata": {
        "id": "j7ZE9XsqO5eT"
      },
      "execution_count": null,
      "outputs": []
    },
    {
      "cell_type": "markdown",
      "source": [
        "Use Continue in a Nested Loop:"
      ],
      "metadata": {
        "id": "nvFzoHwIAHPB"
      }
    },
    {
      "cell_type": "code",
      "source": [
        "for i in range(3):\n",
        "    for j in range(3):\n",
        "        if i == j:\n",
        "            continue\n",
        "        print(f\"({i}, {j})\")\n"
      ],
      "metadata": {
        "id": "Cb88-BDvO9li"
      },
      "execution_count": null,
      "outputs": []
    },
    {
      "cell_type": "markdown",
      "source": [
        "Pass with Placeholder Comments:"
      ],
      "metadata": {
        "id": "mzTNsNxRAIFx"
      }
    },
    {
      "cell_type": "code",
      "source": [
        "def my_function():\n",
        "    # TODO: Implement this function\n",
        "    pass\n"
      ],
      "metadata": {
        "id": "65f_-3WwPA7G"
      },
      "execution_count": null,
      "outputs": []
    },
    {
      "cell_type": "markdown",
      "source": [
        "Break Out of an Infinite Loop with a Condition:"
      ],
      "metadata": {
        "id": "OWN0LcKYAJ8M"
      }
    },
    {
      "cell_type": "code",
      "source": [
        "counter = 0\n",
        "while True:\n",
        "    if counter >= 5:\n",
        "        break\n",
        "    print(counter)\n",
        "    counter += 1\n"
      ],
      "metadata": {
        "id": "sgnuq5fXPEsI"
      },
      "execution_count": null,
      "outputs": []
    },
    {
      "cell_type": "markdown",
      "source": [
        "Continue Inside Nested Loops with a Condition:"
      ],
      "metadata": {
        "id": "J4TdUXBEALRS"
      }
    },
    {
      "cell_type": "code",
      "source": [
        "for i in range(3):\n",
        "    for j in range(3):\n",
        "        if i == 1 and j == 1:\n",
        "            continue\n",
        "        print(f\"({i}, {j})\")\n"
      ],
      "metadata": {
        "id": "mrVnofJJPF4T"
      },
      "execution_count": null,
      "outputs": []
    },
    {
      "cell_type": "markdown",
      "source": [
        "Break Loop Based on External Condition:"
      ],
      "metadata": {
        "id": "OrPEn7tNAMPl"
      }
    },
    {
      "cell_type": "code",
      "source": [
        "numbers = [10, 20, 30, 40, 50]\n",
        "target = 30\n",
        "found = False\n",
        "for index, value in enumerate(numbers):\n",
        "    if value == target:\n",
        "        found = True\n",
        "        break\n",
        "if found:\n",
        "    print(f\"Found {target} at index {index}\")\n",
        "else:\n",
        "    print(f\"{target} not found in the list\")\n"
      ],
      "metadata": {
        "id": "bJFXPkZTPIP8"
      },
      "execution_count": null,
      "outputs": []
    },
    {
      "cell_type": "markdown",
      "source": [
        "Skip Over Errors with Pass and Exception Handling:"
      ],
      "metadata": {
        "id": "8WQxYhg0ANgD"
      }
    },
    {
      "cell_type": "code",
      "source": [
        "try:\n",
        "    # Some code that might raise an exception\n",
        "    pass\n",
        "except Exception:\n",
        "    pass\n"
      ],
      "metadata": {
        "id": "d7prmsC-PJvz"
      },
      "execution_count": null,
      "outputs": []
    },
    {
      "cell_type": "markdown",
      "source": [
        "Break Out of a Loop with a Custom Exception:"
      ],
      "metadata": {
        "id": "jPxPkQhUAOeZ"
      }
    },
    {
      "cell_type": "code",
      "source": [
        "class CustomException(Exception):\n",
        "    pass\n",
        "\n",
        "for i in range(10):\n",
        "    if i == 5:\n",
        "        raise CustomException(\"Loop terminated due to custom exception.\")\n",
        "    print(i)\n"
      ],
      "metadata": {
        "id": "gSGbp-6oPMtT"
      },
      "execution_count": null,
      "outputs": []
    },
    {
      "cell_type": "markdown",
      "source": [
        "Continue in a While Loop with a Condition:"
      ],
      "metadata": {
        "id": "8Pia9LA5APeR"
      }
    },
    {
      "cell_type": "code",
      "source": [
        "num = 0\n",
        "while num < 10:\n",
        "    num += 1\n",
        "    if num % 2 == 0:\n",
        "        continue\n",
        "    print(num)\n"
      ],
      "metadata": {
        "id": "Lby3H-xzPN9E"
      },
      "execution_count": null,
      "outputs": []
    },
    {
      "cell_type": "markdown",
      "source": [
        "Use Pass for Stubbing in Test-Driven Development (TDD):"
      ],
      "metadata": {
        "id": "tDmD3g03AQu5"
      }
    },
    {
      "cell_type": "code",
      "source": [
        "def test_my_function():\n",
        "    # TODO: Write test cases for my_function\n",
        "    pass\n"
      ],
      "metadata": {
        "id": "M1yZypp2PPdf"
      },
      "execution_count": null,
      "outputs": []
    },
    {
      "cell_type": "markdown",
      "source": [
        "###################################"
      ],
      "metadata": {
        "id": "OnDm77bqATg8"
      }
    },
    {
      "cell_type": "markdown",
      "source": [
        "# ***OOPS***"
      ],
      "metadata": {
        "id": "z0O1R_mkAUoZ"
      }
    },
    {
      "cell_type": "markdown",
      "source": [
        "Create a Simple Class:"
      ],
      "metadata": {
        "id": "j8HKz9hfAWuy"
      }
    },
    {
      "cell_type": "code",
      "source": [
        "class Dog:\n",
        "    def __init__(self, name, breed):\n",
        "        self.name = name\n",
        "        self.breed = breed\n",
        "\n",
        "    def bark(self):\n",
        "        return f\"{self.name} says Woof!\"\n"
      ],
      "metadata": {
        "id": "UTLTuz1dPnCG"
      },
      "execution_count": null,
      "outputs": []
    },
    {
      "cell_type": "markdown",
      "source": [
        "Create Objects from a Class:"
      ],
      "metadata": {
        "id": "aOsaAASbAYEK"
      }
    },
    {
      "cell_type": "code",
      "source": [
        "dog1 = Dog(\"Buddy\", \"Golden Retriever\")\n",
        "dog2 = Dog(\"Daisy\", \"Beagle\")\n"
      ],
      "metadata": {
        "id": "52dkf2IrPrmp"
      },
      "execution_count": null,
      "outputs": []
    },
    {
      "cell_type": "markdown",
      "source": [
        "Access Object Attributes:"
      ],
      "metadata": {
        "id": "rLLw218rAZ7v"
      }
    },
    {
      "cell_type": "code",
      "source": [
        "print(dog1.name)\n",
        "print(dog2.breed)\n"
      ],
      "metadata": {
        "id": "Z6MFp0ppPwKs"
      },
      "execution_count": null,
      "outputs": []
    },
    {
      "cell_type": "markdown",
      "source": [
        "Call Object Methods:"
      ],
      "metadata": {
        "id": "4f_EYPm5Aa9z"
      }
    },
    {
      "cell_type": "code",
      "source": [
        "print(dog1.bark())\n",
        "print(dog2.bark())\n"
      ],
      "metadata": {
        "id": "0voWVCTLPyaB"
      },
      "execution_count": null,
      "outputs": []
    },
    {
      "cell_type": "markdown",
      "source": [
        "Inheritance - Create a Subclass:"
      ],
      "metadata": {
        "id": "5-YvZqjWAcbh"
      }
    },
    {
      "cell_type": "code",
      "source": [
        "class Dachshund(Dog):\n",
        "    def __init__(self, name):\n",
        "        super().__init__(name, \"Dachshund\")\n"
      ],
      "metadata": {
        "id": "AnM-slq9P0e8"
      },
      "execution_count": null,
      "outputs": []
    },
    {
      "cell_type": "markdown",
      "source": [
        "Override Parent Class Method:"
      ],
      "metadata": {
        "id": "I9mnIQhWAdVS"
      }
    },
    {
      "cell_type": "code",
      "source": [
        "class Dachshund(Dog):\n",
        "    def bark(self):\n",
        "        return f\"{self.name} says Arf!\"\n"
      ],
      "metadata": {
        "id": "phr_H5QzP3tg"
      },
      "execution_count": null,
      "outputs": []
    },
    {
      "cell_type": "markdown",
      "source": [
        "Encapsulation - Private Attribute:"
      ],
      "metadata": {
        "id": "iy1FStTuAeM5"
      }
    },
    {
      "cell_type": "code",
      "source": [
        "class BankAccount:\n",
        "    def __init__(self, account_number, balance):\n",
        "        self.__account_number = account_number\n",
        "        self.__balance = balance\n",
        "\n",
        "    def get_balance(self):\n",
        "        return self.__balance\n"
      ],
      "metadata": {
        "id": "T21wtA5tP5cB"
      },
      "execution_count": null,
      "outputs": []
    },
    {
      "cell_type": "markdown",
      "source": [
        "Polymorphism - Use a Common Method:"
      ],
      "metadata": {
        "id": "XjNhlOXVAfh4"
      }
    },
    {
      "cell_type": "code",
      "source": [
        "def introduce(pet):\n",
        "    print(f\"I am {pet.name}, a {pet.__class__.__name__}.\")\n",
        "\n",
        "introduce(dog1)\n",
        "introduce(Dachshund(\"Max\"))\n"
      ],
      "metadata": {
        "id": "qVXF77UcP8lq"
      },
      "execution_count": null,
      "outputs": []
    },
    {
      "cell_type": "markdown",
      "source": [
        "Composition - Create a Complex Object:"
      ],
      "metadata": {
        "id": "XgWKQG5zAgif"
      }
    },
    {
      "cell_type": "code",
      "source": [
        "class Engine:\n",
        "    def start(self):\n",
        "        print(\"Engine started.\")\n",
        "\n",
        "class Car:\n",
        "    def __init__(self):\n",
        "        self.engine = Engine()\n",
        "\n",
        "my_car = Car()\n",
        "my_car.engine.start()\n"
      ],
      "metadata": {
        "id": "hV7WqdDXP-G5"
      },
      "execution_count": null,
      "outputs": []
    },
    {
      "cell_type": "markdown",
      "source": [
        "Class Variables and Methods:"
      ],
      "metadata": {
        "id": "qtrPOosoAhpF"
      }
    },
    {
      "cell_type": "code",
      "source": [
        "class Circle:\n",
        "    pi = 3.1416\n",
        "\n",
        "    def __init__(self, radius):\n",
        "        self.radius = radius\n",
        "\n",
        "    def calculate_area(self):\n",
        "        return Circle.pi * self.radius**2\n"
      ],
      "metadata": {
        "id": "FpEbqMx8P_PO"
      },
      "execution_count": null,
      "outputs": []
    },
    {
      "cell_type": "markdown",
      "source": [
        "Multiple Inheritance:"
      ],
      "metadata": {
        "id": "SZQP2yO2AijP"
      }
    },
    {
      "cell_type": "code",
      "source": [
        "class A:\n",
        "    def method(self):\n",
        "        print(\"Method in class A\")\n",
        "\n",
        "class B:\n",
        "    def method(self):\n",
        "        print(\"Method in class B\")\n",
        "\n",
        "class C(A, B):\n",
        "    pass\n",
        "\n",
        "obj = C()\n",
        "obj.method()  # Calls method from class A\n"
      ],
      "metadata": {
        "id": "lJVgViIaQA_0"
      },
      "execution_count": null,
      "outputs": []
    },
    {
      "cell_type": "markdown",
      "source": [
        "Abstract Base Class:"
      ],
      "metadata": {
        "id": "2RKTpjkkAj21"
      }
    },
    {
      "cell_type": "code",
      "source": [
        "from abc import ABC, abstractmethod\n",
        "\n",
        "class Shape(ABC):\n",
        "    @abstractmethod\n",
        "    def area(self):\n",
        "        pass\n",
        "\n",
        "class Circle(Shape):\n",
        "    def __init__(self, radius):\n",
        "        self.radius = radius\n",
        "\n",
        "    def area(self):\n",
        "        return 3.1416 * self.radius**2\n"
      ],
      "metadata": {
        "id": "9we60yzWQCX3"
      },
      "execution_count": null,
      "outputs": []
    },
    {
      "cell_type": "markdown",
      "source": [
        "Class Decorators - Property:"
      ],
      "metadata": {
        "id": "0Cf6VAAfAlQV"
      }
    },
    {
      "cell_type": "code",
      "source": [
        "class Celsius:\n",
        "    def __init__(self, temperature=0):\n",
        "        self._temperature = temperature\n",
        "\n",
        "    @property\n",
        "    def temperature(self):\n",
        "        return self._temperature\n",
        "\n",
        "    @temperature.setter\n",
        "    def temperature(self, value):\n",
        "        if value < -273.15:\n",
        "            raise ValueError(\"Temperature below absolute zero is not possible.\")\n",
        "        self._temperature = value\n"
      ],
      "metadata": {
        "id": "e7ekllFwQD3r"
      },
      "execution_count": null,
      "outputs": []
    },
    {
      "cell_type": "markdown",
      "source": [
        "Class Decorators - Classmethod:"
      ],
      "metadata": {
        "id": "WNFz-rWNAmQ9"
      }
    },
    {
      "cell_type": "code",
      "source": [
        "class MyClass:\n",
        "    count = 0\n",
        "\n",
        "    def __init__(self):\n",
        "        MyClass.count += 1\n",
        "\n",
        "    @classmethod\n",
        "    def get_instance_count(cls):\n",
        "        return cls.count\n"
      ],
      "metadata": {
        "id": "Rm98C9PnQF2H"
      },
      "execution_count": null,
      "outputs": []
    },
    {
      "cell_type": "markdown",
      "source": [
        "Class Decorators - Staticmethod:"
      ],
      "metadata": {
        "id": "AjUr8k4NAnOd"
      }
    },
    {
      "cell_type": "code",
      "source": [
        "class MathUtils:\n",
        "    @staticmethod\n",
        "    def add(a, b):\n",
        "        return a + b\n",
        "\n",
        "result = MathUtils.add(3, 5)\n"
      ],
      "metadata": {
        "id": "mBXQV89WQHKj"
      },
      "execution_count": null,
      "outputs": []
    },
    {
      "cell_type": "markdown",
      "source": [
        "Operator Overloading:"
      ],
      "metadata": {
        "id": "_aFyRtUFAn93"
      }
    },
    {
      "cell_type": "code",
      "source": [
        "class Vector:\n",
        "    def __init__(self, x, y):\n",
        "        self.x = x\n",
        "        self.y = y\n",
        "\n",
        "    def __add__(self, other):\n",
        "        return Vector(self.x + other.x, self.y + other.y)\n"
      ],
      "metadata": {
        "id": "vgo6rd_YQIo1"
      },
      "execution_count": null,
      "outputs": []
    },
    {
      "cell_type": "markdown",
      "source": [
        "Property Deletion:"
      ],
      "metadata": {
        "id": "3TrPpeYqApck"
      }
    },
    {
      "cell_type": "code",
      "source": [
        "class Student:\n",
        "    def __init__(self, name, age):\n",
        "        self.name = name\n",
        "        self.age = age\n",
        "\n",
        "    def del_age(self):\n",
        "        print(\"Deleting age.\")\n",
        "        del self._age\n",
        "\n",
        "    age = property(None, del_age)\n"
      ],
      "metadata": {
        "id": "WBprh4-wQLXE"
      },
      "execution_count": null,
      "outputs": []
    },
    {
      "cell_type": "markdown",
      "source": [
        "Class Composition with Aggregation:"
      ],
      "metadata": {
        "id": "eYsivytxArHo"
      }
    },
    {
      "cell_type": "code",
      "source": [
        "class Book:\n",
        "    def __init__(self, title, author):\n",
        "        self.title = title\n",
        "        self.author = author\n",
        "\n",
        "class Library:\n",
        "    def __init__(self):\n",
        "        self.books = []\n",
        "\n",
        "    def add_book(self, book):\n",
        "        self.books.append(book)\n"
      ],
      "metadata": {
        "id": "DwnTp5ETQOjx"
      },
      "execution_count": null,
      "outputs": []
    },
    {
      "cell_type": "markdown",
      "source": [
        "Class Composition with Composition:"
      ],
      "metadata": {
        "id": "DC39invmAsLV"
      }
    },
    {
      "cell_type": "code",
      "source": [
        "class Address:\n",
        "    def __init__(self, street, city):\n",
        "        self.street = street\n",
        "        self.city = city\n",
        "\n",
        "class Person:\n",
        "    def __init__(self, name, address):\n",
        "        self.name = name\n",
        "        self.address = address\n"
      ],
      "metadata": {
        "id": "t8Ye-x5MQPyy"
      },
      "execution_count": null,
      "outputs": []
    },
    {
      "cell_type": "markdown",
      "source": [
        "Metaclass - Create a Custom Metaclass:"
      ],
      "metadata": {
        "id": "ZqNTFZ2xAtK4"
      }
    },
    {
      "cell_type": "code",
      "source": [
        "class SingletonMeta(type):\n",
        "    _instances = {}\n",
        "\n",
        "    def __call__(cls, *args, **kwargs):\n",
        "        if cls not in cls._instances:\n",
        "            cls._instances[cls] = super(SingletonMeta, cls).__call__(*args, **kwargs)\n",
        "        return cls._instances[cls]\n",
        "\n",
        "class Singleton(metaclass=SingletonMeta):\n",
        "    def __init__(self):\n",
        "        self.value = None\n",
        "\n",
        "    def set_value(self, value):\n",
        "        self.value = value\n",
        "\n",
        "    def get_value(self):\n",
        "        return self.value\n"
      ],
      "metadata": {
        "id": "3vIyzk_CQRn2"
      },
      "execution_count": null,
      "outputs": []
    },
    {
      "cell_type": "markdown",
      "source": [
        "###################################"
      ],
      "metadata": {
        "id": "Mw8RbNwXA38I"
      }
    },
    {
      "cell_type": "markdown",
      "source": [
        "# ***FUNCTIONS***"
      ],
      "metadata": {
        "id": "gAelFO4HA8ic"
      }
    },
    {
      "cell_type": "markdown",
      "source": [
        "Define a Simple Function:"
      ],
      "metadata": {
        "id": "3c29RcDgBAEx"
      }
    },
    {
      "cell_type": "code",
      "source": [
        "def greet(name):\n",
        "    return f\"Hello, {name}!\"\n"
      ],
      "metadata": {
        "id": "Ug3YOAGBQtOg"
      },
      "execution_count": null,
      "outputs": []
    },
    {
      "cell_type": "markdown",
      "source": [
        "Function with Default Parameter:"
      ],
      "metadata": {
        "id": "Y5yDJ9BQBBPN"
      }
    },
    {
      "cell_type": "code",
      "source": [
        "def multiply(a, b=2):\n",
        "    return a * b\n"
      ],
      "metadata": {
        "id": "kTg-HH-RQwMb"
      },
      "execution_count": null,
      "outputs": []
    },
    {
      "cell_type": "markdown",
      "source": [
        "Function with Variable-Length Arguments:"
      ],
      "metadata": {
        "id": "F97RCjySBC--"
      }
    },
    {
      "cell_type": "code",
      "source": [
        "def sum_values(*args):\n",
        "    return sum(args)\n"
      ],
      "metadata": {
        "id": "fMOaxMZOQxcH"
      },
      "execution_count": null,
      "outputs": []
    },
    {
      "cell_type": "markdown",
      "source": [
        "Function with Named Arguments:"
      ],
      "metadata": {
        "id": "ysE17duYBD7E"
      }
    },
    {
      "cell_type": "code",
      "source": [
        "def person_info(name, age):\n",
        "    return f\"Name: {name}, Age: {age}\"\n"
      ],
      "metadata": {
        "id": "g4lZJvr_Qy9o"
      },
      "execution_count": null,
      "outputs": []
    },
    {
      "cell_type": "markdown",
      "source": [
        "Function with Docstring:"
      ],
      "metadata": {
        "id": "mnEfmCOZBE3V"
      }
    },
    {
      "cell_type": "code",
      "source": [
        "def add(x, y):\n",
        "    \"\"\"\n",
        "    This function adds two numbers.\n",
        "    \"\"\"\n",
        "    return x + y\n"
      ],
      "metadata": {
        "id": "NKLrKdbRQ0W9"
      },
      "execution_count": null,
      "outputs": []
    },
    {
      "cell_type": "markdown",
      "source": [
        "Function Returning Multiple Values:"
      ],
      "metadata": {
        "id": "z5SGDpETBF_Y"
      }
    },
    {
      "cell_type": "code",
      "source": [
        "def divide_and_remainder(a, b):\n",
        "    quotient = a // b\n",
        "    remainder = a % b\n",
        "    return quotient, remainder\n"
      ],
      "metadata": {
        "id": "AFkdeG4LQ1uT"
      },
      "execution_count": null,
      "outputs": []
    },
    {
      "cell_type": "markdown",
      "source": [
        "Nested Function:"
      ],
      "metadata": {
        "id": "_nk85wL5BG5L"
      }
    },
    {
      "cell_type": "code",
      "source": [
        "def outer_function(x):\n",
        "    def inner_function(y):\n",
        "        return x + y\n",
        "    return inner_function\n"
      ],
      "metadata": {
        "id": "4ntR1eDsQ3Aw"
      },
      "execution_count": null,
      "outputs": []
    },
    {
      "cell_type": "markdown",
      "source": [
        "Function as a Parameter:"
      ],
      "metadata": {
        "id": "ivXOWEZJBHvk"
      }
    },
    {
      "cell_type": "code",
      "source": [
        "def apply(func, value):\n",
        "    return func(value)\n",
        "\n",
        "def square(x):\n",
        "    return x ** 2\n"
      ],
      "metadata": {
        "id": "dw8MvSs6Q4LY"
      },
      "execution_count": null,
      "outputs": []
    },
    {
      "cell_type": "markdown",
      "source": [
        "Function with Default Arguments:"
      ],
      "metadata": {
        "id": "MIZZ-wAxBIqx"
      }
    },
    {
      "cell_type": "code",
      "source": [
        "def greet_with_message(name, message=\"Hello\"):\n",
        "    return f\"{message}, {name}!\"\n"
      ],
      "metadata": {
        "id": "UN3hnFnqQ51j"
      },
      "execution_count": null,
      "outputs": []
    },
    {
      "cell_type": "markdown",
      "source": [
        "Function to Check if a Number is Even:"
      ],
      "metadata": {
        "id": "Rgv58ykDBJ88"
      }
    },
    {
      "cell_type": "code",
      "source": [
        "def is_even(num):\n",
        "    return num % 2 == 0\n"
      ],
      "metadata": {
        "id": "2R4TA5dtQ7GK"
      },
      "execution_count": null,
      "outputs": []
    },
    {
      "cell_type": "markdown",
      "source": [
        "Recursive Function - Factorial:"
      ],
      "metadata": {
        "id": "Urw1XAldBLFB"
      }
    },
    {
      "cell_type": "code",
      "source": [
        "def factorial(n):\n",
        "    if n == 0:\n",
        "        return 1\n",
        "    else:\n",
        "        return n * factorial(n-1)\n"
      ],
      "metadata": {
        "id": "UognY4tcQ9AI"
      },
      "execution_count": null,
      "outputs": []
    },
    {
      "cell_type": "markdown",
      "source": [
        "Higher-Order Function - Map:"
      ],
      "metadata": {
        "id": "bbCs6XOSBMMh"
      }
    },
    {
      "cell_type": "code",
      "source": [
        "def square(x):\n",
        "    return x ** 2\n",
        "\n",
        "numbers = [1, 2, 3, 4, 5]\n",
        "squared_numbers = list(map(square, numbers))\n"
      ],
      "metadata": {
        "id": "PkoIbH4-Q-vN"
      },
      "execution_count": null,
      "outputs": []
    },
    {
      "cell_type": "markdown",
      "source": [
        "Function with Keyword-Only Arguments:"
      ],
      "metadata": {
        "id": "cYjvYEBJBNSz"
      }
    },
    {
      "cell_type": "code",
      "source": [
        "def greet(name, *, message=\"Hello\"):\n",
        "    return f\"{message}, {name}!\"\n"
      ],
      "metadata": {
        "id": "RLr0GPQkRAOL"
      },
      "execution_count": null,
      "outputs": []
    },
    {
      "cell_type": "markdown",
      "source": [
        "Generator Function - Fibonacci Sequence:"
      ],
      "metadata": {
        "id": "4LK-0hALBORE"
      }
    },
    {
      "cell_type": "code",
      "source": [
        "def fibonacci():\n",
        "    a, b = 0, 1\n",
        "    while True:\n",
        "        yield a\n",
        "        a, b = b, a + b\n"
      ],
      "metadata": {
        "id": "V24G_Md_RCYY"
      },
      "execution_count": null,
      "outputs": []
    },
    {
      "cell_type": "markdown",
      "source": [
        "Function with Arbitrary Keyword Arguments:"
      ],
      "metadata": {
        "id": "YaQGxxB8BPQa"
      }
    },
    {
      "cell_type": "code",
      "source": [
        "def print_info(**kwargs):\n",
        "    for key, value in kwargs.items():\n",
        "        print(f\"{key}: {value}\")\n"
      ],
      "metadata": {
        "id": "hR8MKZHCRZ6L"
      },
      "execution_count": null,
      "outputs": []
    },
    {
      "cell_type": "markdown",
      "source": [
        "Function with Function Annotation:"
      ],
      "metadata": {
        "id": "12iFl9B3BQNg"
      }
    },
    {
      "cell_type": "code",
      "source": [
        "def add(x: int, y: int) -> int:\n",
        "    return x + y\n"
      ],
      "metadata": {
        "id": "b3J4qcpNRb6O"
      },
      "execution_count": null,
      "outputs": []
    },
    {
      "cell_type": "markdown",
      "source": [
        "Lambda Function - Find the Square:"
      ],
      "metadata": {
        "id": "xiKq-ujZBRFZ"
      }
    },
    {
      "cell_type": "code",
      "source": [
        "square = lambda x: x ** 2\n",
        "result = square(5)\n"
      ],
      "metadata": {
        "id": "xakf2HdYRdTv"
      },
      "execution_count": null,
      "outputs": []
    },
    {
      "cell_type": "markdown",
      "source": [
        "Function to Reverse a String:"
      ],
      "metadata": {
        "id": "6lFjrxOEBR-P"
      }
    },
    {
      "cell_type": "code",
      "source": [
        "def reverse_string(s):\n",
        "    return s[::-1]\n"
      ],
      "metadata": {
        "id": "tRuJeb8ZRe6O"
      },
      "execution_count": null,
      "outputs": []
    },
    {
      "cell_type": "markdown",
      "source": [
        "Function to Find Prime Numbers:"
      ],
      "metadata": {
        "id": "_9fykKOWBS4p"
      }
    },
    {
      "cell_type": "code",
      "source": [
        "def is_prime(num):\n",
        "    if num < 2:\n",
        "        return False\n",
        "    for i in range(2, int(num**0.5) + 1):\n",
        "        if num % i == 0:\n",
        "            return False\n",
        "    return True\n"
      ],
      "metadata": {
        "id": "6JRcte-_RgKo"
      },
      "execution_count": null,
      "outputs": []
    }
  ]
}